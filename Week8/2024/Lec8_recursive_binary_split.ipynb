{
  "nbformat": 4,
  "nbformat_minor": 0,
  "metadata": {
    "colab": {
      "provenance": [],
      "authorship_tag": "ABX9TyMdcs2jBG+clBZ6R3HgT51N",
      "include_colab_link": true
    },
    "kernelspec": {
      "name": "python3",
      "display_name": "Python 3"
    },
    "language_info": {
      "name": "python"
    }
  },
  "cells": [
    {
      "cell_type": "markdown",
      "metadata": {
        "id": "view-in-github",
        "colab_type": "text"
      },
      "source": [
        "<a href=\"https://colab.research.google.com/github/rajdeepbanerjee-git/JNCLectures_Intro_to_ML/blob/main/Week8/Lec8_recursive_binary_split.ipynb\" target=\"_parent\"><img src=\"https://colab.research.google.com/assets/colab-badge.svg\" alt=\"Open In Colab\"/></a>"
      ]
    },
    {
      "cell_type": "markdown",
      "source": [
        "Given a list of numbers generated randomly, you need to perform recursive binary splits till a node size goes below a given threshold. Return the lead node lists and cut-points used to reach those lists."
      ],
      "metadata": {
        "id": "rudRRl8xtn7M"
      }
    },
    {
      "cell_type": "code",
      "source": [
        "import numpy as np\n",
        "\n",
        "a_list = np.random.randint(1, 10, 20)\n",
        "a_list"
      ],
      "metadata": {
        "colab": {
          "base_uri": "https://localhost:8080/"
        },
        "id": "d__yGMdPtpu1",
        "outputId": "f2e6b9ca-803c-422d-dfa9-9007eca1d011"
      },
      "execution_count": 11,
      "outputs": [
        {
          "output_type": "execute_result",
          "data": {
            "text/plain": [
              "array([5, 1, 7, 7, 7, 8, 7, 7, 1, 3, 5, 6, 5, 3, 9, 2, 8, 3, 8, 7])"
            ]
          },
          "metadata": {},
          "execution_count": 11
        }
      ]
    },
    {
      "cell_type": "code",
      "source": [
        "def select_cutpoint(A):\n",
        "  return len(A)//2"
      ],
      "metadata": {
        "id": "EVu6VLNHtprZ"
      },
      "execution_count": 12,
      "outputs": []
    },
    {
      "cell_type": "code",
      "source": [
        "def split_list(A, cut_point):\n",
        "  if len(A) <= thr:\n",
        "    return A\n",
        "  else:\n",
        "    list_left = A[:cut_point]\n",
        "    list_right = A[cut_point:]\n",
        "    return [list_left, list_right]"
      ],
      "metadata": {
        "id": "M0o8_ygBtpoC"
      },
      "execution_count": 13,
      "outputs": []
    },
    {
      "cell_type": "code",
      "source": [
        "left_terminal_nodes = []\n",
        "right_terminal_nodes = []\n",
        "splits = []\n",
        "# terminal_nodes_left = []\n",
        "# terminal_nodes_right = []\n",
        "\n",
        "def build_tree(group):\n",
        "\n",
        "  # assuming you have done the 1st split\n",
        "  left = list(group[0])\n",
        "  right = list(group[1])\n",
        "\n",
        "  # # if there is no split concat and return\n",
        "  # if not left or not right:\n",
        "  #   terminal_nodes.append(left + right)\n",
        "  #   return\n",
        "\n",
        "  # check and split\n",
        "  if len(left) <= thr + 1:\n",
        "    print(\"left\", left)\n",
        "\n",
        "  else:\n",
        "    cp_left = select_cutpoint(A = left)\n",
        "    group_left_split = split_list(A = left, cut_point = cp_left )\n",
        "    build_tree(group_left_split)\n",
        "    splits.append(group_left_split)\n",
        "\n",
        "\n",
        "  # check and split\n",
        "  if len(right) <= thr + 1:\n",
        "    print(\"right\", right)\n",
        "\n",
        "  else:\n",
        "    cp_right = select_cutpoint(A = right)\n",
        "    group_right_split = split_list(A = right, cut_point = cp_right )\n",
        "    build_tree(group_right_split)\n",
        "    splits.append(group_right_split)\n",
        "\n"
      ],
      "metadata": {
        "id": "Nuhay1B7PftD"
      },
      "execution_count": 123,
      "outputs": []
    },
    {
      "cell_type": "code",
      "source": [
        "thr = 3\n",
        "cp = select_cutpoint(A = a_list)\n",
        "group = split_list(A = a_list, cut_point = cp)"
      ],
      "metadata": {
        "id": "G7UsT3DDtpk6"
      },
      "execution_count": 124,
      "outputs": []
    },
    {
      "cell_type": "code",
      "source": [
        "print(a_list)\n",
        "build_tree(group = group)"
      ],
      "metadata": {
        "id": "IpkmhYXm5_MC",
        "colab": {
          "base_uri": "https://localhost:8080/"
        },
        "outputId": "0310aaae-5f93-4d3d-da91-e32b69b30e19"
      },
      "execution_count": 125,
      "outputs": [
        {
          "output_type": "stream",
          "name": "stdout",
          "text": [
            "[5 1 7 7 7 8 7 7 1 3 5 6 5 3 9 2 8 3 8 7]\n",
            "left [5, 1]\n",
            "right [7, 7, 7]\n",
            "left [8, 7]\n",
            "right [7, 1, 3]\n",
            "left [5, 6]\n",
            "right [5, 3, 9]\n",
            "left [2, 8]\n",
            "right [3, 8, 7]\n"
          ]
        }
      ]
    },
    {
      "cell_type": "code",
      "source": [
        "splits"
      ],
      "metadata": {
        "id": "1UqCav9j43xG",
        "colab": {
          "base_uri": "https://localhost:8080/"
        },
        "outputId": "9d6ac7d5-f07e-48fd-82bf-43db247a5d22"
      },
      "execution_count": 113,
      "outputs": [
        {
          "output_type": "execute_result",
          "data": {
            "text/plain": [
              "[]"
            ]
          },
          "metadata": {},
          "execution_count": 113
        }
      ]
    },
    {
      "cell_type": "code",
      "source": [],
      "metadata": {
        "id": "NWH2FG8h43rK"
      },
      "execution_count": null,
      "outputs": []
    },
    {
      "cell_type": "code",
      "source": [],
      "metadata": {
        "id": "WS4mmn4243lN"
      },
      "execution_count": null,
      "outputs": []
    },
    {
      "cell_type": "code",
      "execution_count": null,
      "metadata": {
        "id": "xxRi_gYNtm1-"
      },
      "outputs": [],
      "source": []
    }
  ]
}