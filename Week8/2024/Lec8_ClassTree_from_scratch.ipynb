{
  "nbformat": 4,
  "nbformat_minor": 0,
  "metadata": {
    "colab": {
      "provenance": [],
      "authorship_tag": "ABX9TyMGxJb5V86jkVuvgBWaOoXC",
      "include_colab_link": true
    },
    "kernelspec": {
      "name": "python3",
      "display_name": "Python 3"
    },
    "language_info": {
      "name": "python"
    }
  },
  "cells": [
    {
      "cell_type": "markdown",
      "metadata": {
        "id": "view-in-github",
        "colab_type": "text"
      },
      "source": [
        "<a href=\"https://colab.research.google.com/github/rajdeepbanerjee-git/JNCLectures_Intro_to_ML/blob/main/Week8/Lec8_ClassTree_from_scratch.ipynb\" target=\"_parent\"><img src=\"https://colab.research.google.com/assets/colab-badge.svg\" alt=\"Open In Colab\"/></a>"
      ]
    },
    {
      "cell_type": "code",
      "source": [
        "import numpy as np\n",
        "import pandas as pd\n",
        "import matplotlib.pyplot as plt\n",
        "\n",
        "import warnings\n",
        "warnings.filterwarnings(\"ignore\")"
      ],
      "metadata": {
        "id": "V_NqKZub7nJK"
      },
      "execution_count": null,
      "outputs": []
    },
    {
      "cell_type": "markdown",
      "source": [
        "Data ref [link](https://www.kaggle.com/datasets/mathchi/hitters-baseball-data)"
      ],
      "metadata": {
        "id": "lzo7egV686hd"
      }
    },
    {
      "cell_type": "code",
      "source": [
        "data = pd.read_csv(\"Hitters.csv\")\n",
        "data_req = data[[\"Years\", \"Hits\", \"Salary\"]]\n",
        "data_req.head()"
      ],
      "metadata": {
        "colab": {
          "base_uri": "https://localhost:8080/",
          "height": 206
        },
        "id": "9t3lf-Ur7nFp",
        "outputId": "a2ea69ba-8768-4239-e0c1-4258e5ee8320"
      },
      "execution_count": null,
      "outputs": [
        {
          "output_type": "execute_result",
          "data": {
            "text/plain": [
              "   Years  Hits  Salary\n",
              "0      1    66     NaN\n",
              "1     14    81   475.0\n",
              "2      3   130   480.0\n",
              "3     11   141   500.0\n",
              "4      2    87    91.5"
            ],
            "text/html": [
              "\n",
              "  <div id=\"df-f3b33897-0276-43e8-b9b5-8fbbd04a753d\" class=\"colab-df-container\">\n",
              "    <div>\n",
              "<style scoped>\n",
              "    .dataframe tbody tr th:only-of-type {\n",
              "        vertical-align: middle;\n",
              "    }\n",
              "\n",
              "    .dataframe tbody tr th {\n",
              "        vertical-align: top;\n",
              "    }\n",
              "\n",
              "    .dataframe thead th {\n",
              "        text-align: right;\n",
              "    }\n",
              "</style>\n",
              "<table border=\"1\" class=\"dataframe\">\n",
              "  <thead>\n",
              "    <tr style=\"text-align: right;\">\n",
              "      <th></th>\n",
              "      <th>Years</th>\n",
              "      <th>Hits</th>\n",
              "      <th>Salary</th>\n",
              "    </tr>\n",
              "  </thead>\n",
              "  <tbody>\n",
              "    <tr>\n",
              "      <th>0</th>\n",
              "      <td>1</td>\n",
              "      <td>66</td>\n",
              "      <td>NaN</td>\n",
              "    </tr>\n",
              "    <tr>\n",
              "      <th>1</th>\n",
              "      <td>14</td>\n",
              "      <td>81</td>\n",
              "      <td>475.0</td>\n",
              "    </tr>\n",
              "    <tr>\n",
              "      <th>2</th>\n",
              "      <td>3</td>\n",
              "      <td>130</td>\n",
              "      <td>480.0</td>\n",
              "    </tr>\n",
              "    <tr>\n",
              "      <th>3</th>\n",
              "      <td>11</td>\n",
              "      <td>141</td>\n",
              "      <td>500.0</td>\n",
              "    </tr>\n",
              "    <tr>\n",
              "      <th>4</th>\n",
              "      <td>2</td>\n",
              "      <td>87</td>\n",
              "      <td>91.5</td>\n",
              "    </tr>\n",
              "  </tbody>\n",
              "</table>\n",
              "</div>\n",
              "    <div class=\"colab-df-buttons\">\n",
              "\n",
              "  <div class=\"colab-df-container\">\n",
              "    <button class=\"colab-df-convert\" onclick=\"convertToInteractive('df-f3b33897-0276-43e8-b9b5-8fbbd04a753d')\"\n",
              "            title=\"Convert this dataframe to an interactive table.\"\n",
              "            style=\"display:none;\">\n",
              "\n",
              "  <svg xmlns=\"http://www.w3.org/2000/svg\" height=\"24px\" viewBox=\"0 -960 960 960\">\n",
              "    <path d=\"M120-120v-720h720v720H120Zm60-500h600v-160H180v160Zm220 220h160v-160H400v160Zm0 220h160v-160H400v160ZM180-400h160v-160H180v160Zm440 0h160v-160H620v160ZM180-180h160v-160H180v160Zm440 0h160v-160H620v160Z\"/>\n",
              "  </svg>\n",
              "    </button>\n",
              "\n",
              "  <style>\n",
              "    .colab-df-container {\n",
              "      display:flex;\n",
              "      gap: 12px;\n",
              "    }\n",
              "\n",
              "    .colab-df-convert {\n",
              "      background-color: #E8F0FE;\n",
              "      border: none;\n",
              "      border-radius: 50%;\n",
              "      cursor: pointer;\n",
              "      display: none;\n",
              "      fill: #1967D2;\n",
              "      height: 32px;\n",
              "      padding: 0 0 0 0;\n",
              "      width: 32px;\n",
              "    }\n",
              "\n",
              "    .colab-df-convert:hover {\n",
              "      background-color: #E2EBFA;\n",
              "      box-shadow: 0px 1px 2px rgba(60, 64, 67, 0.3), 0px 1px 3px 1px rgba(60, 64, 67, 0.15);\n",
              "      fill: #174EA6;\n",
              "    }\n",
              "\n",
              "    .colab-df-buttons div {\n",
              "      margin-bottom: 4px;\n",
              "    }\n",
              "\n",
              "    [theme=dark] .colab-df-convert {\n",
              "      background-color: #3B4455;\n",
              "      fill: #D2E3FC;\n",
              "    }\n",
              "\n",
              "    [theme=dark] .colab-df-convert:hover {\n",
              "      background-color: #434B5C;\n",
              "      box-shadow: 0px 1px 3px 1px rgba(0, 0, 0, 0.15);\n",
              "      filter: drop-shadow(0px 1px 2px rgba(0, 0, 0, 0.3));\n",
              "      fill: #FFFFFF;\n",
              "    }\n",
              "  </style>\n",
              "\n",
              "    <script>\n",
              "      const buttonEl =\n",
              "        document.querySelector('#df-f3b33897-0276-43e8-b9b5-8fbbd04a753d button.colab-df-convert');\n",
              "      buttonEl.style.display =\n",
              "        google.colab.kernel.accessAllowed ? 'block' : 'none';\n",
              "\n",
              "      async function convertToInteractive(key) {\n",
              "        const element = document.querySelector('#df-f3b33897-0276-43e8-b9b5-8fbbd04a753d');\n",
              "        const dataTable =\n",
              "          await google.colab.kernel.invokeFunction('convertToInteractive',\n",
              "                                                    [key], {});\n",
              "        if (!dataTable) return;\n",
              "\n",
              "        const docLinkHtml = 'Like what you see? Visit the ' +\n",
              "          '<a target=\"_blank\" href=https://colab.research.google.com/notebooks/data_table.ipynb>data table notebook</a>'\n",
              "          + ' to learn more about interactive tables.';\n",
              "        element.innerHTML = '';\n",
              "        dataTable['output_type'] = 'display_data';\n",
              "        await google.colab.output.renderOutput(dataTable, element);\n",
              "        const docLink = document.createElement('div');\n",
              "        docLink.innerHTML = docLinkHtml;\n",
              "        element.appendChild(docLink);\n",
              "      }\n",
              "    </script>\n",
              "  </div>\n",
              "\n",
              "\n",
              "<div id=\"df-5d8b1895-7c46-4400-a1e7-79eda4366682\">\n",
              "  <button class=\"colab-df-quickchart\" onclick=\"quickchart('df-5d8b1895-7c46-4400-a1e7-79eda4366682')\"\n",
              "            title=\"Suggest charts\"\n",
              "            style=\"display:none;\">\n",
              "\n",
              "<svg xmlns=\"http://www.w3.org/2000/svg\" height=\"24px\"viewBox=\"0 0 24 24\"\n",
              "     width=\"24px\">\n",
              "    <g>\n",
              "        <path d=\"M19 3H5c-1.1 0-2 .9-2 2v14c0 1.1.9 2 2 2h14c1.1 0 2-.9 2-2V5c0-1.1-.9-2-2-2zM9 17H7v-7h2v7zm4 0h-2V7h2v10zm4 0h-2v-4h2v4z\"/>\n",
              "    </g>\n",
              "</svg>\n",
              "  </button>\n",
              "\n",
              "<style>\n",
              "  .colab-df-quickchart {\n",
              "      --bg-color: #E8F0FE;\n",
              "      --fill-color: #1967D2;\n",
              "      --hover-bg-color: #E2EBFA;\n",
              "      --hover-fill-color: #174EA6;\n",
              "      --disabled-fill-color: #AAA;\n",
              "      --disabled-bg-color: #DDD;\n",
              "  }\n",
              "\n",
              "  [theme=dark] .colab-df-quickchart {\n",
              "      --bg-color: #3B4455;\n",
              "      --fill-color: #D2E3FC;\n",
              "      --hover-bg-color: #434B5C;\n",
              "      --hover-fill-color: #FFFFFF;\n",
              "      --disabled-bg-color: #3B4455;\n",
              "      --disabled-fill-color: #666;\n",
              "  }\n",
              "\n",
              "  .colab-df-quickchart {\n",
              "    background-color: var(--bg-color);\n",
              "    border: none;\n",
              "    border-radius: 50%;\n",
              "    cursor: pointer;\n",
              "    display: none;\n",
              "    fill: var(--fill-color);\n",
              "    height: 32px;\n",
              "    padding: 0;\n",
              "    width: 32px;\n",
              "  }\n",
              "\n",
              "  .colab-df-quickchart:hover {\n",
              "    background-color: var(--hover-bg-color);\n",
              "    box-shadow: 0 1px 2px rgba(60, 64, 67, 0.3), 0 1px 3px 1px rgba(60, 64, 67, 0.15);\n",
              "    fill: var(--button-hover-fill-color);\n",
              "  }\n",
              "\n",
              "  .colab-df-quickchart-complete:disabled,\n",
              "  .colab-df-quickchart-complete:disabled:hover {\n",
              "    background-color: var(--disabled-bg-color);\n",
              "    fill: var(--disabled-fill-color);\n",
              "    box-shadow: none;\n",
              "  }\n",
              "\n",
              "  .colab-df-spinner {\n",
              "    border: 2px solid var(--fill-color);\n",
              "    border-color: transparent;\n",
              "    border-bottom-color: var(--fill-color);\n",
              "    animation:\n",
              "      spin 1s steps(1) infinite;\n",
              "  }\n",
              "\n",
              "  @keyframes spin {\n",
              "    0% {\n",
              "      border-color: transparent;\n",
              "      border-bottom-color: var(--fill-color);\n",
              "      border-left-color: var(--fill-color);\n",
              "    }\n",
              "    20% {\n",
              "      border-color: transparent;\n",
              "      border-left-color: var(--fill-color);\n",
              "      border-top-color: var(--fill-color);\n",
              "    }\n",
              "    30% {\n",
              "      border-color: transparent;\n",
              "      border-left-color: var(--fill-color);\n",
              "      border-top-color: var(--fill-color);\n",
              "      border-right-color: var(--fill-color);\n",
              "    }\n",
              "    40% {\n",
              "      border-color: transparent;\n",
              "      border-right-color: var(--fill-color);\n",
              "      border-top-color: var(--fill-color);\n",
              "    }\n",
              "    60% {\n",
              "      border-color: transparent;\n",
              "      border-right-color: var(--fill-color);\n",
              "    }\n",
              "    80% {\n",
              "      border-color: transparent;\n",
              "      border-right-color: var(--fill-color);\n",
              "      border-bottom-color: var(--fill-color);\n",
              "    }\n",
              "    90% {\n",
              "      border-color: transparent;\n",
              "      border-bottom-color: var(--fill-color);\n",
              "    }\n",
              "  }\n",
              "</style>\n",
              "\n",
              "  <script>\n",
              "    async function quickchart(key) {\n",
              "      const quickchartButtonEl =\n",
              "        document.querySelector('#' + key + ' button');\n",
              "      quickchartButtonEl.disabled = true;  // To prevent multiple clicks.\n",
              "      quickchartButtonEl.classList.add('colab-df-spinner');\n",
              "      try {\n",
              "        const charts = await google.colab.kernel.invokeFunction(\n",
              "            'suggestCharts', [key], {});\n",
              "      } catch (error) {\n",
              "        console.error('Error during call to suggestCharts:', error);\n",
              "      }\n",
              "      quickchartButtonEl.classList.remove('colab-df-spinner');\n",
              "      quickchartButtonEl.classList.add('colab-df-quickchart-complete');\n",
              "    }\n",
              "    (() => {\n",
              "      let quickchartButtonEl =\n",
              "        document.querySelector('#df-5d8b1895-7c46-4400-a1e7-79eda4366682 button');\n",
              "      quickchartButtonEl.style.display =\n",
              "        google.colab.kernel.accessAllowed ? 'block' : 'none';\n",
              "    })();\n",
              "  </script>\n",
              "</div>\n",
              "\n",
              "    </div>\n",
              "  </div>\n"
            ],
            "application/vnd.google.colaboratory.intrinsic+json": {
              "type": "dataframe",
              "variable_name": "data_req",
              "summary": "{\n  \"name\": \"data_req\",\n  \"rows\": 322,\n  \"fields\": [\n    {\n      \"column\": \"Years\",\n      \"properties\": {\n        \"dtype\": \"number\",\n        \"std\": 4,\n        \"min\": 1,\n        \"max\": 24,\n        \"num_unique_values\": 22,\n        \"samples\": [\n          1,\n          8,\n          4\n        ],\n        \"semantic_type\": \"\",\n        \"description\": \"\"\n      }\n    },\n    {\n      \"column\": \"Hits\",\n      \"properties\": {\n        \"dtype\": \"number\",\n        \"std\": 46,\n        \"min\": 1,\n        \"max\": 238,\n        \"num_unique_values\": 144,\n        \"samples\": [\n          65,\n          109,\n          125\n        ],\n        \"semantic_type\": \"\",\n        \"description\": \"\"\n      }\n    },\n    {\n      \"column\": \"Salary\",\n      \"properties\": {\n        \"dtype\": \"number\",\n        \"std\": 451.11868070253865,\n        \"min\": 67.5,\n        \"max\": 2460.0,\n        \"num_unique_values\": 150,\n        \"samples\": [\n          400.0,\n          600.0,\n          120.0\n        ],\n        \"semantic_type\": \"\",\n        \"description\": \"\"\n      }\n    }\n  ]\n}"
            }
          },
          "metadata": {},
          "execution_count": 32
        }
      ]
    },
    {
      "cell_type": "code",
      "source": [
        "# romove all rows with any NA value\n",
        "data_req.dropna(how = \"any\", inplace = True)\n",
        "# it is important to reset index as we will be using these indices to separate out regions\n",
        "data_req.reset_index(drop = True, inplace = True)"
      ],
      "metadata": {
        "id": "WuH5O0Us7nCt"
      },
      "execution_count": null,
      "outputs": []
    },
    {
      "cell_type": "code",
      "source": [
        "data_req.index"
      ],
      "metadata": {
        "colab": {
          "base_uri": "https://localhost:8080/"
        },
        "id": "ujhX1d4ufWGM",
        "outputId": "10af465d-0078-447e-9e3b-e2ee12789314"
      },
      "execution_count": null,
      "outputs": [
        {
          "output_type": "execute_result",
          "data": {
            "text/plain": [
              "RangeIndex(start=0, stop=263, step=1)"
            ]
          },
          "metadata": {},
          "execution_count": 35
        }
      ]
    },
    {
      "cell_type": "code",
      "source": [
        "X = data_req[['Years', 'Hits']]\n",
        "y = np.array(data_req['Salary'])\n",
        "# use data_req['Salary'].quantile(0.5) to split y in 0 and 1\n",
        "y[y < 425] = 0\n",
        "y[y >= 425] = 1\n",
        "\n",
        "type(X), type(y)"
      ],
      "metadata": {
        "colab": {
          "base_uri": "https://localhost:8080/"
        },
        "id": "YkECEZGnX8yd",
        "outputId": "1fb6d9c5-35af-42d3-f532-f80fbe3d8f2e"
      },
      "execution_count": null,
      "outputs": [
        {
          "output_type": "execute_result",
          "data": {
            "text/plain": [
              "(pandas.core.frame.DataFrame, numpy.ndarray)"
            ]
          },
          "metadata": {},
          "execution_count": 36
        }
      ]
    },
    {
      "cell_type": "code",
      "source": [
        "# For similicity, any region will be defined by a df or a np array of selected indices\n",
        "# Step 1: check number of observations in the regions is > 50, if yes proceed to step 2, else stop\n",
        "# Step 2: for all features (j = 1, ..., p), for all cutpoints (s = 1, ..., k), calculate total loss for each (j,s)\n",
        "# Step 3: choose (j,s) for which loss is min.\n",
        "# Step 4: split into regions\n",
        "# Go to step 1"
      ],
      "metadata": {
        "id": "zRwIjndN7m9J"
      },
      "execution_count": null,
      "outputs": []
    },
    {
      "cell_type": "code",
      "source": [
        "# returning cutpoints as deciles\n",
        "def get_cutpoints(region_as_df, feature_name):\n",
        "  ''' given dataframe and '''\n",
        "  return list(region_as_df[feature_name].quantile([i/10 for i in range(10)]))\n",
        "\n",
        "def calc_loss(left_region, right_region):\n",
        "  ''' expects regions as list of y indices'''\n",
        "  total_loss = np.sum((y[left_region] - np.mean(y[left_region]))**2) + np.sum((y[right_region] - np.mean(y[right_region]))**2)\n",
        "\n",
        "  return total_loss\n",
        "\n",
        "def calc_loss_gini(left_region, right_region):\n",
        "  ''' expects regions as list of y indices, calculates gini for binary classes'''\n",
        "  left_p_1 = np.sum(y[left_region] == 1)/len(left_region)\n",
        "  left_p_0 = np.sum(y[left_region] == 0)/len(left_region)\n",
        "  right_p_1 = np.sum(y[right_region] == 1)/len(right_region)\n",
        "  right_p_0 = np.sum(y[right_region] == 0)/len(right_region)\n",
        "\n",
        "  gini_left = left_p_1*(1-left_p_1) + left_p_0*(1-left_p_0)\n",
        "  gini_right = right_p_1*(1-right_p_1) + right_p_0*(1-right_p_0)\n",
        "\n",
        "  return gini_left + gini_right\n"
      ],
      "metadata": {
        "id": "yRGu_DfP7m6l"
      },
      "execution_count": null,
      "outputs": []
    },
    {
      "cell_type": "code",
      "source": [
        "def get_min_js(region_as_df):\n",
        "  \"\"\" given a region this function should return the best (j, s) combination \"\"\"\n",
        "\n",
        "  region_df = region_as_df.copy()\n",
        "  region_features = region_df.columns\n",
        "  calculated_loss = []\n",
        "  for j in range(region_df.shape[1]):\n",
        "    feature = region_features[j]\n",
        "    cuts = get_cutpoints(region_as_df = region_df, feature_name = feature)\n",
        "    for s in cuts:\n",
        "      region_left = list(region_df[region_df[feature] < s].index)\n",
        "      region_right = list(region_df[region_df[feature] >= s].index)\n",
        "      loss = calc_loss_gini(left_region = region_left, right_region = region_right)\n",
        "      calculated_loss.append({\"j\": j,\n",
        "                              \"feature\": feature,\n",
        "                              \"s\": s,\n",
        "                              \"loss\": loss})\n",
        "\n",
        "  calculated_loss_df = pd.DataFrame(calculated_loss)\n",
        "  min_js = calculated_loss_df.iloc[calculated_loss_df['loss'].argmin()].to_dict()\n",
        "\n",
        "  return min_js"
      ],
      "metadata": {
        "id": "OE_DG7YS7m34"
      },
      "execution_count": null,
      "outputs": []
    },
    {
      "cell_type": "code",
      "source": [
        "def get_regions(region_as_df, choice):\n",
        "  ''' given the (j, s) it performs the region splits and returns left and right regions '''\n",
        "  feature = choice['feature']\n",
        "  cut_point = choice['s']\n",
        "  region_left = region_as_df[region_as_df[feature] < cut_point]\n",
        "  region_right = region_as_df[region_as_df[feature] >= cut_point]\n",
        "\n",
        "  return region_left, region_right"
      ],
      "metadata": {
        "id": "j4o19iX-7myk"
      },
      "execution_count": null,
      "outputs": []
    },
    {
      "cell_type": "code",
      "source": [
        "# Initialize\n",
        "region = X.copy()\n",
        "observations_per_region = 30\n",
        "results = []\n",
        "\n",
        "# get (j,s) for which loss is min\n",
        "min_js = get_min_js(region_as_df = region)\n",
        "\n",
        "# get regions\n",
        "region_left, region_right = get_regions(region_as_df = region, choice = min_js)\n",
        "\n",
        "# save region and split details\n",
        "results.append({\"start_region\": \"all\",\n",
        "                \"split_details\": min_js,\n",
        "               \"region_left_indices\": list(region_left.index),\n",
        "               \"region_right_indices\": list(region_right.index)\n",
        "               })\n"
      ],
      "metadata": {
        "id": "ICNMtRr57mwA"
      },
      "execution_count": null,
      "outputs": []
    },
    {
      "cell_type": "code",
      "source": [
        "results[0][\"split_details\"]"
      ],
      "metadata": {
        "colab": {
          "base_uri": "https://localhost:8080/"
        },
        "id": "rHwqf_Cp2_aw",
        "outputId": "63903879-75ec-4d52-bacb-6d07c024be12"
      },
      "execution_count": null,
      "outputs": [
        {
          "output_type": "execute_result",
          "data": {
            "text/plain": [
              "{'j': 0, 'feature': 'Years', 's': 4.0, 'loss': 0.5518821705225098}"
            ]
          },
          "metadata": {},
          "execution_count": 44
        }
      ]
    },
    {
      "cell_type": "code",
      "source": [
        "# check\n",
        "if len(region_left) < observations_per_region:\n",
        "  pass\n",
        "else:\n",
        "  region = region_left.copy()\n",
        "  # get (j,s) for which loss is min\n",
        "  min_js = get_min_js(region_as_df = region)\n",
        "\n",
        "  # get regions\n",
        "  region_left_left, region_left_right = get_regions(region_as_df = region, choice = min_js)\n",
        "\n",
        "  # save region and split details\n",
        "  results.append({\"start_region\": \"left\",\n",
        "                \"split_details\": min_js,\n",
        "                \"region_left_indices\": list(region_left_left.index),\n",
        "                \"region_right_indices\": list(region_left_right.index)\n",
        "                })\n",
        "\n"
      ],
      "metadata": {
        "id": "DI24ESXy7mta"
      },
      "execution_count": null,
      "outputs": []
    },
    {
      "cell_type": "code",
      "source": [
        "results[1][\"split_details\"]"
      ],
      "metadata": {
        "colab": {
          "base_uri": "https://localhost:8080/"
        },
        "id": "NcUuXCaR5idv",
        "outputId": "6d09c8a1-0931-451e-af9f-6cfa6cb4714b"
      },
      "execution_count": null,
      "outputs": [
        {
          "output_type": "execute_result",
          "data": {
            "text/plain": [
              "{'j': 1, 'feature': 'Hits', 's': 144.9, 'loss': 0.1031404958677686}"
            ]
          },
          "metadata": {},
          "execution_count": 46
        }
      ]
    },
    {
      "cell_type": "code",
      "source": [
        "# check\n",
        "if len(region_right) < observations_per_region:\n",
        "  pass\n",
        "else:\n",
        "  region = region_right.copy()\n",
        "  # get (j,s) for which loss is min\n",
        "  min_js = get_min_js(region_as_df = region)\n",
        "\n",
        "  # get regions\n",
        "  region_right_left, region_right_right = get_regions(region_as_df = region, choice = min_js)\n",
        "\n",
        "  # save region and split details\n",
        "  results.append({\"start_region\": \"right\",\n",
        "                \"split_details\": min_js,\n",
        "                \"region_left_indices\": list(region_right_left.index),\n",
        "                \"region_right_indices\": list(region_right_right.index)\n",
        "                })\n"
      ],
      "metadata": {
        "id": "a46Rvr2P7mqv"
      },
      "execution_count": null,
      "outputs": []
    },
    {
      "cell_type": "code",
      "source": [
        "[ print(result[\"split_details\"], len(result[\"region_left_indices\"]), len(result[\"region_right_indices\"])) for result in results]"
      ],
      "metadata": {
        "colab": {
          "base_uri": "https://localhost:8080/"
        },
        "id": "a9uDCjLX7mn1",
        "outputId": "f733412c-2a2f-4154-80b7-38ae223727e7"
      },
      "execution_count": null,
      "outputs": [
        {
          "output_type": "stream",
          "name": "stdout",
          "text": [
            "{'j': 0, 'feature': 'Years', 's': 4.0, 'loss': 0.5518821705225098} 62 201\n",
            "{'j': 1, 'feature': 'Hits', 's': 144.9, 'loss': 0.1031404958677686} 55 7\n",
            "{'j': 1, 'feature': 'Hits', 's': 154.0, 'loss': 0.6973895052265595} 159 42\n"
          ]
        },
        {
          "output_type": "execute_result",
          "data": {
            "text/plain": [
              "[None, None, None]"
            ]
          },
          "metadata": {},
          "execution_count": 48
        }
      ]
    },
    {
      "cell_type": "code",
      "source": [
        "# Now you have four regions: region_left_left, region_left_right, region_right_left, region_right_right\n",
        "# what are our predictions for these regions? Just their mode ...\n",
        "from scipy import stats as st\n",
        "\n",
        "pred_reg_l_l = st.mode(y[results[1][\"region_left_indices\"]])\n",
        "pred_reg_l_r = st.mode(y[results[1][\"region_right_indices\"]])\n",
        "pred_reg_r_l = st.mode(y[results[2][\"region_left_indices\"]])\n",
        "pred_reg_r_r = st.mode(y[results[2][\"region_right_indices\"]])\n",
        "print(f\" region_l_l: {pred_reg_l_l}, \\n region_l_r: {pred_reg_l_r}, \\n region_r_l: {pred_reg_r_l}, \\n region_r_r: {pred_reg_r_r}\")"
      ],
      "metadata": {
        "colab": {
          "base_uri": "https://localhost:8080/"
        },
        "id": "Ja8BwpDx7mlw",
        "outputId": "ce81f86b-1b95-4110-ae14-b20343ebe8c6"
      },
      "execution_count": null,
      "outputs": [
        {
          "output_type": "stream",
          "name": "stdout",
          "text": [
            " region_l_l: ModeResult(mode=0.0, count=52), \n",
            " region_l_r: ModeResult(mode=0.0, count=7), \n",
            " region_r_l: ModeResult(mode=1.0, count=92), \n",
            " region_r_r: ModeResult(mode=1.0, count=37)\n"
          ]
        }
      ]
    },
    {
      "cell_type": "code",
      "source": [
        "# for prediction you have to trace the path through the tree\n",
        "\n",
        "def class_tree_prediction(data_point):\n",
        "  \"\"\"expects input as numpy array with 2 features\"\"\"\n",
        "  if data_point[0] < 4 and data_point[1] < 144.9:\n",
        "    #print(f\"Salary: {pred_reg_l_l}\")\n",
        "    return 0\n",
        "  elif data_point[0] < 4 and data_point[1] >= 144.9:\n",
        "    #print(f\"Salary: {pred_reg_l_r}\")\n",
        "    return 0\n",
        "  elif data_point[0] >= 4 and data_point[1] < 154:\n",
        "    #print(f\"Salary: {pred_reg_r_l}\")\n",
        "    return 1\n",
        "  elif data_point[0] >= 4 and data_point[1] >= 154:\n",
        "    #print(f\"Salary: {pred_reg_r_r}\")\n",
        "    return 1\n",
        "  else:\n",
        "    #print(\"input out of bounds\")\n",
        "    return np.nan\n",
        "\n",
        "\n"
      ],
      "metadata": {
        "id": "XBfrih5x-9LU"
      },
      "execution_count": null,
      "outputs": []
    },
    {
      "cell_type": "code",
      "source": [
        "# generate predictions for class 0\n",
        "y_pred_0 = [class_tree_prediction(list(row)) for id, row in X[y == 0].iterrows()]\n",
        "y_pred_1 = [class_tree_prediction(list(row)) for id, row in X[y == 1].iterrows()]"
      ],
      "metadata": {
        "id": "UHNYF0ozAyIx"
      },
      "execution_count": null,
      "outputs": []
    },
    {
      "cell_type": "code",
      "source": [
        "# y = 0 accuracy\n",
        "1 - (sum(y_pred_0)/len(y_pred_0))"
      ],
      "metadata": {
        "colab": {
          "base_uri": "https://localhost:8080/"
        },
        "id": "D5c9KAYnzz8S",
        "outputId": "57949d13-bddc-4ff9-f171-d52565944165"
      },
      "execution_count": null,
      "outputs": [
        {
          "output_type": "execute_result",
          "data": {
            "text/plain": [
              "0.45038167938931295"
            ]
          },
          "metadata": {},
          "execution_count": 82
        }
      ]
    },
    {
      "cell_type": "code",
      "source": [
        "# y = 1 accuracy\n",
        " sum(y_pred_1)/len(y_pred_1)"
      ],
      "metadata": {
        "colab": {
          "base_uri": "https://localhost:8080/"
        },
        "id": "tl5bz3vez1pc",
        "outputId": "49fa143c-7e14-483b-a03f-1172e4b2cad0"
      },
      "execution_count": null,
      "outputs": [
        {
          "output_type": "execute_result",
          "data": {
            "text/plain": [
              "0.9772727272727273"
            ]
          },
          "metadata": {},
          "execution_count": 83
        }
      ]
    },
    {
      "cell_type": "code",
      "source": [],
      "metadata": {
        "id": "CAC4kUDc2dvY"
      },
      "execution_count": null,
      "outputs": []
    },
    {
      "cell_type": "code",
      "source": [],
      "metadata": {
        "id": "g1-DuQdpz1mg"
      },
      "execution_count": null,
      "outputs": []
    },
    {
      "cell_type": "code",
      "source": [],
      "metadata": {
        "id": "zagX8Whez1gi"
      },
      "execution_count": null,
      "outputs": []
    },
    {
      "cell_type": "code",
      "source": [],
      "metadata": {
        "id": "muGa2XeRz1dc"
      },
      "execution_count": null,
      "outputs": []
    },
    {
      "cell_type": "code",
      "source": [],
      "metadata": {
        "id": "8yPicYWOzz2a"
      },
      "execution_count": null,
      "outputs": []
    },
    {
      "cell_type": "code",
      "execution_count": null,
      "metadata": {
        "id": "kPCftVxDvKLa"
      },
      "outputs": [],
      "source": []
    }
  ]
}