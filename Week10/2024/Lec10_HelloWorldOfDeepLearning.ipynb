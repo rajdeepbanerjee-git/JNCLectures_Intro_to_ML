{
  "nbformat": 4,
  "nbformat_minor": 0,
  "metadata": {
    "colab": {
      "provenance": [],
      "authorship_tag": "ABX9TyOA8cZK5Y8ur1qktqrXUZGd",
      "include_colab_link": true
    },
    "kernelspec": {
      "name": "python3",
      "display_name": "Python 3"
    },
    "language_info": {
      "name": "python"
    }
  },
  "cells": [
    {
      "cell_type": "markdown",
      "metadata": {
        "id": "view-in-github",
        "colab_type": "text"
      },
      "source": [
        "<a href=\"https://colab.research.google.com/github/rajdeepbanerjee-git/JNCLectures_Intro_to_ML/blob/main/Week10/Lec10_HelloWorldOfDeepLearning.ipynb\" target=\"_parent\"><img src=\"https://colab.research.google.com/assets/colab-badge.svg\" alt=\"Open In Colab\"/></a>"
      ]
    },
    {
      "cell_type": "markdown",
      "source": [
        "Let's start with the \"Hello world\" of deep learning - the MNIST dataset - consisting of 60k train and 10k test images of handwritten digits (0 - 9). Each image is 28*28 pixels. We will try to clasify them into 10 classes."
      ],
      "metadata": {
        "id": "HX2pmG-qaXGr"
      }
    },
    {
      "cell_type": "code",
      "source": [
        "from tensorflow.keras.datasets import mnist\n",
        "\n",
        "(train_images, train_labels), (test_images, test_labels) = mnist.load_data()"
      ],
      "metadata": {
        "colab": {
          "base_uri": "https://localhost:8080/"
        },
        "id": "Owlc9fgYaW0B",
        "outputId": "340a6f3c-dc49-4160-e08d-2c92aff6dc11"
      },
      "execution_count": 1,
      "outputs": [
        {
          "output_type": "stream",
          "name": "stdout",
          "text": [
            "Downloading data from https://storage.googleapis.com/tensorflow/tf-keras-datasets/mnist.npz\n",
            "11490434/11490434 [==============================] - 0s 0us/step\n"
          ]
        }
      ]
    },
    {
      "cell_type": "code",
      "source": [
        "# the images are encoded as numpy array, we can therefore check their shape\n",
        "print(train_images.shape, len(train_labels))\n",
        "print(test_images.shape, len(test_labels))"
      ],
      "metadata": {
        "colab": {
          "base_uri": "https://localhost:8080/"
        },
        "id": "zfUevLwqaWxc",
        "outputId": "67ab48ed-cc6c-4cfb-f77b-1bc051fab9f2"
      },
      "execution_count": 3,
      "outputs": [
        {
          "output_type": "stream",
          "name": "stdout",
          "text": [
            "(60000, 28, 28) 60000\n",
            "(10000, 28, 28) 10000\n"
          ]
        }
      ]
    },
    {
      "cell_type": "markdown",
      "source": [
        "Now, let's create the network architecture - a feed-forward neural network basically consists of layers of neurons or nodes. Each node in a layer receives signal from the previous layer nodes, processes (applies some function on it) and sends the output to the nodes in the next layer. The final layer in a classification case is generally a softmax layer."
      ],
      "metadata": {
        "id": "gN2NcKqFbhkE"
      }
    },
    {
      "cell_type": "code",
      "source": [
        "# defining model architecture\n",
        "from tensorflow import keras # as you will see this abstracts away all the operations\n",
        "from tensorflow.keras import layers\n",
        "\n",
        "model = keras.Sequential(\n",
        "    [layers.Dense(512, activation = 'relu'),\n",
        "    layers.Dense(10, activation = 'softmax')]\n",
        "                        )\n",
        "# single layer with 512 nodes - Dense - fully connected\n",
        "# output layer has 10 neurons to output 10 classes\n",
        "# for each image you will get a vector of probabilities length 10\n",
        "# argmax of the vector will give you the class"
      ],
      "metadata": {
        "id": "dFqR_0tKhg3h"
      },
      "execution_count": 4,
      "outputs": []
    },
    {
      "cell_type": "code",
      "source": [
        "# The compilation or defining the optimization details\n",
        "model.compile(\n",
        "    optimizer = \"rmsprop\",\n",
        "    loss = \"sparse_categorical_crossentropy\",\n",
        "    metrics = [\"accuracy\"]\n",
        ")"
      ],
      "metadata": {
        "id": "FhtchhP1hg0-"
      },
      "execution_count": 5,
      "outputs": []
    },
    {
      "cell_type": "code",
      "source": [
        "# prepare the data: input training images have shape (60000, 28, 28) and values in the interval [0, 255] in uint8 type\n",
        "# we will change them to shape (60000, 28*28) and scale the values to [0,1] interval in float32 type\n",
        "\n",
        "train_images = train_images.reshape((60000, 28*28))\n",
        "train_images.astype(\"float32\")/255\n",
        "test_images = test_images.reshape((10000, 28*28))\n",
        "test_images.astype(\"float32\")/255"
      ],
      "metadata": {
        "colab": {
          "base_uri": "https://localhost:8080/"
        },
        "id": "wULGJiEaaWuo",
        "outputId": "4951c700-3480-42b1-c2af-97869649cd2c"
      },
      "execution_count": 6,
      "outputs": [
        {
          "output_type": "execute_result",
          "data": {
            "text/plain": [
              "array([[0., 0., 0., ..., 0., 0., 0.],\n",
              "       [0., 0., 0., ..., 0., 0., 0.],\n",
              "       [0., 0., 0., ..., 0., 0., 0.],\n",
              "       ...,\n",
              "       [0., 0., 0., ..., 0., 0., 0.],\n",
              "       [0., 0., 0., ..., 0., 0., 0.],\n",
              "       [0., 0., 0., ..., 0., 0., 0.]], dtype=float32)"
            ]
          },
          "metadata": {},
          "execution_count": 6
        }
      ]
    },
    {
      "cell_type": "code",
      "source": [
        "# we are now ready for training ...\n",
        "model.fit(train_images,\n",
        "          train_labels,\n",
        "          epochs = 5,\n",
        "          batch_size = 128)\n",
        "# providing batches ensures how many datapoints the gradient will be averaged over and updates"
      ],
      "metadata": {
        "colab": {
          "base_uri": "https://localhost:8080/"
        },
        "id": "zUWlt4MpkTiS",
        "outputId": "68934c20-65fd-4ebe-a796-e1a19c88c080"
      },
      "execution_count": 7,
      "outputs": [
        {
          "output_type": "stream",
          "name": "stdout",
          "text": [
            "Epoch 1/5\n",
            "469/469 [==============================] - 6s 12ms/step - loss: 5.8449 - accuracy: 0.8982\n",
            "Epoch 2/5\n",
            "469/469 [==============================] - 4s 10ms/step - loss: 0.6807 - accuracy: 0.9539\n",
            "Epoch 3/5\n",
            "469/469 [==============================] - 4s 9ms/step - loss: 0.4482 - accuracy: 0.9658\n",
            "Epoch 4/5\n",
            "469/469 [==============================] - 5s 10ms/step - loss: 0.3573 - accuracy: 0.9724\n",
            "Epoch 5/5\n",
            "469/469 [==============================] - 4s 9ms/step - loss: 0.3118 - accuracy: 0.9766\n"
          ]
        },
        {
          "output_type": "execute_result",
          "data": {
            "text/plain": [
              "<keras.src.callbacks.History at 0x7a23311a4070>"
            ]
          },
          "metadata": {},
          "execution_count": 7
        }
      ]
    },
    {
      "cell_type": "code",
      "source": [
        "# making predictions on 10 test images\n",
        "test_digits = test_images[0:10]\n",
        "predictions_prob = model.predict(test_digits)\n",
        "predicted_labels = predictions_prob.argmax(axis = 1)\n",
        "\n",
        "print(f\"test labels: {test_labels[0:10]}\")\n",
        "print(f\"predicted labels: {predicted_labels}\")\n"
      ],
      "metadata": {
        "colab": {
          "base_uri": "https://localhost:8080/"
        },
        "id": "9xn7GTi7kTfd",
        "outputId": "f1e13b19-c33a-4f42-d203-6da23a187767"
      },
      "execution_count": 17,
      "outputs": [
        {
          "output_type": "stream",
          "name": "stdout",
          "text": [
            "1/1 [==============================] - 0s 20ms/step\n",
            "test labels: [7 2 1 0 4 1 4 9 5 9]\n",
            "predicted labels: [7 2 1 0 4 1 4 9 6 9]\n"
          ]
        }
      ]
    },
    {
      "cell_type": "code",
      "source": [
        "# calculating test accuracy on all test data\n",
        "test_loss, test_acc = model.evaluate(test_images, test_labels)\n",
        "print(f\"test_acc: {test_acc}\")"
      ],
      "metadata": {
        "colab": {
          "base_uri": "https://localhost:8080/"
        },
        "id": "zEJ2Abh7kTZK",
        "outputId": "87a42ce4-ac1a-482a-97ab-487711c01d0d"
      },
      "execution_count": 18,
      "outputs": [
        {
          "output_type": "stream",
          "name": "stdout",
          "text": [
            "313/313 [==============================] - 1s 3ms/step - loss: 0.6776 - accuracy: 0.9642\n",
            "test_acc: 0.9642000198364258\n"
          ]
        }
      ]
    },
    {
      "cell_type": "markdown",
      "source": [
        "In the next lecture, we will go through the basics of the training and try to connect back to this example."
      ],
      "metadata": {
        "id": "lC6bAik3nK5R"
      }
    },
    {
      "cell_type": "code",
      "source": [],
      "metadata": {
        "id": "XUWAS1X8aWrk"
      },
      "execution_count": null,
      "outputs": []
    },
    {
      "cell_type": "code",
      "source": [],
      "metadata": {
        "id": "Yu_bapp2aWoq"
      },
      "execution_count": null,
      "outputs": []
    },
    {
      "cell_type": "code",
      "execution_count": null,
      "metadata": {
        "id": "xVdJp8xoaN8F"
      },
      "outputs": [],
      "source": []
    }
  ]
}