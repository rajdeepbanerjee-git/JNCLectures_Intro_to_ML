{
  "nbformat": 4,
  "nbformat_minor": 0,
  "metadata": {
    "colab": {
      "provenance": [],
      "authorship_tag": "ABX9TyMmbMh2EPkkqwKFr3BgpJOY",
      "include_colab_link": true
    },
    "kernelspec": {
      "name": "python3",
      "display_name": "Python 3"
    },
    "language_info": {
      "name": "python"
    }
  },
  "cells": [
    {
      "cell_type": "markdown",
      "metadata": {
        "id": "view-in-github",
        "colab_type": "text"
      },
      "source": [
        "<a href=\"https://colab.research.google.com/github/rajdeepbanerjee-git/JNCLectures_Intro_to_ML/blob/main/Week10/Lec10_grad_boost_v2.ipynb\" target=\"_parent\"><img src=\"https://colab.research.google.com/assets/colab-badge.svg\" alt=\"Open In Colab\"/></a>"
      ]
    },
    {
      "cell_type": "code",
      "source": [
        "import numpy as np\n",
        "import pandas as pd\n",
        "\n",
        "import matplotlib.pyplot as plt\n",
        "\n",
        "from sklearn.model_selection import train_test_split\n",
        "from sklearn.tree import DecisionTreeRegressor"
      ],
      "metadata": {
        "id": "mQD3R-KLokTc"
      },
      "execution_count": 1,
      "outputs": []
    },
    {
      "cell_type": "code",
      "source": [
        "data = pd.read_csv(\"Hitters.csv\")\n",
        "data.info()"
      ],
      "metadata": {
        "colab": {
          "base_uri": "https://localhost:8080/"
        },
        "id": "UxNV6lSWokQu",
        "outputId": "829b7622-0a71-45bd-cf4a-6b56dc399f11"
      },
      "execution_count": 5,
      "outputs": [
        {
          "output_type": "stream",
          "name": "stdout",
          "text": [
            "<class 'pandas.core.frame.DataFrame'>\n",
            "RangeIndex: 322 entries, 0 to 321\n",
            "Data columns (total 20 columns):\n",
            " #   Column     Non-Null Count  Dtype  \n",
            "---  ------     --------------  -----  \n",
            " 0   AtBat      322 non-null    int64  \n",
            " 1   Hits       322 non-null    int64  \n",
            " 2   HmRun      322 non-null    int64  \n",
            " 3   Runs       322 non-null    int64  \n",
            " 4   RBI        322 non-null    int64  \n",
            " 5   Walks      322 non-null    int64  \n",
            " 6   Years      322 non-null    int64  \n",
            " 7   CAtBat     322 non-null    int64  \n",
            " 8   CHits      322 non-null    int64  \n",
            " 9   CHmRun     322 non-null    int64  \n",
            " 10  CRuns      322 non-null    int64  \n",
            " 11  CRBI       322 non-null    int64  \n",
            " 12  CWalks     322 non-null    int64  \n",
            " 13  League     322 non-null    object \n",
            " 14  Division   322 non-null    object \n",
            " 15  PutOuts    322 non-null    int64  \n",
            " 16  Assists    322 non-null    int64  \n",
            " 17  Errors     322 non-null    int64  \n",
            " 18  Salary     263 non-null    float64\n",
            " 19  NewLeague  322 non-null    object \n",
            "dtypes: float64(1), int64(16), object(3)\n",
            "memory usage: 50.4+ KB\n"
          ]
        }
      ]
    },
    {
      "cell_type": "code",
      "source": [
        "data.drop([\"League\",\"Division\",\"NewLeague\"], axis = 1, inplace = True)\n",
        "data.dropna(how = \"any\", inplace = True)\n",
        "data.info()"
      ],
      "metadata": {
        "colab": {
          "base_uri": "https://localhost:8080/"
        },
        "id": "20S9uyoxokNz",
        "outputId": "2c2c263e-4ec6-481c-e167-59b853ed2a23"
      },
      "execution_count": 6,
      "outputs": [
        {
          "output_type": "stream",
          "name": "stdout",
          "text": [
            "<class 'pandas.core.frame.DataFrame'>\n",
            "Int64Index: 263 entries, 1 to 321\n",
            "Data columns (total 17 columns):\n",
            " #   Column   Non-Null Count  Dtype  \n",
            "---  ------   --------------  -----  \n",
            " 0   AtBat    263 non-null    int64  \n",
            " 1   Hits     263 non-null    int64  \n",
            " 2   HmRun    263 non-null    int64  \n",
            " 3   Runs     263 non-null    int64  \n",
            " 4   RBI      263 non-null    int64  \n",
            " 5   Walks    263 non-null    int64  \n",
            " 6   Years    263 non-null    int64  \n",
            " 7   CAtBat   263 non-null    int64  \n",
            " 8   CHits    263 non-null    int64  \n",
            " 9   CHmRun   263 non-null    int64  \n",
            " 10  CRuns    263 non-null    int64  \n",
            " 11  CRBI     263 non-null    int64  \n",
            " 12  CWalks   263 non-null    int64  \n",
            " 13  PutOuts  263 non-null    int64  \n",
            " 14  Assists  263 non-null    int64  \n",
            " 15  Errors   263 non-null    int64  \n",
            " 16  Salary   263 non-null    float64\n",
            "dtypes: float64(1), int64(16)\n",
            "memory usage: 37.0 KB\n"
          ]
        }
      ]
    },
    {
      "cell_type": "code",
      "source": [
        "X = data.drop([\"Salary\"], axis = 1)\n",
        "y = data[\"Salary\"]\n",
        "X_train, X_test, y_train, y_test = train_test_split(X, y, test_size=0.33, random_state=42)"
      ],
      "metadata": {
        "id": "mt7eSL3pokLT"
      },
      "execution_count": 8,
      "outputs": []
    },
    {
      "cell_type": "markdown",
      "source": [
        "- Create base model\n",
        "- initial pred is the pred of base model\n",
        "for M estimators\n",
        "- calculate residual using prediction of previous tree\n",
        "- fit new tree on the residual\n",
        "- repeat <br>\n",
        "Final pred = Init pred + eta*pred1 + eta*pred2 + ... + eta*predM"
      ],
      "metadata": {
        "id": "IzLPl0GnpLU8"
      }
    },
    {
      "cell_type": "code",
      "source": [
        "def calculate_loss(y, y_pred):\n",
        "    loss = (1/len(y)) * 0.5 * np.sum(np.square(y-y_pred))\n",
        "    return loss\n",
        "\n",
        "def calculate_residuals(y, y_pred):\n",
        "    grad = -(y-y_pred)\n",
        "    return grad"
      ],
      "metadata": {
        "id": "nA3QrF0ZqPPt"
      },
      "execution_count": 9,
      "outputs": []
    },
    {
      "cell_type": "code",
      "source": [
        "# fit basic regression tree with depth 1\n",
        "base_tree = DecisionTreeRegressor(max_depth=2, random_state=0)\n",
        "base_tree.fit(X_train, y_train)\n",
        "y_pred = base_tree.predict(X_train)\n",
        "\n",
        "# metrics\n",
        "calculate_loss(y = y_train, y_pred = y_pred)"
      ],
      "metadata": {
        "colab": {
          "base_uri": "https://localhost:8080/"
        },
        "id": "YUVI6Xu3pH5b",
        "outputId": "a9c779a6-f30b-40c6-fcb7-e6495ec005ca"
      },
      "execution_count": 10,
      "outputs": [
        {
          "output_type": "execute_result",
          "data": {
            "text/plain": [
              "34760.98359795453"
            ]
          },
          "metadata": {},
          "execution_count": 10
        }
      ]
    },
    {
      "cell_type": "code",
      "source": [
        "def train_gbtree(X, y, base_tree, n_tree, eta = 0.01):\n",
        "\n",
        "  # initialize\n",
        "  init_pred = base_tree.predict(X) # on training data\n",
        "  #init_pred = np.mean(y)\n",
        "  save_trees = []\n",
        "  residuals = []\n",
        "  predictions = []\n",
        "\n",
        "  y_pred = init_pred\n",
        "  final_pred = init_pred\n",
        "\n",
        "  # get grad boosted trees\n",
        "  for m in range(n_tree):\n",
        "    residual_ = calculate_residuals(y = y, y_pred = y_pred)\n",
        "    tree = DecisionTreeRegressor(max_depth=2, random_state=0)\n",
        "    tree.fit(X, residual_)\n",
        "    y_pred = tree.predict(X)\n",
        "    final_pred -= eta*y_pred # learning rate*prediction on residual\n",
        "\n",
        "    # save\n",
        "    save_trees.append(tree)\n",
        "    residuals.append(residual_)\n",
        "    predictions.append(y_pred)\n",
        "\n",
        "  return save_trees, residuals, predictions, final_pred"
      ],
      "metadata": {
        "id": "ZnnWJyG5q4_W"
      },
      "execution_count": 39,
      "outputs": []
    },
    {
      "cell_type": "code",
      "source": [
        "loss = []\n",
        "for n_tree in np.arange(1, 6, 2):\n",
        "  trained_trees, _ , _ , final_pred =  train_gbtree(X = X_train,\n",
        "                                                  y = y_train,\n",
        "                                                  base_tree = base_tree,\n",
        "                                                  n_tree = n_tree,\n",
        "                                                  eta = 0.005)\n",
        "  loss.append(calculate_loss(y = y_train, y_pred = final_pred))\n",
        ""
      ],
      "metadata": {
        "id": "s_59uABo3AkI"
      },
      "execution_count": 45,
      "outputs": []
    },
    {
      "cell_type": "code",
      "source": [
        "plt.plot(np.arange(1, 6, 2), loss)\n"
      ],
      "metadata": {
        "colab": {
          "base_uri": "https://localhost:8080/",
          "height": 447
        },
        "id": "sqBpnKwtq48A",
        "outputId": "c55d5eda-ab38-49a7-d346-0f3f87164fad"
      },
      "execution_count": 47,
      "outputs": [
        {
          "output_type": "execute_result",
          "data": {
            "text/plain": [
              "[<matplotlib.lines.Line2D at 0x79c4b39077f0>]"
            ]
          },
          "metadata": {},
          "execution_count": 47
        },
        {
          "output_type": "display_data",
          "data": {
            "text/plain": [
              "<Figure size 640x480 with 1 Axes>"
            ],
            "image/png": "[encoded data removed]"
          },
          "metadata": {}
        }
      ]
    },
    {
      "cell_type": "code",
      "source": [
        "def test_predict(n_tree, X, y, trained_trees, base_tree, eta = 0.01):\n",
        "\n",
        "  init_test_pred = base_tree.predict(X) # on test data\n",
        "  #init_test_pred = np.mean(y)\n",
        "  residuals_test = []\n",
        "  predictions_test = []\n",
        "\n",
        "  y_test_pred = init_test_pred\n",
        "  final_pred = init_test_pred\n",
        "  for m in range(n_tree):\n",
        "    residual_ = calculate_residuals(y = y, y_pred = y_test_pred)\n",
        "    y_test_pred = trained_trees[m].predict(X)\n",
        "    final_pred -= eta*y_test_pred\n",
        "\n",
        "    # save\n",
        "    residuals_test.append(residual_)\n",
        "    predictions_test.append(y_test_pred)\n",
        "\n",
        "  return final_pred"
      ],
      "metadata": {
        "id": "m-JzSsGKpHzq"
      },
      "execution_count": 51,
      "outputs": []
    },
    {
      "cell_type": "code",
      "source": [
        "test_pred =  test_predict(n_tree = 3,\n",
        "                          X = X_test,\n",
        "                          y = y_test,\n",
        "                          trained_trees = trained_trees,\n",
        "                          base_tree = base_tree)"
      ],
      "metadata": {
        "id": "FndYoS5ZpHwu"
      },
      "execution_count": 52,
      "outputs": []
    },
    {
      "cell_type": "code",
      "source": [
        "calculate_loss(y = y_test, y_pred = test_pred)"
      ],
      "metadata": {
        "colab": {
          "base_uri": "https://localhost:8080/"
        },
        "id": "0h5K3AchpHt0",
        "outputId": "0a1f62e4-6670-46f6-b518-15da75392ec9"
      },
      "execution_count": 53,
      "outputs": [
        {
          "output_type": "execute_result",
          "data": {
            "text/plain": [
              "85738.46525194129"
            ]
          },
          "metadata": {},
          "execution_count": 53
        }
      ]
    },
    {
      "cell_type": "code",
      "source": [
        "y_pred = base_tree.predict(X_test)\n",
        "calculate_loss(y = y_test, y_pred = y_pred)"
      ],
      "metadata": {
        "colab": {
          "base_uri": "https://localhost:8080/"
        },
        "id": "rgipUoWEokF7",
        "outputId": "a706ad8c-e8c8-475a-d63b-f0a838d44def"
      },
      "execution_count": 54,
      "outputs": [
        {
          "output_type": "execute_result",
          "data": {
            "text/plain": [
              "84039.7754255088"
            ]
          },
          "metadata": {},
          "execution_count": 54
        }
      ]
    },
    {
      "cell_type": "markdown",
      "source": [
        "#### sklearn grad boost"
      ],
      "metadata": {
        "id": "IC9AtCg366Pa"
      }
    },
    {
      "cell_type": "code",
      "source": [
        "from sklearn.ensemble import GradientBoostingRegressor\n",
        "\n",
        "model = GradientBoostingRegressor(n_estimators=3, criterion='friedman_mse', max_depth=2)\n",
        "model.fit(X_train, y_train)\n",
        "y_sk_pred = model.predict(X_test)\n",
        "calculate_loss(y = y_test, y_pred = y_sk_pred)"
      ],
      "metadata": {
        "colab": {
          "base_uri": "https://localhost:8080/"
        },
        "id": "JQhwo6z4okDe",
        "outputId": "3729781a-62b0-4c7a-aa4f-a475bb950ee0"
      },
      "execution_count": 55,
      "outputs": [
        {
          "output_type": "execute_result",
          "data": {
            "text/plain": [
              "98621.86349212748"
            ]
          },
          "metadata": {},
          "execution_count": 55
        }
      ]
    },
    {
      "cell_type": "code",
      "source": [],
      "metadata": {
        "id": "iK3TdpvbokAx"
      },
      "execution_count": null,
      "outputs": []
    },
    {
      "cell_type": "code",
      "source": [],
      "metadata": {
        "id": "6T77mV70oj-L"
      },
      "execution_count": null,
      "outputs": []
    },
    {
      "cell_type": "code",
      "execution_count": null,
      "metadata": {
        "id": "zR4pXIRAojZj"
      },
      "outputs": [],
      "source": []
    }
  ]
}