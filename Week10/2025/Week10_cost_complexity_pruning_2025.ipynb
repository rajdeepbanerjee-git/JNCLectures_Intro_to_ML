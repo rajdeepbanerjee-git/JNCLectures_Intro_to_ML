{
  "nbformat": 4,
  "nbformat_minor": 0,
  "metadata": {
    "colab": {
      "provenance": [],
      "authorship_tag": "ABX9TyN3hdYj6ojLiFKPdRK4Wp/p",
      "include_colab_link": true
    },
    "kernelspec": {
      "name": "python3",
      "display_name": "Python 3"
    },
    "language_info": {
      "name": "python"
    }
  },
  "cells": [
    {
      "cell_type": "markdown",
      "metadata": {
        "id": "view-in-github",
        "colab_type": "text"
      },
      "source": [
        "<a href=\"https://colab.research.google.com/github/rajdeepbanerjee-git/JNCLectures_Intro_to_ML/blob/main/Week10/Week10_cost_complexity_pruning_2025.ipynb\" target=\"_parent\"><img src=\"https://colab.research.google.com/assets/colab-badge.svg\" alt=\"Open In Colab\"/></a>"
      ]
    },
    {
      "cell_type": "markdown",
      "source": [
        "# Cost-Complexity Pruning (Weakest Link Pruning)\n",
        "\n",
        "When a decision tree is grown to full depth, it may overfit the training data. **Cost-complexity pruning** (also known as weakest link pruning) is a method used to reduce overfitting by balancing the tree’s complexity and its training error.\n",
        "\n",
        "The cost-complexity measure is defined as:\n",
        "\n",
        "$$\n",
        "R_\\alpha(T) = R(T) + \\alpha \\, |T|\n",
        "$$\n",
        "\n",
        "where:\n",
        "\n",
        "- $R(T)$ is the training error (or impurity) of the tree $T$. In classification, this can be the misclassification rate or the sum of impurity measures (e.g., Gini or entropy) at the leaves.\n",
        "- $|T|$ is the number of terminal nodes (leaves) in the tree.\n",
        "- $\\alpha \\ge 0 $ is the complexity parameter that penalizes the number of leaves.\n",
        "\n",
        "**Interpretation:**\n",
        "\n",
        "- When $\\alpha = 0$, there is no penalty for complexity, so the fully grown tree is chosen.\n",
        "- As $\\alpha$ increases, the penalty for complexity becomes more significant. The algorithm then seeks a subtree $ T_\\alpha$ that minimizes $R_\\alpha(T)$.\n",
        "\n",
        "### Obtaining the Pruning Path\n",
        "\n",
        "The pruning path is a sequence of subtrees obtained by iteratively removing the branch (or node) that contributes the least to reducing the error per leaf removed. For each candidate node, we compute the ratio:\n",
        "\n",
        "$$\n",
        "\\alpha_{\\text{node}} = \\frac{R(\\text{node before pruning}) - R(\\text{node after pruning})}{\\Delta |T|}\n",
        "$$\n",
        "\n",
        "- $R(\\text{node before pruning})$ is the training error of the subtree rooted at that node.\n",
        "- $R(\\text{node after pruning})$ is the training error after replacing that subtree with a leaf.\n",
        "- $\\Delta |T|$ is the reduction in the number of leaves (usually 1).\n",
        "\n",
        "The node with the smallest $\\alpha_{\\text{node}}$ is pruned first. This process generates a sequence of $\\alpha$ values (denoted as `ccp_alphas` in scikit-learn) corresponding to subtrees with different complexities. The goal is then to use cross-validation to choose the best $\\alpha$ value that minimizes the expected error on unseen data.\n"
      ],
      "metadata": {
        "id": "sT3iD1xREYY6"
      }
    },
    {
      "cell_type": "code",
      "source": [
        "import numpy as np\n",
        "import matplotlib.pyplot as plt\n",
        "from sklearn.datasets import load_breast_cancer\n",
        "from sklearn.tree import DecisionTreeClassifier\n",
        "from sklearn.model_selection import train_test_split, GridSearchCV"
      ],
      "metadata": {
        "id": "s-LyzsqZCti_"
      },
      "execution_count": 1,
      "outputs": []
    },
    {
      "cell_type": "code",
      "source": [
        "# 1. Load the Breast Cancer Dataset and Split Data\n",
        "data = load_breast_cancer()\n",
        "X, y = data.data, data.target\n",
        "X_train, X_test, y_train, y_test = train_test_split(X, y, random_state=42, stratify=y)\n"
      ],
      "metadata": {
        "id": "UjZMJzmrCtei"
      },
      "execution_count": 2,
      "outputs": []
    },
    {
      "cell_type": "code",
      "source": [
        "# 2. Train a Fully Grown (Unpruned) Tree\n",
        "clf_unpruned = DecisionTreeClassifier(random_state=42)\n",
        "clf_unpruned.fit(X_train, y_train)\n",
        "print(\"Unpruned Tree Train Accuracy:\", clf_unpruned.score(X_train, y_train))\n",
        "print(\"Unpruned Tree Test Accuracy:\", clf_unpruned.score(X_test, y_test))\n"
      ],
      "metadata": {
        "colab": {
          "base_uri": "https://localhost:8080/"
        },
        "id": "ldTq6qYECtaZ",
        "outputId": "268cb9e4-9b54-496f-8862-43bf255c79e4"
      },
      "execution_count": 10,
      "outputs": [
        {
          "output_type": "stream",
          "name": "stdout",
          "text": [
            "Unpruned Tree Train Accuracy: 1.0\n",
            "Unpruned Tree Test Accuracy: 0.9230769230769231\n"
          ]
        }
      ]
    },
    {
      "cell_type": "code",
      "source": [
        "# 3. Obtain the Cost-Complexity Pruning Path\n",
        "# The cost_complexity_pruning_path method computes a sequence of effective alpha values and corresponding total impurities.\n",
        "path = clf_unpruned.cost_complexity_pruning_path(X_train, y_train)\n",
        "ccp_alphas, impurities = path.ccp_alphas, path.impurities\n",
        "\n",
        "print(\"Effective alphas from pruning path:\", ccp_alphas)\n"
      ],
      "metadata": {
        "colab": {
          "base_uri": "https://localhost:8080/"
        },
        "id": "_0KRH_LfCtW8",
        "outputId": "2d8ac9de-cf41-4e97-f458-5d04a977ad2f"
      },
      "execution_count": 4,
      "outputs": [
        {
          "output_type": "stream",
          "name": "stdout",
          "text": [
            "Effective alphas from pruning path: [0.         0.00231936 0.00312989 0.00422535 0.00456509 0.00532081\n",
            " 0.0056338  0.00633803 0.00814228 0.01487676 0.02166662 0.05466684\n",
            " 0.32538187]\n"
          ]
        }
      ]
    },
    {
      "cell_type": "code",
      "source": [
        "# 4. Train a Tree for Each Value of ccp_alpha and Record Scores\n",
        "clfs = []\n",
        "train_scores = []\n",
        "test_scores = []\n",
        "\n",
        "for ccp_alpha in ccp_alphas:\n",
        "    clf = DecisionTreeClassifier(random_state=42, ccp_alpha=ccp_alpha)\n",
        "    clf.fit(X_train, y_train)\n",
        "    clfs.append(clf)\n",
        "    train_scores.append(clf.score(X_train, y_train))\n",
        "    test_scores.append(clf.score(X_test, y_test))\n",
        "\n",
        "# Plot training and test accuracy vs. ccp_alpha\n",
        "plt.figure(figsize=(10, 6))\n",
        "plt.plot(ccp_alphas, train_scores, marker='o', label=\"Train Accuracy\", drawstyle=\"steps-post\")\n",
        "plt.plot(ccp_alphas, test_scores, marker='o', label=\"Test Accuracy\", drawstyle=\"steps-post\")\n",
        "plt.xlabel(\"ccp_alpha\")\n",
        "plt.ylabel(\"Accuracy\")\n",
        "plt.title(\"Accuracy vs. CCP Alpha for Training and Testing Sets\")\n",
        "plt.legend()\n",
        "plt.show()\n"
      ],
      "metadata": {
        "colab": {
          "base_uri": "https://localhost:8080/",
          "height": 564
        },
        "id": "SgcuSbikCtTi",
        "outputId": "e9de0e47-455d-46a8-a99b-ab9a3af27170"
      },
      "execution_count": 5,
      "outputs": [
        {
          "output_type": "display_data",
          "data": {
            "text/plain": [
              "<Figure size 1000x600 with 1 Axes>"
            ],
            "image/png": "[encoded data removed]"
          },
          "metadata": {}
        }
      ]
    },
    {
      "cell_type": "code",
      "source": [
        "# 5. Choose the Best Alpha Using Cross-Validation\n",
        "param_grid = {\"ccp_alpha\": ccp_alphas}\n",
        "clf_for_cv = DecisionTreeClassifier(random_state=42)\n",
        "grid_search = GridSearchCV(clf_for_cv, param_grid, cv=5)\n",
        "grid_search.fit(X_train, y_train)\n",
        "\n",
        "best_alpha = grid_search.best_params_[\"ccp_alpha\"]\n",
        "print(\"Best alpha from cross-validation:\", best_alpha)\n",
        "print(\"Best cross-validated score:\", grid_search.best_score_)"
      ],
      "metadata": {
        "colab": {
          "base_uri": "https://localhost:8080/"
        },
        "id": "L8BS6c87CtQy",
        "outputId": "18a4a013-8708-468b-960c-8cfd574c1a73"
      },
      "execution_count": 6,
      "outputs": [
        {
          "output_type": "stream",
          "name": "stdout",
          "text": [
            "Best alpha from cross-validation: 0.0031298904538341154\n",
            "Best cross-validated score: 0.9390697674418605\n"
          ]
        }
      ]
    },
    {
      "cell_type": "code",
      "source": [
        "# 6. Train Final Classifier with the Best Alpha and Evaluate on Test Set\n",
        "clf_final = DecisionTreeClassifier(random_state=42, ccp_alpha=best_alpha)\n",
        "clf_final.fit(X_train, y_train)\n",
        "final_test_accuracy = clf_final.score(X_test, y_test)\n",
        "final_train_accuracy = clf_final.score(X_train, y_train)\n",
        "print(\"Final Train Accuracy with Best Alpha:\", final_train_accuracy)\n",
        "print(\"Final Test Accuracy with Best Alpha:\", final_test_accuracy)"
      ],
      "metadata": {
        "colab": {
          "base_uri": "https://localhost:8080/"
        },
        "id": "fRihcJKiCtNh",
        "outputId": "07e09d4f-f94a-43dd-b796-fe9ec6c0ab02"
      },
      "execution_count": 8,
      "outputs": [
        {
          "output_type": "stream",
          "name": "stdout",
          "text": [
            "Final Train Accuracy with Best Alpha: 0.9906103286384976\n",
            "Final Test Accuracy with Best Alpha: 0.9370629370629371\n"
          ]
        }
      ]
    },
    {
      "cell_type": "code",
      "source": [],
      "metadata": {
        "id": "QNUR4U6bL38c"
      },
      "execution_count": null,
      "outputs": []
    },
    {
      "cell_type": "code",
      "source": [],
      "metadata": {
        "id": "iQBAGCZKL3tj"
      },
      "execution_count": null,
      "outputs": []
    },
    {
      "cell_type": "code",
      "source": [],
      "metadata": {
        "id": "sCszn3uRL3g3"
      },
      "execution_count": null,
      "outputs": []
    },
    {
      "cell_type": "code",
      "source": [],
      "metadata": {
        "id": "8DRGayH5L3UI"
      },
      "execution_count": null,
      "outputs": []
    },
    {
      "cell_type": "code",
      "source": [],
      "metadata": {
        "id": "ZEjmzi7KL3Gy"
      },
      "execution_count": null,
      "outputs": []
    },
    {
      "cell_type": "code",
      "source": [],
      "metadata": {
        "id": "SjMir7HLLATj"
      },
      "execution_count": 10,
      "outputs": []
    },
    {
      "cell_type": "code",
      "source": [],
      "metadata": {
        "id": "zLFTtaEFCtJq"
      },
      "execution_count": null,
      "outputs": []
    },
    {
      "cell_type": "code",
      "execution_count": null,
      "metadata": {
        "id": "RMWSdgwQCmcc"
      },
      "outputs": [],
      "source": []
    }
  ]
}