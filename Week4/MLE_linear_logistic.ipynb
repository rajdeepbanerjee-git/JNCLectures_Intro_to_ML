{
  "nbformat": 4,
  "nbformat_minor": 0,
  "metadata": {
    "colab": {
      "provenance": [],
      "authorship_tag": "ABX9TyOxbFh+ofqpV45DD1VPkR3U",
      "include_colab_link": true
    },
    "kernelspec": {
      "name": "python3",
      "display_name": "Python 3"
    },
    "language_info": {
      "name": "python"
    }
  },
  "cells": [
    {
      "cell_type": "markdown",
      "metadata": {
        "id": "view-in-github",
        "colab_type": "text"
      },
      "source": [
        "<a href=\"https://colab.research.google.com/github/rajdeepbanerjee-git/JNCLectures_Intro_to_ML/blob/main/Week4/MLE_linear_logistic.ipynb\" target=\"_parent\"><img src=\"https://colab.research.google.com/assets/colab-badge.svg\" alt=\"Open In Colab\"/></a>"
      ]
    },
    {
      "cell_type": "code",
      "source": [
        "import numpy as np\n",
        "import pandas as pd\n",
        "from sklearn.model_selection import train_test_split\n",
        "from sklearn.preprocessing import StandardScaler\n",
        "\n",
        "import warnings\n",
        "\n",
        "# Suppress warnings globally\n",
        "warnings.filterwarnings(\"ignore\", category=RuntimeWarning)"
      ],
      "metadata": {
        "id": "LG_w4zVpa7Lw"
      },
      "execution_count": 24,
      "outputs": []
    },
    {
      "cell_type": "markdown",
      "source": [
        "#### Linear regression: using closed-form solution"
      ],
      "metadata": {
        "id": "ZzMC_8-JaqGR"
      }
    },
    {
      "cell_type": "code",
      "source": [
        "# Load Boston-housing dataset\n",
        "data_url = \"http://lib.stat.cmu.edu/datasets/boston\"\n",
        "raw_df = pd.read_csv(data_url, sep=\"\\s+\", skiprows=22, header=None)\n",
        "X = np.hstack([raw_df.values[::2, :], raw_df.values[1::2, :2]])\n",
        "y = raw_df.values[1::2, 2]"
      ],
      "metadata": {
        "id": "PROvq1pxbK5h"
      },
      "execution_count": 12,
      "outputs": []
    },
    {
      "cell_type": "code",
      "source": [
        "# Add intercept term to X\n",
        "X = np.hstack([np.ones((X.shape[0], 1)), X])\n",
        "\n",
        "# Split dataset into training and testing sets\n",
        "X_train, X_test, y_train, y_test = train_test_split(X, y, test_size=0.2, random_state=42)\n",
        "\n",
        "# Closed-form solution: Normal Equation\n",
        "def closed_form_solution(X, y):\n",
        "    return np.linalg.inv(X.T @ X) @ X.T @ y\n",
        "\n",
        "# Calculate beta\n",
        "beta = closed_form_solution(X_train, y_train)\n",
        "print(\"Closed-form solution coefficients:\", beta)\n",
        "\n",
        "# Predict on the test set\n",
        "y_pred = X_test @ beta\n",
        "mse = np.mean((y_pred - y_test)**2)\n",
        "print(\"Closed-form solution MSE on test set:\", mse)\n"
      ],
      "metadata": {
        "colab": {
          "base_uri": "https://localhost:8080/"
        },
        "id": "ck2bwTLbYxr-",
        "outputId": "31f6372a-8f29-4529-db9b-9ae3da30cbb6"
      },
      "execution_count": 13,
      "outputs": [
        {
          "output_type": "stream",
          "name": "stdout",
          "text": [
            "Closed-form solution coefficients: [ 3.02467510e+01 -1.13055924e-01  3.01104641e-02  4.03807204e-02\n",
            "  2.78443820e+00 -1.72026334e+01  4.43883520e+00 -6.29636221e-03\n",
            " -1.44786537e+00  2.62429736e-01 -1.06467863e-02 -9.15456240e-01\n",
            "  1.23513347e-02 -5.08571424e-01]\n",
            "Closed-form solution MSE on test set: 24.29111947497721\n"
          ]
        }
      ]
    },
    {
      "cell_type": "markdown",
      "source": [
        "#### Linear regression using minimization library"
      ],
      "metadata": {
        "id": "BF0iyR49bxqb"
      }
    },
    {
      "cell_type": "code",
      "source": [
        "from scipy.optimize import minimize\n",
        "\n",
        "# Define the loss function (NLL equivalent for Linear Regression)\n",
        "def linear_regression_loss(beta, X, y):\n",
        "    residuals = y - X @ beta\n",
        "    return np.sum(residuals**2)\n",
        "\n",
        "# Initial guess for beta\n",
        "beta_init = np.zeros(X_train.shape[1])\n",
        "\n",
        "# Minimize the loss function\n",
        "result = minimize(linear_regression_loss, beta_init, args=(X_train, y_train), method='BFGS')\n",
        "beta_minimized = result.x\n",
        "\n",
        "print(\"Minimized solution coefficients:\", beta_minimized)\n",
        "\n",
        "# Predict on the test set\n",
        "y_pred_minimized = X_test @ beta_minimized\n",
        "mse_minimized = np.mean((y_pred_minimized - y_test)**2)\n",
        "print(\"Minimized solution MSE on test set:\", mse_minimized)\n"
      ],
      "metadata": {
        "colab": {
          "base_uri": "https://localhost:8080/"
        },
        "id": "FKApG31RYxo6",
        "outputId": "e6ca1e97-b575-4e36-95ab-722a1a6f44f5"
      },
      "execution_count": 14,
      "outputs": [
        {
          "output_type": "stream",
          "name": "stdout",
          "text": [
            "Minimized solution coefficients: [ 3.02468647e+01 -1.13056177e-01  3.01108846e-02  4.03832801e-02\n",
            "  2.78443277e+00 -1.72025688e+01  4.43883284e+00 -6.29650486e-03\n",
            " -1.44786643e+00  2.62435762e-01 -1.06472410e-02 -9.15454310e-01\n",
            "  1.23511753e-02 -5.08571741e-01]\n",
            "Minimized solution MSE on test set: 24.291070645990622\n"
          ]
        }
      ]
    },
    {
      "cell_type": "markdown",
      "source": [
        "#### Logistic regression using minimization"
      ],
      "metadata": {
        "id": "tdhP7xkKcLnl"
      }
    },
    {
      "cell_type": "code",
      "source": [
        "from sklearn.datasets import load_iris\n",
        "\n",
        "# Load Iris Dataset\n",
        "iris = load_iris()\n",
        "X = iris.data[:, 2:4]  # Use petal length and width\n",
        "y = (iris.target == 0).astype(int)  # Binary classification: Setosa or not\n",
        "\n",
        "# Add intercept term to X\n",
        "X = np.hstack([np.ones((X.shape[0], 1)), X])\n",
        "\n",
        "# Split dataset into training and testing sets\n",
        "X_train, X_test, y_train, y_test = train_test_split(X, y, test_size=0.2, random_state=42)\n"
      ],
      "metadata": {
        "id": "4JbcYX3XcK6d"
      },
      "execution_count": 15,
      "outputs": []
    },
    {
      "cell_type": "code",
      "source": [
        "# Sigmoid function\n",
        "def sigmoid(z):\n",
        "    return 1 / (1 + np.exp(-z))\n",
        "\n",
        "# Negative Log-Likelihood (NLL)\n",
        "def logistic_regression_loss(beta, X, y):\n",
        "    logits = X @ beta\n",
        "    return -np.sum(y * np.log(sigmoid(logits)) + (1 - y) * np.log(1 - sigmoid(logits)))\n",
        "\n",
        "# Initial guess for beta\n",
        "beta_init = np.zeros(X_train.shape[1])\n",
        "\n",
        "# Minimize the NLL\n",
        "result = minimize(logistic_regression_loss, beta_init, args=(X_train, y_train), method='BFGS')\n",
        "beta_minimized = result.x\n",
        "\n",
        "print(\"Logistic Regression coefficients (beta):\", beta_minimized)\n",
        "\n",
        "# Predictions on the test set\n",
        "logits_test = X_test @ beta_minimized\n",
        "y_pred_prob = sigmoid(logits_test)\n",
        "y_pred = (y_pred_prob >= 0.5).astype(int)\n",
        "\n",
        "# Evaluate accuracy\n",
        "accuracy = np.mean(y_pred == y_test)\n",
        "print(\"Logistic Regression accuracy on test set:\", accuracy)\n"
      ],
      "metadata": {
        "colab": {
          "base_uri": "https://localhost:8080/"
        },
        "id": "yZSQvrpMYxmD",
        "outputId": "88d9cc26-e639-4e2c-8a04-3938f5044d15"
      },
      "execution_count": 25,
      "outputs": [
        {
          "output_type": "stream",
          "name": "stdout",
          "text": [
            "Logistic Regression coefficients (beta): [-1916.29003898 -2845.97318767  -161.79150982]\n",
            "Logistic Regression accuracy on test set: 1.0\n"
          ]
        }
      ]
    },
    {
      "cell_type": "code",
      "source": [],
      "metadata": {
        "id": "JU_tGuLPYxbB"
      },
      "execution_count": null,
      "outputs": []
    },
    {
      "cell_type": "code",
      "source": [],
      "metadata": {
        "id": "G3dzdmHvYxXh"
      },
      "execution_count": null,
      "outputs": []
    },
    {
      "cell_type": "code",
      "execution_count": null,
      "metadata": {
        "id": "7IywSYsVYtRh"
      },
      "outputs": [],
      "source": []
    }
  ]
}