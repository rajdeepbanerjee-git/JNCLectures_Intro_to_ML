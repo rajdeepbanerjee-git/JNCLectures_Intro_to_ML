{
  "nbformat": 4,
  "nbformat_minor": 0,
  "metadata": {
    "colab": {
      "provenance": [],
      "authorship_tag": "ABX9TyOcEHa7ejlYRLNCe1bo4tmd",
      "include_colab_link": true
    },
    "kernelspec": {
      "name": "python3",
      "display_name": "Python 3"
    },
    "language_info": {
      "name": "python"
    }
  },
  "cells": [
    {
      "cell_type": "markdown",
      "metadata": {
        "id": "view-in-github",
        "colab_type": "text"
      },
      "source": [
        "<a href=\"https://colab.research.google.com/github/rajdeepbanerjee-git/JNCLectures_Intro_to_ML/blob/main/Week11/2025/Writing_RF_using_sklearn.ipynb\" target=\"_parent\"><img src=\"https://colab.research.google.com/assets/colab-badge.svg\" alt=\"Open In Colab\"/></a>"
      ]
    },
    {
      "cell_type": "code",
      "source": [
        "import numpy as np\n",
        "from sklearn.tree import DecisionTreeClassifier\n",
        "from sklearn.utils import resample\n",
        "from collections import Counter"
      ],
      "metadata": {
        "id": "-qlNiiF79IfA"
      },
      "execution_count": 1,
      "outputs": []
    },
    {
      "cell_type": "code",
      "source": [
        "class SimpleRandomForestClassifier:\n",
        "    \"\"\"\n",
        "    A simple implementation of the Random Forest Classifier using sklearn's DecisionTreeClassifier.\n",
        "\n",
        "    Parameters\n",
        "    ----------\n",
        "    n_estimators : int\n",
        "        Number of decision trees to use in the forest.\n",
        "    max_features : int or float or 'sqrt' or 'log2'\n",
        "        Number of features to consider when looking for the best split.\n",
        "    max_depth : int\n",
        "        Maximum depth of the individual decision trees.\n",
        "    random_state : int\n",
        "        Seed for reproducibility.\n",
        "    \"\"\"\n",
        "    def __init__(self, n_estimators=10, max_features='sqrt', max_depth=None, random_state=None):\n",
        "        self.n_estimators = n_estimators\n",
        "        self.max_features = max_features\n",
        "        self.max_depth = max_depth\n",
        "        self.random_state = random_state\n",
        "        self.trees = []\n",
        "        self.bootstraps = []\n",
        "\n",
        "    def _bootstrap_sample(self, X, y):\n",
        "        \"\"\"\n",
        "        Generate a bootstrap sample (random sampling with replacement).\n",
        "        \"\"\"\n",
        "        n_samples = X.shape[0]\n",
        "        X_sample, y_sample = resample(\n",
        "            X, y,\n",
        "            n_samples=n_samples,\n",
        "            random_state=self.random_state\n",
        "        )\n",
        "        return X_sample, y_sample\n",
        "\n",
        "    def fit(self, X, y):\n",
        "        \"\"\"\n",
        "        Train the Random Forest classifier.\n",
        "\n",
        "        Parameters\n",
        "        ----------\n",
        "        X : ndarray of shape (n_samples, n_features)\n",
        "            Training data.\n",
        "        y : ndarray of shape (n_samples,)\n",
        "            Target labels.\n",
        "        \"\"\"\n",
        "        self.trees = []\n",
        "        np.random.seed(self.random_state)\n",
        "\n",
        "        for i in range(self.n_estimators):\n",
        "            # Bootstrap sampling\n",
        "            X_sample, y_sample = self._bootstrap_sample(X, y)\n",
        "\n",
        "            # Initialize Decision Tree with feature subsetting\n",
        "            tree = DecisionTreeClassifier(\n",
        "                max_features=self.max_features,\n",
        "                max_depth=self.max_depth,\n",
        "                random_state=self.random_state + i if self.random_state is not None else None\n",
        "            )\n",
        "            tree.fit(X_sample, y_sample)\n",
        "\n",
        "            self.trees.append(tree)\n",
        "            self.bootstraps.append((X_sample, y_sample))\n",
        "\n",
        "    def _most_common_label(self, predictions):\n",
        "        \"\"\"\n",
        "        Return the most common label in a list of predictions.\n",
        "        \"\"\"\n",
        "        return Counter(predictions).most_common(1)[0][0]\n",
        "\n",
        "    def predict(self, X):\n",
        "        \"\"\"\n",
        "        Predict the class labels for the given data.\n",
        "\n",
        "        Parameters\n",
        "        ----------\n",
        "        X : ndarray of shape (n_samples, n_features)\n",
        "            Input samples.\n",
        "\n",
        "        Returns\n",
        "        -------\n",
        "        y_pred : ndarray of shape (n_samples,)\n",
        "            Predicted class labels.\n",
        "        \"\"\"\n",
        "        # Collect predictions from all trees\n",
        "        all_preds = np.array([tree.predict(X) for tree in self.trees])\n",
        "\n",
        "        # Majority vote (axis=0 means across all trees for each sample)\n",
        "        y_pred = [self._most_common_label(preds) for preds in all_preds.T]\n",
        "        return np.array(y_pred)"
      ],
      "metadata": {
        "id": "svjuY5bz9IcG"
      },
      "execution_count": 2,
      "outputs": []
    },
    {
      "cell_type": "code",
      "source": [
        "# how does majority prediction work?\n",
        "predictions = [1, 0, 1, 1, 0]\n",
        "print(Counter(predictions)) # 1 appears 3 times, 0 appears 2 times\n",
        "print(Counter(predictions).most_common(1)) # most common is 1, it appears 3 times\n",
        "print(Counter(predictions).most_common(1)[0]) # (1, 3)\n",
        "print(Counter(predictions).most_common(1)[0][0]) # 1"
      ],
      "metadata": {
        "colab": {
          "base_uri": "https://localhost:8080/"
        },
        "id": "FO-0gyW69IZX",
        "outputId": "0b5f5007-e3f2-4846-cb37-695578e3fb84"
      },
      "execution_count": 5,
      "outputs": [
        {
          "output_type": "stream",
          "name": "stdout",
          "text": [
            "Counter({1: 3, 0: 2})\n",
            "[(1, 3)]\n",
            "(1, 3)\n",
            "1\n"
          ]
        }
      ]
    },
    {
      "cell_type": "code",
      "source": [
        "from sklearn.datasets import load_iris\n",
        "from sklearn.model_selection import train_test_split\n",
        "from sklearn.metrics import accuracy_score\n",
        "\n",
        "# Load dataset\n",
        "X, y = load_iris(return_X_y=True)\n",
        "X_train, X_test, y_train, y_test = train_test_split(X, y, test_size=0.3, random_state=42)\n",
        "\n",
        "# Train custom Random Forest\n",
        "rf = SimpleRandomForestClassifier(n_estimators=5, max_depth=3, random_state=42)\n",
        "rf.fit(X_train, y_train)\n",
        "y_pred = rf.predict(X_test)\n",
        "\n",
        "# Evaluate\n",
        "print(f\"Accuracy: {np.round(accuracy_score(y_test, y_pred), 4)}\")\n"
      ],
      "metadata": {
        "colab": {
          "base_uri": "https://localhost:8080/"
        },
        "id": "YdKHtuAT9IWr",
        "outputId": "65dc96e5-6d19-4b88-8096-a5be6509787e"
      },
      "execution_count": 11,
      "outputs": [
        {
          "output_type": "stream",
          "name": "stdout",
          "text": [
            "Accuracy: 0.9556\n"
          ]
        }
      ]
    },
    {
      "cell_type": "markdown",
      "source": [
        "#### In the above example, what is the number of features used at each node for splitting?"
      ],
      "metadata": {
        "id": "XIT7SbRc-hDM"
      }
    },
    {
      "cell_type": "code",
      "source": [],
      "metadata": {
        "id": "JD9MshUG9IT3"
      },
      "execution_count": null,
      "outputs": []
    },
    {
      "cell_type": "code",
      "source": [],
      "metadata": {
        "id": "xnKz8KsT9IQe"
      },
      "execution_count": null,
      "outputs": []
    },
    {
      "cell_type": "code",
      "execution_count": null,
      "metadata": {
        "id": "-D_0J-W19ClM"
      },
      "outputs": [],
      "source": []
    }
  ]
}