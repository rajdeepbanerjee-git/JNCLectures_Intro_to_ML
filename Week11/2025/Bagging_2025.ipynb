{
  "nbformat": 4,
  "nbformat_minor": 0,
  "metadata": {
    "colab": {
      "provenance": [],
      "authorship_tag": "ABX9TyPcLlOU97c7uXK6v0lb1/Vh",
      "include_colab_link": true
    },
    "kernelspec": {
      "name": "python3",
      "display_name": "Python 3"
    },
    "language_info": {
      "name": "python"
    }
  },
  "cells": [
    {
      "cell_type": "markdown",
      "metadata": {
        "id": "view-in-github",
        "colab_type": "text"
      },
      "source": [
        "<a href=\"https://colab.research.google.com/github/rajdeepbanerjee-git/JNCLectures_Intro_to_ML/blob/main/Week11/Bagging_2025.ipynb\" target=\"_parent\"><img src=\"https://colab.research.google.com/assets/colab-badge.svg\" alt=\"Open In Colab\"/></a>"
      ]
    },
    {
      "cell_type": "code",
      "source": [
        "import numpy as np\n",
        "import pandas as pd\n",
        "from sklearn.model_selection import train_test_split\n",
        "from sklearn.preprocessing import OneHotEncoder\n",
        "from sklearn.tree import DecisionTreeRegressor\n",
        "from sklearn.metrics import mean_squared_error"
      ],
      "metadata": {
        "id": "wRCRJ9OfDWGJ"
      },
      "execution_count": 19,
      "outputs": []
    },
    {
      "cell_type": "code",
      "source": [
        "housing_df = pd.read_csv(\"/content/housing.csv\")\n",
        "housing_df.info()"
      ],
      "metadata": {
        "colab": {
          "base_uri": "https://localhost:8080/"
        },
        "id": "z04MJJToDtLf",
        "outputId": "cb9daa52-2dcf-47bc-f9e9-1a22f0102428"
      },
      "execution_count": 5,
      "outputs": [
        {
          "output_type": "stream",
          "name": "stdout",
          "text": [
            "<class 'pandas.core.frame.DataFrame'>\n",
            "RangeIndex: 20640 entries, 0 to 20639\n",
            "Data columns (total 10 columns):\n",
            " #   Column              Non-Null Count  Dtype  \n",
            "---  ------              --------------  -----  \n",
            " 0   longitude           20640 non-null  float64\n",
            " 1   latitude            20640 non-null  float64\n",
            " 2   housing_median_age  20640 non-null  float64\n",
            " 3   total_rooms         20640 non-null  float64\n",
            " 4   total_bedrooms      20433 non-null  float64\n",
            " 5   population          20640 non-null  float64\n",
            " 6   households          20640 non-null  float64\n",
            " 7   median_income       20640 non-null  float64\n",
            " 8   median_house_value  20640 non-null  float64\n",
            " 9   ocean_proximity     20640 non-null  object \n",
            "dtypes: float64(9), object(1)\n",
            "memory usage: 1.6+ MB\n"
          ]
        }
      ]
    },
    {
      "cell_type": "code",
      "source": [
        "def preprocess_data(df):\n",
        "    \"\"\"Clean and prepare housing data.\"\"\"\n",
        "    df = df.dropna()\n",
        "    df = pd.get_dummies(df, columns=['ocean_proximity'])\n",
        "    X = df.drop('median_house_value', axis=1).values\n",
        "    y = df['median_house_value'].values\n",
        "    return X, y\n",
        "\n",
        "# Load and preprocess data\n",
        "X, y = preprocess_data(housing_df)\n",
        "print(X.shape)\n",
        "print(y.shape)"
      ],
      "metadata": {
        "colab": {
          "base_uri": "https://localhost:8080/"
        },
        "id": "eN05ABQGDWCH",
        "outputId": "74055fac-6d1d-4f8b-b8c5-f6939ba63a14"
      },
      "execution_count": 7,
      "outputs": [
        {
          "output_type": "stream",
          "name": "stdout",
          "text": [
            "(20433, 13)\n",
            "(20433,)\n"
          ]
        }
      ]
    },
    {
      "cell_type": "code",
      "source": [
        "n_trees = 10\n",
        "random_state = 42\n",
        "rng = np.random.default_rng(random_state)\n",
        "\n",
        "def create_bootstrap_samples(X, n_trees, sample_size, rng):\n",
        "    \"\"\"Create bootstrap and OOB index lists with a given sample size.\"\"\"\n",
        "    n_samples = X.shape[0]\n",
        "    bootstrap_indices = []\n",
        "    oob_indices = []\n",
        "\n",
        "    for _ in range(n_trees):\n",
        "        indices = rng.integers(0, n_samples, size=sample_size)\n",
        "        unique_indices = set(indices)\n",
        "        oob = [i for i in range(n_samples) if i not in unique_indices]\n",
        "        bootstrap_indices.append(indices)\n",
        "        oob_indices.append(oob)\n",
        "\n",
        "    return bootstrap_indices, oob_indices\n",
        "\n",
        "# Generate bootstrap samples\n",
        "sample_size = int(0.8*X.shape[0])\n",
        "bootstrap_indices, oob_indices = create_bootstrap_samples(X, n_trees, sample_size, rng)"
      ],
      "metadata": {
        "id": "Cc0y5Tn-DV-i"
      },
      "execution_count": 21,
      "outputs": []
    },
    {
      "cell_type": "code",
      "source": [
        "def train_trees(X, y, bootstrap_indices, random_state=42):\n",
        "    \"\"\"Train decision trees on bootstrap samples.\"\"\"\n",
        "    trees = []\n",
        "    for indices in bootstrap_indices:\n",
        "        tree = DecisionTreeRegressor(random_state=random_state)\n",
        "        tree.fit(X[indices], y[indices])\n",
        "        trees.append(tree)\n",
        "    return trees\n",
        "\n",
        "# Train ensemble of trees\n",
        "trees = train_trees(X, y, bootstrap_indices, random_state)"
      ],
      "metadata": {
        "id": "rZKNsZsbDV7Q"
      },
      "execution_count": 22,
      "outputs": []
    },
    {
      "cell_type": "code",
      "source": [
        "def compute_oob_predictions(X, y, trees, oob_indices):\n",
        "    \"\"\"Compute and average OOB predictions.\n",
        "\n",
        "    oob_counts[i]: how many times sample i was left out (i.e., was OOB) across the ensemble.\n",
        "\n",
        "    oob_predictions[i]: the sum of predictions from all trees where i was OOB.\n",
        "\n",
        "    oob_predictions[i] / oob_counts[i]: average prediction across all trees where i was OOB.\n",
        "\n",
        "    final_preds: collects these averaged OOB predictions.\n",
        "\n",
        "    actuals: collects the corresponding true values y[i].\n",
        "\n",
        "    \"\"\"\n",
        "    n_samples = X.shape[0]\n",
        "    oob_predictions = [0.0] * n_samples\n",
        "    oob_counts = [0] * n_samples\n",
        "\n",
        "    for tree, oob in zip(trees, oob_indices): # can you tell me why is zip used here?\n",
        "        for i in oob:\n",
        "            pred = tree.predict(X[[i]])[0]\n",
        "            oob_predictions[i] += pred\n",
        "            oob_counts[i] += 1\n",
        "\n",
        "    final_preds = []\n",
        "    actuals = []\n",
        "    for i in range(n_samples):\n",
        "        if oob_counts[i] > 0:\n",
        "            final_preds.append(oob_predictions[i] / oob_counts[i])\n",
        "            actuals.append(y[i])\n",
        "    return final_preds, actuals\n",
        "\n",
        "# Get OOB predictions\n",
        "final_preds, actuals = compute_oob_predictions(X, y, trees, oob_indices)\n",
        "\n",
        "# Calculate OOB error\n",
        "oob_mse = mean_squared_error(actuals, final_preds)\n",
        "oob_rmse = np.sqrt(oob_mse)\n",
        "print(f\"Final OOB MSE and RMSE: {oob_mse}, {oob_rmse}\")"
      ],
      "metadata": {
        "colab": {
          "base_uri": "https://localhost:8080/"
        },
        "id": "0v_c5CrsGekw",
        "outputId": "fedaa10c-dcdb-476c-ee86-20958b6c32dd"
      },
      "execution_count": 26,
      "outputs": [
        {
          "output_type": "stream",
          "name": "stdout",
          "text": [
            "Final OOB MSE and RMSE: 2909372302.0077424, 53938.59751613627\n"
          ]
        }
      ]
    },
    {
      "cell_type": "code",
      "source": [
        "# Split the data into train and test sets (80-20 split)\n",
        "from sklearn.model_selection import train_test_split\n",
        "\n",
        "X_train, X_test, y_train, y_test = train_test_split(X, y, test_size=0.2, random_state=random_state)\n",
        "\n",
        "# Train a single decision tree on the training set\n",
        "single_tree = DecisionTreeRegressor(random_state=random_state)\n",
        "single_tree.fit(X_train, y_train)\n",
        "\n",
        "# Predict on the test set\n",
        "y_pred_test = single_tree.predict(X_test)\n",
        "\n",
        "# Compute test MSE for single decision tree\n",
        "single_tree_test_mse = mean_squared_error(y_test, y_pred_test)\n",
        "single_tree_test_rmse = np.sqrt(single_tree_test_mse)\n",
        "print(f\"Single Decision Tree MSE and RMSE on test set: {single_tree_test_mse}, {single_tree_test_rmse} \")"
      ],
      "metadata": {
        "colab": {
          "base_uri": "https://localhost:8080/"
        },
        "id": "hw1uWPxJGeeW",
        "outputId": "2633f387-cd8b-410e-8d78-51528f7499cb"
      },
      "execution_count": 27,
      "outputs": [
        {
          "output_type": "stream",
          "name": "stdout",
          "text": [
            "Single Decision Tree MSE and RMSE on test set: 4777874266.550771, 69122.16913950813 \n"
          ]
        }
      ]
    },
    {
      "cell_type": "markdown",
      "source": [
        "1. Now, use the above code, but take a smaller portion (len(X)/n) and see what happens.\n",
        "2. Now if you increase the number of trees by the same proportion n (n*n_trees), does anything change?"
      ],
      "metadata": {
        "id": "S14MWE7RFi5D"
      }
    },
    {
      "cell_type": "code",
      "source": [],
      "metadata": {
        "id": "z8Gi7K8bDV1H"
      },
      "execution_count": null,
      "outputs": []
    },
    {
      "cell_type": "code",
      "source": [],
      "metadata": {
        "id": "CWE2ZgufDVyM"
      },
      "execution_count": null,
      "outputs": []
    },
    {
      "cell_type": "code",
      "source": [],
      "metadata": {
        "id": "M33aChHbDVvO"
      },
      "execution_count": null,
      "outputs": []
    },
    {
      "cell_type": "code",
      "source": [],
      "metadata": {
        "id": "oT9dalAeDVsI"
      },
      "execution_count": null,
      "outputs": []
    },
    {
      "cell_type": "code",
      "source": [],
      "metadata": {
        "id": "poBqAr6iDVpm"
      },
      "execution_count": null,
      "outputs": []
    },
    {
      "cell_type": "code",
      "source": [],
      "metadata": {
        "id": "DOiTWvCqDVmo"
      },
      "execution_count": null,
      "outputs": []
    },
    {
      "cell_type": "code",
      "source": [],
      "metadata": {
        "id": "I4A_xJ6RDVj_"
      },
      "execution_count": null,
      "outputs": []
    },
    {
      "cell_type": "code",
      "execution_count": null,
      "metadata": {
        "id": "oqN5ESwJDNsw"
      },
      "outputs": [],
      "source": []
    }
  ]
}