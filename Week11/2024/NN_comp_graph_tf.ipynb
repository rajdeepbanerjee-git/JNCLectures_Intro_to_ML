{
  "nbformat": 4,
  "nbformat_minor": 0,
  "metadata": {
    "colab": {
      "provenance": [],
      "authorship_tag": "ABX9TyPQGDJVyEYB571Iz/0F61x2",
      "include_colab_link": true
    },
    "kernelspec": {
      "name": "python3",
      "display_name": "Python 3"
    },
    "language_info": {
      "name": "python"
    }
  },
  "cells": [
    {
      "cell_type": "markdown",
      "metadata": {
        "id": "view-in-github",
        "colab_type": "text"
      },
      "source": [
        "<a href=\"https://colab.research.google.com/github/rajdeepbanerjee-git/JNCLectures_Intro_to_ML/blob/main/Week11/NN_comp_graph_tf.ipynb\" target=\"_parent\"><img src=\"https://colab.research.google.com/assets/colab-badge.svg\" alt=\"Open In Colab\"/></a>"
      ]
    },
    {
      "cell_type": "code",
      "source": [
        "import numpy as np\n",
        "import matplotlib.pyplot as plt\n",
        "%matplotlib inline\n",
        "\n",
        "import tensorflow as tf"
      ],
      "metadata": {
        "id": "n2alhrPQyla1"
      },
      "execution_count": 1,
      "outputs": []
    },
    {
      "cell_type": "code",
      "source": [
        "x = np.array([ [0, 1], [1, 0], [1, 1],[0, 0] ]).T\n",
        "y = np.array([[1], [1], [0], [0]]).T\n",
        "print(x.shape,y.shape)"
      ],
      "metadata": {
        "colab": {
          "base_uri": "https://localhost:8080/"
        },
        "id": "Kf---kBdylYv",
        "outputId": "a6f33e1d-672a-4059-d3e5-ad0edc6fb5c1"
      },
      "execution_count": 2,
      "outputs": [
        {
          "output_type": "stream",
          "name": "stdout",
          "text": [
            "(2, 4) (1, 4)\n"
          ]
        }
      ]
    },
    {
      "cell_type": "code",
      "source": [
        "num_input = 2\n",
        "num_hidden = 5\n",
        "num_output = 1"
      ],
      "metadata": {
        "id": "3QfTUbylylWB"
      },
      "execution_count": 3,
      "outputs": []
    },
    {
      "cell_type": "code",
      "source": [
        "W1_tf = tf.Variable(initial_value = tf.random.uniform(shape = (num_input, num_hidden)))\n",
        "W2_tf = tf.Variable(initial_value = tf.random.uniform(shape = (num_hidden, num_output)))"
      ],
      "metadata": {
        "id": "EzeZJFlHylTr"
      },
      "execution_count": 4,
      "outputs": []
    },
    {
      "cell_type": "code",
      "source": [
        "def model(inputs):\n",
        "  return tf.sigmoid(tf.matmul(tf.sigmoid(tf.matmul(inputs, W1_tf)), W2_tf))"
      ],
      "metadata": {
        "id": "OtG7IAqFylQ2"
      },
      "execution_count": 5,
      "outputs": []
    },
    {
      "cell_type": "code",
      "source": [
        "x = x.astype(np.float32)\n",
        "y = y.astype(np.float32)"
      ],
      "metadata": {
        "id": "tCzkzNe6zXQ8"
      },
      "execution_count": 6,
      "outputs": []
    },
    {
      "cell_type": "code",
      "source": [
        "def square_loss(targets, predictions):\n",
        "  per_sample_losses = tf.square(targets - predictions)\n",
        "  return tf.reduce_mean(per_sample_losses)"
      ],
      "metadata": {
        "id": "ot0coqXnzXOs"
      },
      "execution_count": 7,
      "outputs": []
    },
    {
      "cell_type": "code",
      "source": [
        "# prtevious metrod for training step\n",
        "\n",
        "learning_rate = 0.01\n",
        "\n",
        "def training_step(inputs, targets):\n",
        "  with tf.GradientTape(persistent=True) as tape:\n",
        "    predictions = model(inputs)\n",
        "    loss = square_loss(predictions, targets)\n",
        "  grad_loss_wrt_W1 = tape.gradient(loss, W1_tf)\n",
        "  grad_loss_wrt_W2 = tape.gradient(loss, W2_tf)\n",
        "  W1_tf.assign_sub(grad_loss_wrt_W1 * learning_rate)\n",
        "  W2_tf.assign_sub(grad_loss_wrt_W2 * learning_rate)\n",
        "\n",
        "  return loss\n"
      ],
      "metadata": {
        "id": "Hm9DW_-GzXLr"
      },
      "execution_count": null,
      "outputs": []
    },
    {
      "cell_type": "code",
      "source": [
        "# breakdown to see derivatives\n",
        "def training_step(inputs, targets):\n",
        "  with tf.GradientTape(persistent=True) as tape:\n",
        "      z1_ = tf.matmul(inputs, W1_tf)\n",
        "      h1_ = tf.sigmoid(z1_)\n",
        "      z2_ = tf.matmul(h1_, W2_tf)\n",
        "      predictions = tf.sigmoid(z2_)\n",
        "      loss = square_loss(predictions, targets)\n",
        "\n",
        "  # calculate individual gradients in the graph\n",
        "  dL_dh2 = tape.gradient(loss, predictions)\n",
        "  dh2_dz2 = tape.gradient(predictions, z2_)\n",
        "  dz2_dw2 = tape.gradient(z2_, W2_tf)\n",
        "  dz2_dh1 = tape.gradient(z2_, h1_)\n",
        "  dh1_dz1 = tape.gradient(h1_, z1_)\n",
        "  dz1_dw1 = tape.gradient(z1_, W1_tf)\n",
        "  derivatives = [dL_dh2, dh2_dz2, dz2_dw2, dz2_dh1, dh1_dz1, dz1_dw1]\n",
        "\n",
        "  # calculate weight updates\n",
        "  grad_loss_wrt_W1 = tape.gradient(loss, W1_tf)\n",
        "  grad_loss_wrt_W2 = tape.gradient(loss, W2_tf)\n",
        "  W1_tf.assign_sub(grad_loss_wrt_W1 * learning_rate)\n",
        "  W2_tf.assign_sub(grad_loss_wrt_W2 * learning_rate)\n",
        "\n",
        "  return derivatives, grad_loss_wrt_W2, grad_loss_wrt_W1\n"
      ],
      "metadata": {
        "id": "V3eNANcizXIu"
      },
      "execution_count": 8,
      "outputs": []
    },
    {
      "cell_type": "code",
      "source": [
        "learning_rate = 0.01\n",
        "num_iterations = 2\n",
        "for step in range(num_iterations):\n",
        "  derivatives, dL_dW2, dL_dW1 = training_step(inputs = x.T, targets = y)\n",
        "  print(derivatives, dL_dW2, dL_dW1)\n"
      ],
      "metadata": {
        "colab": {
          "base_uri": "https://localhost:8080/"
        },
        "id": "z1NTSLgyylOE",
        "outputId": "ac2bb821-e348-4e87-dbcb-149b17b1c5fc"
      },
      "execution_count": 10,
      "outputs": [
        {
          "output_type": "stream",
          "name": "stdout",
          "text": [
            "[<tf.Tensor: shape=(4, 1), dtype=float32, numpy=\n",
            "array([[0.19750029],\n",
            "       [0.20682791],\n",
            "       [0.21692392],\n",
            "       [0.17649743]], dtype=float32)>, <tf.Tensor: shape=(4, 1), dtype=float32, numpy=\n",
            "array([[0.09397455],\n",
            "       [0.07888886],\n",
            "       [0.06177605],\n",
            "       [0.12539463]], dtype=float32)>, <tf.Tensor: shape=(5, 1), dtype=float32, numpy=\n",
            "array([[2.6203775],\n",
            "       [2.6067884],\n",
            "       [2.5797248],\n",
            "       [2.089467 ],\n",
            "       [2.7633436]], dtype=float32)>, <tf.Tensor: shape=(4, 5), dtype=float32, numpy=\n",
            "array([[0.31020162, 0.977025  , 0.6835227 , 0.7227717 , 0.82305115],\n",
            "       [0.31020162, 0.977025  , 0.6835227 , 0.7227717 , 0.82305115],\n",
            "       [0.31020162, 0.977025  , 0.6835227 , 0.7227717 , 0.82305115],\n",
            "       [0.31020162, 0.977025  , 0.6835227 , 0.7227717 , 0.82305115]],\n",
            "      dtype=float32)>, <tf.Tensor: shape=(4, 5), dtype=float32, numpy=\n",
            "array([[0.23903643, 0.2427084 , 0.2360135 , 0.24897373, 0.20996463],\n",
            "       [0.20200005, 0.19735566, 0.21626687, 0.24983783, 0.20533271],\n",
            "       [0.16203941, 0.16476284, 0.17283033, 0.24800217, 0.12616023],\n",
            "       [0.25      , 0.25      , 0.25      , 0.25      , 0.25      ]],\n",
            "      dtype=float32)>, <tf.Tensor: shape=(2, 5), dtype=float32, numpy=\n",
            "array([[2., 2., 2., 2., 2.],\n",
            "       [2., 2., 2., 2., 2.]], dtype=float32)>] tf.Tensor(\n",
            "[[0.04469699]\n",
            " [0.04444542]\n",
            " [0.04411887]\n",
            " [0.03660581]\n",
            " [0.04708236]], shape=(5, 1), dtype=float32) tf.Tensor(\n",
            "[[0.00169598 0.00530337 0.00399502 0.00534841 0.00414894]\n",
            " [0.0020498  0.00655838 0.00457718 0.00574196 0.00459886]], shape=(2, 5), dtype=float32)\n",
            "[<tf.Tensor: shape=(4, 1), dtype=float32, numpy=\n",
            "array([[0.19743586],\n",
            "       [0.20676857],\n",
            "       [0.216871  ],\n",
            "       [0.17642939]], dtype=float32)>, <tf.Tensor: shape=(4, 1), dtype=float32, numpy=\n",
            "array([[0.09407633],\n",
            "       [0.07898703],\n",
            "       [0.06186789],\n",
            "       [0.12549068]], dtype=float32)>, <tf.Tensor: shape=(5, 1), dtype=float32, numpy=\n",
            "array([[2.6203632],\n",
            "       [2.6067426],\n",
            "       [2.5796905],\n",
            "       [2.089412 ],\n",
            "       [2.7633142]], dtype=float32)>, <tf.Tensor: shape=(4, 5), dtype=float32, numpy=\n",
            "array([[0.30975464, 0.9765805 , 0.6830815 , 0.7224057 , 0.82258034],\n",
            "       [0.30975464, 0.9765805 , 0.6830815 , 0.7224057 , 0.82258034],\n",
            "       [0.30975464, 0.9765805 , 0.6830815 , 0.7224057 , 0.82258034],\n",
            "       [0.30975464, 0.9765805 , 0.6830815 , 0.7224057 , 0.82258034]],\n",
            "      dtype=float32)>, <tf.Tensor: shape=(4, 5), dtype=float32, numpy=\n",
            "array([[0.23903745, 0.24271111, 0.23601604, 0.24897464, 0.2099685 ],\n",
            "       [0.20200156, 0.19736047, 0.21627004, 0.24983817, 0.2053363 ],\n",
            "       [0.16204302, 0.16477422, 0.17283854, 0.24800463, 0.126168  ],\n",
            "       [0.25      , 0.25      , 0.25      , 0.25      , 0.25      ]],\n",
            "      dtype=float32)>, <tf.Tensor: shape=(2, 5), dtype=float32, numpy=\n",
            "array([[2., 2., 2., 2., 2.],\n",
            "       [2., 2., 2., 2., 2.]], dtype=float32)>] tf.Tensor(\n",
            "[[0.04473395]\n",
            " [0.04448169]\n",
            " [0.04415485]\n",
            " [0.03663371]\n",
            " [0.04712122]], shape=(5, 1), dtype=float32) tf.Tensor(\n",
            "[[0.00169538 0.00530687 0.00399682 0.00535153 0.00415107]\n",
            " [0.00204874 0.00656161 0.00457856 0.00574459 0.00460053]], shape=(2, 5), dtype=float32)\n"
          ]
        }
      ]
    },
    {
      "cell_type": "code",
      "source": [],
      "metadata": {
        "id": "-JESxmmC4JaX"
      },
      "execution_count": null,
      "outputs": []
    },
    {
      "cell_type": "code",
      "source": [],
      "metadata": {
        "id": "7vJPMzZM4JXz"
      },
      "execution_count": null,
      "outputs": []
    },
    {
      "cell_type": "code",
      "execution_count": null,
      "metadata": {
        "id": "yIv2Vt4Mykxu"
      },
      "outputs": [],
      "source": []
    }
  ]
}