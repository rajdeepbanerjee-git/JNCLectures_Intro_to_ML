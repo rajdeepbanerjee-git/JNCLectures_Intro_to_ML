{
  "cells": [
    {
      "cell_type": "markdown",
      "metadata": {
        "id": "view-in-github",
        "colab_type": "text"
      },
      "source": [
        "<a href=\"https://colab.research.google.com/github/rajdeepbanerjee-git/JNCLectures_Intro_to_ML/blob/main/Week11/My_NN_from_scratch.ipynb\" target=\"_parent\"><img src=\"https://colab.research.google.com/assets/colab-badge.svg\" alt=\"Open In Colab\"/></a>"
      ]
    },
    {
      "cell_type": "code",
      "execution_count": 1,
      "metadata": {
        "id": "lkSak4TXJj3s"
      },
      "outputs": [],
      "source": [
        "import numpy as np\n",
        "import matplotlib.pyplot as plt\n",
        "%matplotlib inline"
      ]
    },
    {
      "cell_type": "code",
      "execution_count": 2,
      "metadata": {
        "colab": {
          "base_uri": "https://localhost:8080/"
        },
        "id": "gGMz5ze3Jj3w",
        "outputId": "bce70970-d3ea-4002-bacf-ac0ed0646ffa"
      },
      "outputs": [
        {
          "output_type": "stream",
          "name": "stdout",
          "text": [
            "(2, 4) (1, 4)\n"
          ]
        }
      ],
      "source": [
        "x = np.array([ [0, 1], [1, 0], [1, 1],[0, 0] ]).T\n",
        "y = np.array([[1], [1], [0], [0]]).T\n",
        "print(x.shape,y.shape)"
      ]
    },
    {
      "cell_type": "code",
      "execution_count": 3,
      "metadata": {
        "id": "fpjh6g6WJj3w"
      },
      "outputs": [],
      "source": [
        "num_input = 2\n",
        "num_hidden = 5\n",
        "num_output = 1"
      ]
    },
    {
      "cell_type": "code",
      "execution_count": 4,
      "metadata": {
        "id": "1eshduTdJj3x"
      },
      "outputs": [],
      "source": [
        "W1 = np.random.randn(num_hidden, num_input)\n",
        "b1 = np.zeros((num_hidden,1))"
      ]
    },
    {
      "cell_type": "code",
      "execution_count": 5,
      "metadata": {
        "colab": {
          "base_uri": "https://localhost:8080/"
        },
        "id": "z048HFF6Jj3x",
        "outputId": "5d599540-687e-4ef1-ffaa-d6d080c26f2b"
      },
      "outputs": [
        {
          "output_type": "stream",
          "name": "stdout",
          "text": [
            "[[-0.76758523  1.90457061]\n",
            " [-2.03277398 -0.19012239]\n",
            " [ 1.02480597 -0.01933403]\n",
            " [ 0.30260045 -0.72181325]\n",
            " [-1.42555246 -1.06089025]] [[0.]\n",
            " [0.]\n",
            " [0.]\n",
            " [0.]\n",
            " [0.]]\n"
          ]
        }
      ],
      "source": [
        "print(W1,b1)"
      ]
    },
    {
      "cell_type": "code",
      "execution_count": 6,
      "metadata": {
        "colab": {
          "base_uri": "https://localhost:8080/"
        },
        "id": "ZiXM_uPNJj3y",
        "outputId": "1270ef2a-ddd4-48c7-d0ab-abf9184c793d"
      },
      "outputs": [
        {
          "output_type": "stream",
          "name": "stdout",
          "text": [
            "[[ 0.92932708  2.09209253  1.11143062 -1.05019896 -0.65750132]] [[0.]]\n"
          ]
        }
      ],
      "source": [
        "W2 = np.random.randn (num_output, num_hidden)\n",
        "b2 = np.zeros((num_output,1))\n",
        "print(W2,b2)"
      ]
    },
    {
      "cell_type": "code",
      "execution_count": 7,
      "metadata": {
        "id": "4cQ270xiJj3y"
      },
      "outputs": [],
      "source": [
        "def sigmoid(z):\n",
        "    return 1 / (1+np.exp(-z))"
      ]
    },
    {
      "cell_type": "code",
      "execution_count": 8,
      "metadata": {
        "id": "qNXAzKsFJj3y"
      },
      "outputs": [],
      "source": [
        "def sigmoid_derivative(z):\n",
        "    return np.exp(-z)/((1+np.exp(-z))**2)"
      ]
    },
    {
      "cell_type": "code",
      "execution_count": 9,
      "metadata": {
        "id": "5dP9ky5oJj3y"
      },
      "outputs": [],
      "source": [
        "def forward_prop(x,W1,W2):\n",
        "    z1 = np.dot(W1,x) + b1\n",
        "    #print(z1.shape)\n",
        "    h1 = sigmoid(z1)\n",
        "    #print(h1.shape)\n",
        "    z2 = np.dot(W2,h1) + b2\n",
        "    #print(z2.shape)\n",
        "    y_hat = sigmoid(z2)\n",
        "    #print(y_hat.shape)\n",
        "\n",
        "    return z1,h1,z2,y_hat"
      ]
    },
    {
      "cell_type": "code",
      "execution_count": 10,
      "metadata": {
        "id": "jsC5pR5RJj3z"
      },
      "outputs": [],
      "source": [
        "def backword_prop(y_hat, z1, h1, z2):\n",
        "\n",
        "    dz2 = np.multiply((y_hat-y),sigmoid_derivative(z2))\n",
        "    dW2 = np.dot(dz2, h1.T)\n",
        "    dh1 = np.dot(W2.T, dz2)\n",
        "    dz1 = np.multiply(dh1, sigmoid_derivative(z1))\n",
        "    dW1 = np.dot(dz1, x.T)\n",
        "\n",
        "    return dW1, dW2"
      ]
    },
    {
      "cell_type": "code",
      "execution_count": 11,
      "metadata": {
        "id": "wlv3lVKzJj3z"
      },
      "outputs": [],
      "source": [
        "def cost_function(y, y_hat):\n",
        "    square = ((y_hat-y)**2)\n",
        "    J = 0.5*(square.sum())\n",
        "\n",
        "    return J"
      ]
    },
    {
      "cell_type": "code",
      "execution_count": 12,
      "metadata": {
        "id": "Im2aAoVJJj3z"
      },
      "outputs": [],
      "source": [
        "alpha = 0.01\n",
        "num_iterations = 5000"
      ]
    },
    {
      "cell_type": "code",
      "execution_count": 13,
      "metadata": {
        "id": "hEsehXVrJj3z"
      },
      "outputs": [],
      "source": [
        "cost = []\n",
        "for i in range(num_iterations):\n",
        "\n",
        "    #perform forward propagation and predict output\n",
        "    z1,h1,z2,y_hat = forward_prop(x,W1,W2)\n",
        "\n",
        "    #perform backward propagation and calculate gradients\n",
        "    dW1, dW2 = backword_prop(y_hat, z1, h1, z2)\n",
        "\n",
        "    #update the weights\n",
        "    W1 = W1 -alpha * dW1\n",
        "    W2 = W2 -alpha * dW2\n",
        "\n",
        "    #compute cost\n",
        "    c = cost_function(y, y_hat)\n",
        "    #print(c)\n",
        "    #store the cost\n",
        "    cost.append(c)"
      ]
    },
    {
      "cell_type": "code",
      "execution_count": 14,
      "metadata": {
        "colab": {
          "base_uri": "https://localhost:8080/",
          "height": 489
        },
        "id": "CMu0hEbmJj3z",
        "outputId": "97e9d5ec-290e-46fc-cf5d-6875210a0b2b"
      },
      "outputs": [
        {
          "output_type": "execute_result",
          "data": {
            "text/plain": [
              "Text(0, 0.5, 'Cost')"
            ]
          },
          "metadata": {},
          "execution_count": 14
        },
        {
          "output_type": "display_data",
          "data": {
            "text/plain": [
              "<Figure size 640x480 with 1 Axes>"
            ],
            "image/png": "[encoded data removed]"
          },
          "metadata": {}
        }
      ],
      "source": [
        "plt.grid()\n",
        "plt.plot(range(num_iterations),cost)\n",
        "\n",
        "plt.title('Cost Function')\n",
        "plt.xlabel('Training Iterations')\n",
        "plt.ylabel('Cost')"
      ]
    },
    {
      "cell_type": "markdown",
      "source": [
        "#### Implementation with tensorflow"
      ],
      "metadata": {
        "id": "E6oNMGFhM6Eh"
      }
    },
    {
      "cell_type": "code",
      "source": [
        "import tensorflow as tf"
      ],
      "metadata": {
        "id": "zkwqOr7-MekE"
      },
      "execution_count": 15,
      "outputs": []
    },
    {
      "cell_type": "code",
      "source": [
        "W1_tf = tf.Variable(initial_value = tf.random.uniform(shape = (num_input, num_hidden)))\n",
        "W2_tf = tf.Variable(initial_value = tf.random.uniform(shape = (num_hidden, num_output)))"
      ],
      "metadata": {
        "id": "_wvt7XrXMegH"
      },
      "execution_count": 53,
      "outputs": []
    },
    {
      "cell_type": "code",
      "source": [
        "def model(inputs):\n",
        "  return tf.sigmoid(tf.matmul(tf.sigmoid(tf.matmul(inputs, W1_tf)), W2_tf))"
      ],
      "metadata": {
        "id": "laFaeN_4Mecj"
      },
      "execution_count": 54,
      "outputs": []
    },
    {
      "cell_type": "code",
      "source": [
        "x = x.astype(np.float32)\n",
        "y = y.astype(np.float32)"
      ],
      "metadata": {
        "id": "wJGZDn15MeZW"
      },
      "execution_count": 34,
      "outputs": []
    },
    {
      "cell_type": "code",
      "source": [
        "# checking forward pass ... note shapes\n",
        "model(x.T)"
      ],
      "metadata": {
        "colab": {
          "base_uri": "https://localhost:8080/"
        },
        "id": "1z633XwCMeWN",
        "outputId": "909632f5-2fc2-4e1d-9a10-49bd64900d2c"
      },
      "execution_count": 52,
      "outputs": [
        {
          "output_type": "execute_result",
          "data": {
            "text/plain": [
              "<tf.Tensor: shape=(4, 1), dtype=float32, numpy=\n",
              "array([[0.7839085 ],\n",
              "       [0.7839915 ],\n",
              "       [0.8186132 ],\n",
              "       [0.73556083]], dtype=float32)>"
            ]
          },
          "metadata": {},
          "execution_count": 52
        }
      ]
    },
    {
      "cell_type": "code",
      "source": [
        "def square_loss(targets, predictions):\n",
        "  per_sample_losses = tf.square(targets - predictions)\n",
        "  return tf.reduce_mean(per_sample_losses)"
      ],
      "metadata": {
        "id": "ouhHOodoMeS2"
      },
      "execution_count": 55,
      "outputs": []
    },
    {
      "cell_type": "code",
      "source": [
        "# check\n",
        "square_loss(y, model(x.T))"
      ],
      "metadata": {
        "colab": {
          "base_uri": "https://localhost:8080/"
        },
        "id": "Ao1aBEWDMePx",
        "outputId": "2c4357cd-c21f-4a25-cdfa-0450c3d1a818"
      },
      "execution_count": 56,
      "outputs": [
        {
          "output_type": "execute_result",
          "data": {
            "text/plain": [
              "<tf.Tensor: shape=(), dtype=float32, numpy=0.36421496>"
            ]
          },
          "metadata": {},
          "execution_count": 56
        }
      ]
    },
    {
      "cell_type": "code",
      "source": [
        "learning_rate = 0.01\n",
        "\n",
        "def training_step(inputs, targets):\n",
        "  with tf.GradientTape(persistent=True) as tape:\n",
        "    predictions = model(inputs)\n",
        "    loss = square_loss(predictions, targets)\n",
        "  grad_loss_wrt_W1 = tape.gradient(loss, W1_tf)\n",
        "  grad_loss_wrt_W2 = tape.gradient(loss, W2_tf)\n",
        "  W1_tf.assign_sub(grad_loss_wrt_W1 * learning_rate)\n",
        "  W2_tf.assign_sub(grad_loss_wrt_W2 * learning_rate)\n",
        "\n",
        "  return loss\n"
      ],
      "metadata": {
        "id": "VXgxNn9sVcUw"
      },
      "execution_count": 59,
      "outputs": []
    },
    {
      "cell_type": "code",
      "source": [
        "losses = []\n",
        "\n",
        "for step in range(num_iterations):\n",
        "  loss = training_step(inputs = x.T, targets = y)\n",
        "  losses.append(loss)"
      ],
      "metadata": {
        "id": "0DJ0EcaPVcRz"
      },
      "execution_count": 61,
      "outputs": []
    },
    {
      "cell_type": "code",
      "source": [
        "plt.grid()\n",
        "plt.plot(range(num_iterations), losses)\n",
        "\n",
        "plt.title('Cost Function')\n",
        "plt.xlabel('Training Iterations')\n",
        "plt.ylabel('Cost')"
      ],
      "metadata": {
        "colab": {
          "base_uri": "https://localhost:8080/",
          "height": 489
        },
        "id": "3YX7v1GyVcNe",
        "outputId": "5d4a5955-bf44-46e3-abca-33154d3e87a3"
      },
      "execution_count": 62,
      "outputs": [
        {
          "output_type": "execute_result",
          "data": {
            "text/plain": [
              "Text(0, 0.5, 'Cost')"
            ]
          },
          "metadata": {},
          "execution_count": 62
        },
        {
          "output_type": "display_data",
          "data": {
            "text/plain": [
              "<Figure size 640x480 with 1 Axes>"
            ],
            "image/png": "[encoded data removed]"
          },
          "metadata": {}
        }
      ]
    },
    {
      "cell_type": "code",
      "source": [],
      "metadata": {
        "id": "fEHWSeQ2VcLB"
      },
      "execution_count": null,
      "outputs": []
    },
    {
      "cell_type": "code",
      "source": [],
      "metadata": {
        "id": "JSlGsXNfVcIP"
      },
      "execution_count": null,
      "outputs": []
    },
    {
      "cell_type": "code",
      "source": [],
      "metadata": {
        "id": "lKKgJlETVcFO"
      },
      "execution_count": null,
      "outputs": []
    },
    {
      "cell_type": "code",
      "source": [],
      "metadata": {
        "id": "ymWGw38WMeM1"
      },
      "execution_count": 14,
      "outputs": []
    },
    {
      "cell_type": "code",
      "execution_count": 14,
      "metadata": {
        "id": "KP5rUe2hJj30"
      },
      "outputs": [],
      "source": []
    },
    {
      "cell_type": "code",
      "execution_count": 14,
      "metadata": {
        "id": "yYuqQ7t7Jj30"
      },
      "outputs": [],
      "source": []
    }
  ],
  "metadata": {
    "kernelspec": {
      "display_name": "Python 3",
      "language": "python",
      "name": "python3"
    },
    "language_info": {
      "codemirror_mode": {
        "name": "ipython",
        "version": 3
      },
      "file_extension": ".py",
      "mimetype": "text/x-python",
      "name": "python",
      "nbconvert_exporter": "python",
      "pygments_lexer": "ipython3",
      "version": "3.8.3"
    },
    "colab": {
      "provenance": [],
      "include_colab_link": true
    }
  },
  "nbformat": 4,
  "nbformat_minor": 0
}