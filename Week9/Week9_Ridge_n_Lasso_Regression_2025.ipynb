{
  "nbformat": 4,
  "nbformat_minor": 0,
  "metadata": {
    "colab": {
      "provenance": [],
      "authorship_tag": "ABX9TyN70mPNZFF1mbww4uKwL7/m",
      "include_colab_link": true
    },
    "kernelspec": {
      "name": "python3",
      "display_name": "Python 3"
    },
    "language_info": {
      "name": "python"
    }
  },
  "cells": [
    {
      "cell_type": "markdown",
      "metadata": {
        "id": "view-in-github",
        "colab_type": "text"
      },
      "source": [
        "<a href=\"https://colab.research.google.com/github/rajdeepbanerjee-git/JNCLectures_Intro_to_ML/blob/main/Week9/Week9_Ridge_n_Lasso_Regression_2025.ipynb\" target=\"_parent\"><img src=\"https://colab.research.google.com/assets/colab-badge.svg\" alt=\"Open In Colab\"/></a>"
      ]
    },
    {
      "cell_type": "code",
      "source": [
        "import numpy as np\n",
        "import pandas as pd\n",
        "\n",
        "import matplotlib.pyplot as plt\n",
        "import warnings\n",
        "warnings.filterwarnings('ignore')"
      ],
      "metadata": {
        "id": "2cTh6K5K4Mt9"
      },
      "execution_count": 1,
      "outputs": []
    },
    {
      "cell_type": "markdown",
      "source": [
        "#### Ridge Regression"
      ],
      "metadata": {
        "id": "25ZBaz4wAFBs"
      }
    },
    {
      "cell_type": "code",
      "source": [
        "import numpy as np\n",
        "\n",
        "def ridge(x, y, lam=0):\n",
        "    \"\"\"\n",
        "    Computes the Ridge Regression solution with built-in data scaling.\n",
        "\n",
        "    This function first standardizes the input data (centers and scales each feature\n",
        "    and centers the response), then computes the Ridge Regression coefficients\n",
        "    using the closed-form solution:\n",
        "\n",
        "        beta = (X^T X + lam * I)^{-1} X^T y\n",
        "\n",
        "    Finally, it adjusts the computed coefficients to revert the effect of scaling,\n",
        "    and computes the intercept term.\n",
        "\n",
        "    Parameters\n",
        "    ----------\n",
        "    x : np.ndarray\n",
        "        The design matrix of shape (n, p). Each column represents a feature.\n",
        "    y : np.ndarray\n",
        "        The response vector of length n.\n",
        "    lam : float, optional\n",
        "        Regularization parameter (lambda). Default is 0 (ordinary least squares).\n",
        "\n",
        "    Returns\n",
        "    -------\n",
        "    result : dict\n",
        "        A dictionary with keys:\n",
        "          - 'beta_0': The estimated intercept (scalar).\n",
        "          - 'beta': The estimated coefficients (p-dimensional array).\n",
        "    \"\"\"\n",
        "\n",
        "    # Make a copy of the input design matrix to avoid modifying the original data\n",
        "    X = x.copy()\n",
        "    n, p = X.shape\n",
        "\n",
        "    # Initialize arrays to store the means and standard deviations for each feature\n",
        "    X_bar = np.zeros(p)  # means for each feature in X\n",
        "    s = np.zeros(p)      # standard deviations for each feature in X\n",
        "\n",
        "    # Standardize each column (feature) of X\n",
        "    for j in range(p):\n",
        "        X_bar[j] = np.mean(X[:, j])  # Compute the mean of the j-th feature\n",
        "        s[j] = np.std(X[:, j])       # Compute the standard deviation of the j-th feature\n",
        "        X[:, j] = (X[:, j] - X_bar[j]) / s[j]  # Standardize the feature\n",
        "\n",
        "    # Center the response variable y (scale is not applied to y)\n",
        "    y_bar = np.mean(y)\n",
        "    y = y - y_bar\n",
        "\n",
        "    # Compute the Ridge Regression coefficients using the closed-form solution.\n",
        "    # Note: No need to scale by n here because data is already standardized.\n",
        "    beta = np.linalg.inv(X.T @ X + lam * np.eye(p)) @ X.T @ y\n",
        "\n",
        "    # Adjust the coefficients to account for the scaling of X.\n",
        "    # This reverses the effect of standardizing X.\n",
        "    for j in range(p):\n",
        "        beta[j] = beta[j] / s[j]\n",
        "\n",
        "    # Compute the intercept term (beta_0).\n",
        "    # Adjusting back using the original means of X and y.\n",
        "    beta_0 = y_bar - X_bar.T @ beta\n",
        "\n",
        "    # Return the intercept and coefficients as a dictionary.\n",
        "    return {'beta_0': beta_0, 'beta': beta}\n",
        "\n",
        "\n"
      ],
      "metadata": {
        "id": "BoWOicER4MlJ"
      },
      "execution_count": 9,
      "outputs": []
    },
    {
      "cell_type": "code",
      "source": [
        "# Example usage:\n",
        "\n",
        "# Create synthetic data for demonstration\n",
        "np.random.seed(0)\n",
        "n, p = 100, 5\n",
        "x = np.random.randn(n, p)\n",
        "true_beta = np.array([3, 0, -2, 0, 1.5])\n",
        "y = x @ true_beta + np.random.randn(n) * 0.5\n",
        "\n",
        "# Compute ridge regression coefficients with a given lambda (regularization strength)\n",
        "result = ridge(x, y, lam=0.5)\n",
        "print(\"Intercept:\", result['beta_0'])\n",
        "print(\"Coefficients:\", result['beta'])"
      ],
      "metadata": {
        "colab": {
          "base_uri": "https://localhost:8080/"
        },
        "id": "gZOun0H1_lo2",
        "outputId": "57435b61-7acf-4e82-fba7-d51105e23b69"
      },
      "execution_count": 15,
      "outputs": [
        {
          "output_type": "stream",
          "name": "stdout",
          "text": [
            "Intercept: -0.08953929932474226\n",
            "Coefficients: [ 2.99976013  0.03621118 -1.88488003 -0.00771316  1.46334302]\n"
          ]
        }
      ]
    },
    {
      "cell_type": "code",
      "source": [
        "df = np.loadtxt('crime.txt')\n",
        "print(df)"
      ],
      "metadata": {
        "colab": {
          "base_uri": "https://localhost:8080/"
        },
        "id": "EGlDaG6k4MhD",
        "outputId": "35abe488-4cb8-409d-a920-afe29c5d4099"
      },
      "execution_count": 10,
      "outputs": [
        {
          "output_type": "stream",
          "name": "stdout",
          "text": [
            "[[ 478.  184.   40.   74.   11.   31.   20.]\n",
            " [ 494.  213.   32.   72.   11.   43.   18.]\n",
            " [ 643.  347.   57.   70.   18.   16.   16.]\n",
            " [ 341.  565.   31.   71.   11.   25.   19.]\n",
            " [ 773.  327.   67.   72.    9.   29.   24.]\n",
            " [ 603.  260.   25.   68.    8.   32.   15.]\n",
            " [ 484.  325.   34.   68.   12.   24.   14.]\n",
            " [ 546.  102.   33.   62.   13.   28.   11.]\n",
            " [ 424.   38.   36.   69.    7.   25.   12.]\n",
            " [ 548.  226.   31.   66.    9.   58.   15.]\n",
            " [ 506.  137.   35.   60.   13.   21.    9.]\n",
            " [ 819.  369.   30.   81.    4.   77.   36.]\n",
            " [ 541.  109.   44.   66.    9.   37.   12.]\n",
            " [ 491.  809.   32.   67.   11.   37.   16.]\n",
            " [ 514.   29.   30.   65.   12.   35.   11.]\n",
            " [ 371.  245.   16.   64.   10.   42.   14.]\n",
            " [ 457.  118.   29.   64.   12.   21.   10.]\n",
            " [ 437.  148.   36.   62.    7.   81.   27.]\n",
            " [ 570.  387.   30.   59.   15.   31.   16.]\n",
            " [ 432.   98.   23.   56.   15.   50.   15.]\n",
            " [ 619.  608.   33.   46.   22.   24.    8.]\n",
            " [ 357.  218.   35.   54.   14.   27.   13.]\n",
            " [ 623.  254.   38.   54.   20.   22.   11.]\n",
            " [ 547.  697.   44.   45.   26.   18.    8.]\n",
            " [ 792.  827.   28.   57.   12.   23.   11.]\n",
            " [ 799.  693.   35.   57.    9.   60.   18.]\n",
            " [ 439.  448.   31.   61.   19.   14.   12.]\n",
            " [ 867.  942.   39.   52.   17.   31.   10.]\n",
            " [ 912. 1017.   27.   44.   21.   24.    9.]\n",
            " [ 462.  216.   36.   43.   18.   23.    8.]\n",
            " [ 859.  673.   38.   48.   19.   22.   10.]\n",
            " [ 805.  989.   46.   57.   14.   25.   12.]\n",
            " [ 652.  630.   29.   47.   19.   25.    9.]\n",
            " [ 776.  404.   32.   50.   19.   21.    9.]\n",
            " [ 919.  692.   39.   48.   16.   32.   11.]\n",
            " [ 732. 1517.   44.   49.   13.   31.   14.]\n",
            " [ 657.  879.   33.   72.   13.   13.   22.]\n",
            " [1419.  631.   43.   59.   14.   21.   13.]\n",
            " [ 989. 1375.   22.   49.    9.   46.   13.]\n",
            " [ 821. 1139.   30.   54.   13.   27.   12.]\n",
            " [1740. 3545.   86.   62.   22.   18.   15.]\n",
            " [ 815.  706.   30.   47.   17.   39.   11.]\n",
            " [ 760.  451.   32.   45.   34.   15.   10.]\n",
            " [ 936.  433.   43.   48.   26.   23.   12.]\n",
            " [ 863.  601.   20.   69.   23.    7.   12.]\n",
            " [ 783. 1024.   55.   42.   23.   23.   11.]\n",
            " [ 715.  457.   44.   49.   18.   30.   12.]\n",
            " [1504. 1441.   37.   57.   15.   35.   13.]\n",
            " [1324. 1022.   82.   72.   22.   15.   16.]\n",
            " [ 940. 1244.   66.   67.   26.   18.   16.]]\n"
          ]
        }
      ]
    },
    {
      "cell_type": "code",
      "source": [
        "# define inputs\n",
        "X = df[:, [i for i in range(2,7)]]\n",
        "p = X.shape[1]\n",
        "y = df[:, 0]\n",
        "lambda_seq = np.arange(0, 50, 0.5)"
      ],
      "metadata": {
        "id": "kVnoRArC4Mdd"
      },
      "execution_count": 11,
      "outputs": []
    },
    {
      "cell_type": "code",
      "source": [
        "# plot\n",
        "\n",
        "plt.xlim(0, 50)\n",
        "plt.ylim(-7.5, 15)\n",
        "plt.xlabel(\"lambda\")\n",
        "plt.ylabel(\"beta\")\n",
        "\n",
        "for j in range(p):\n",
        "  coef_seq = []\n",
        "  for l in lambda_seq:\n",
        "    coef_seq.append(ridge(X, y, l)['beta'][j])\n",
        "  plt.plot(lambda_seq, coef_seq, label=f\"beta_{j+1}\")\n",
        "\n",
        "plt.legend(loc=\"upper right\")\n",
        "plt.show()"
      ],
      "metadata": {
        "colab": {
          "base_uri": "https://localhost:8080/",
          "height": 455
        },
        "id": "RktQX0Hq4MZ7",
        "outputId": "b265b014-fc82-4c5a-c605-75f107eff330"
      },
      "execution_count": 13,
      "outputs": [
        {
          "output_type": "display_data",
          "data": {
            "text/plain": [
              "<Figure size 640x480 with 1 Axes>"
            ],
            "image/png": "[encoded data removed]"
          },
          "metadata": {}
        }
      ]
    },
    {
      "cell_type": "markdown",
      "source": [],
      "metadata": {
        "id": "sbqctLJgAQ0j"
      }
    },
    {
      "cell_type": "code",
      "source": [
        "# define inputs\n",
        "X = df[:, [i for i in range(2,7,1)]]\n",
        "p = X.shape[1]\n",
        "y = df[:, 0]\n",
        "lambda_seq = np.arange(0, 200, 0.5)"
      ],
      "metadata": {
        "id": "GECnjHDYCnk_"
      },
      "execution_count": 25,
      "outputs": []
    },
    {
      "cell_type": "code",
      "source": [
        "def soft_thresholding(rho, lam):\n",
        "    \"\"\"\n",
        "    Soft thresholding operator.\n",
        "    For a given value rho and threshold lam, it returns:\n",
        "      sign(rho) * max(|rho| - lam, 0)\n",
        "    \"\"\"\n",
        "    if rho < -lam:\n",
        "        return rho + lam\n",
        "    elif rho > lam:\n",
        "        return rho - lam\n",
        "    else:\n",
        "        return 0.0\n",
        "\n",
        "def lasso_coordinate_descent(X, y, lam, num_iters=1000, tol=1e-6):\n",
        "    \"\"\"\n",
        "    Coordinate descent algorithm for Lasso Regression.\n",
        "\n",
        "    Parameters:\n",
        "    -----------\n",
        "    X : numpy array of shape (n, p) (design matrix)\n",
        "    y : numpy array of shape (n,) (response vector)\n",
        "    lam : regularization parameter (lambda)\n",
        "    num_iters : maximum number of iterations\n",
        "    tol : tolerance for convergence\n",
        "\n",
        "    Returns:\n",
        "    --------\n",
        "    beta : numpy array of shape (p,)\n",
        "        Estimated coefficients.\n",
        "    \"\"\"\n",
        "    n, p = X.shape\n",
        "    beta = np.zeros(p)\n",
        "\n",
        "    # Precompute feature norms: a_j = (1/n) * sum(x_ij^2)\n",
        "    feature_norms = np.sum(X**2, axis=0) / n\n",
        "\n",
        "    for iteration in range(num_iters):\n",
        "        beta_old = beta.copy()\n",
        "        for j in range(p):\n",
        "            # Compute partial residual: r_j = y - X*beta + X[:, j]*beta[j]\n",
        "            r_j = y - X.dot(beta) + X[:, j] * beta[j]\n",
        "            # Compute the inner product (scaled by 1/n)\n",
        "            rho = np.dot(X[:, j], r_j) / n\n",
        "            # Update beta_j using the soft thresholding rule\n",
        "            beta[j] = soft_thresholding(rho, lam) / feature_norms[j]\n",
        "\n",
        "        # Check convergence (using Euclidean norm)\n",
        "        if np.linalg.norm(beta - beta_old, ord=2) < tol:\n",
        "            break\n",
        "\n",
        "    return beta\n",
        "\n",
        "def lasso(X, y, lam, num_iters=1000, tol=1e-6):\n",
        "    \"\"\"\n",
        "    Wrapper for Lasso regression that returns coefficients in a dictionary.\n",
        "\n",
        "    Parameters:\n",
        "    -----------\n",
        "    X : numpy array of shape (n, p)\n",
        "    y : numpy array of shape (n,)\n",
        "    lam : regularization parameter (lambda)\n",
        "    num_iters : maximum number of iterations (default 1000)\n",
        "    tol : tolerance for convergence (default 1e-6)\n",
        "\n",
        "    Returns:\n",
        "    --------\n",
        "    result : dict\n",
        "        Dictionary with key 'beta' containing the coefficient vector.\n",
        "    \"\"\"\n",
        "    beta = lasso_coordinate_descent(X, y, lam, num_iters, tol)\n",
        "    return {'beta': beta}"
      ],
      "metadata": {
        "id": "j1wBbyZI4MWZ"
      },
      "execution_count": 26,
      "outputs": []
    },
    {
      "cell_type": "code",
      "source": [
        "lasso(X,y,20)"
      ],
      "metadata": {
        "colab": {
          "base_uri": "https://localhost:8080/"
        },
        "id": "NjSVFJymDCtF",
        "outputId": "16d25a24-fa86-4411-a150-2f50f2189966"
      },
      "execution_count": 27,
      "outputs": [
        {
          "output_type": "execute_result",
          "data": {
            "text/plain": [
              "{'beta': array([11.01618568, -0.11028896, 13.57569691,  3.21508614,  0.        ])}"
            ]
          },
          "metadata": {},
          "execution_count": 27
        }
      ]
    },
    {
      "cell_type": "code",
      "source": [
        "# ------------------------------\n",
        "# Plot Lasso Coefficient Paths\n",
        "# ------------------------------\n",
        "\n",
        "plt.figure(figsize=(8,6))\n",
        "plt.xlim(0, 200)\n",
        "plt.ylim(-10, 20)\n",
        "plt.xlabel(\"lambda\")\n",
        "plt.ylabel(\"beta\")\n",
        "plt.title(\"Lasso Regression Coefficient Paths\")\n",
        "\n",
        "# For each coefficient (there are 5 features), compute the coefficient path over lambda_seq\n",
        "for j in range(p):\n",
        "    coef_seq = []\n",
        "    for lam in lambda_seq:\n",
        "        coef_seq.append(lasso(X, y, lam)['beta'][j])\n",
        "    # Convert coef_seq to a numpy array for consistent shape (100,)\n",
        "    coef_seq = np.array(coef_seq)\n",
        "    plt.plot(lambda_seq, coef_seq, label=f\"$\\\\beta_{{{j+1}}}$\")\n",
        "\n",
        "plt.legend(loc=\"upper right\")\n",
        "plt.show()"
      ],
      "metadata": {
        "colab": {
          "base_uri": "https://localhost:8080/",
          "height": 564
        },
        "id": "J_4QcVlp4MTS",
        "outputId": "966732fc-2d32-40f9-a2a8-cd9240a7bdb2"
      },
      "execution_count": 28,
      "outputs": [
        {
          "output_type": "display_data",
          "data": {
            "text/plain": [
              "<Figure size 800x600 with 1 Axes>"
            ],
            "image/png": "[encoded data removed]"
          },
          "metadata": {}
        }
      ]
    },
    {
      "cell_type": "code",
      "source": [],
      "metadata": {
        "id": "5b2rO00Z4MQa"
      },
      "execution_count": null,
      "outputs": []
    },
    {
      "cell_type": "code",
      "source": [],
      "metadata": {
        "id": "xFCg9du34MNk"
      },
      "execution_count": null,
      "outputs": []
    },
    {
      "cell_type": "code",
      "source": [],
      "metadata": {
        "id": "XG_V4qWU4MK3"
      },
      "execution_count": null,
      "outputs": []
    },
    {
      "cell_type": "code",
      "source": [],
      "metadata": {
        "id": "xjK8ZMsA4MIE"
      },
      "execution_count": null,
      "outputs": []
    },
    {
      "cell_type": "code",
      "source": [],
      "metadata": {
        "id": "l1mru9374MFS"
      },
      "execution_count": null,
      "outputs": []
    },
    {
      "cell_type": "code",
      "source": [],
      "metadata": {
        "id": "JyJIBl2m4MCl"
      },
      "execution_count": null,
      "outputs": []
    },
    {
      "cell_type": "code",
      "execution_count": null,
      "metadata": {
        "id": "JxV081724Fn3"
      },
      "outputs": [],
      "source": []
    }
  ]
}