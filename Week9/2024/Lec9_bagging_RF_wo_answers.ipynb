{
  "nbformat": 4,
  "nbformat_minor": 0,
  "metadata": {
    "colab": {
      "provenance": [],
      "authorship_tag": "ABX9TyO5PgP42CyE+IyMvkKijh60",
      "include_colab_link": true
    },
    "kernelspec": {
      "name": "python3",
      "display_name": "Python 3"
    },
    "language_info": {
      "name": "python"
    }
  },
  "cells": [
    {
      "cell_type": "markdown",
      "metadata": {
        "id": "view-in-github",
        "colab_type": "text"
      },
      "source": [
        "<a href=\"https://colab.research.google.com/github/rajdeepbanerjee-git/JNCLectures_Intro_to_ML/blob/main/Week9/Lec9_bagging_RF_wo_answers.ipynb\" target=\"_parent\"><img src=\"https://colab.research.google.com/assets/colab-badge.svg\" alt=\"Open In Colab\"/></a>"
      ]
    },
    {
      "cell_type": "code",
      "source": [
        "import numpy as np\n",
        "import pandas as pd\n",
        "\n",
        "import matplotlib.pyplot as plt\n",
        "\n",
        "from sklearn.model_selection import train_test_split\n",
        "from sklearn.tree import DecisionTreeRegressor\n",
        "from sklearn.metrics import r2_score\n"
      ],
      "metadata": {
        "id": "zY2k52KTTOuD"
      },
      "execution_count": null,
      "outputs": []
    },
    {
      "cell_type": "code",
      "source": [
        "data = pd.read_csv(\"Hitters.csv\")\n",
        "data.info()"
      ],
      "metadata": {
        "colab": {
          "base_uri": "https://localhost:8080/"
        },
        "id": "yFpMsAGXTOoe",
        "outputId": "b38395c7-b135-440a-c96a-021e7af4ceab"
      },
      "execution_count": null,
      "outputs": [
        {
          "output_type": "stream",
          "name": "stdout",
          "text": [
            "<class 'pandas.core.frame.DataFrame'>\n",
            "RangeIndex: 322 entries, 0 to 321\n",
            "Data columns (total 20 columns):\n",
            " #   Column     Non-Null Count  Dtype  \n",
            "---  ------     --------------  -----  \n",
            " 0   AtBat      322 non-null    int64  \n",
            " 1   Hits       322 non-null    int64  \n",
            " 2   HmRun      322 non-null    int64  \n",
            " 3   Runs       322 non-null    int64  \n",
            " 4   RBI        322 non-null    int64  \n",
            " 5   Walks      322 non-null    int64  \n",
            " 6   Years      322 non-null    int64  \n",
            " 7   CAtBat     322 non-null    int64  \n",
            " 8   CHits      322 non-null    int64  \n",
            " 9   CHmRun     322 non-null    int64  \n",
            " 10  CRuns      322 non-null    int64  \n",
            " 11  CRBI       322 non-null    int64  \n",
            " 12  CWalks     322 non-null    int64  \n",
            " 13  League     322 non-null    object \n",
            " 14  Division   322 non-null    object \n",
            " 15  PutOuts    322 non-null    int64  \n",
            " 16  Assists    322 non-null    int64  \n",
            " 17  Errors     322 non-null    int64  \n",
            " 18  Salary     263 non-null    float64\n",
            " 19  NewLeague  322 non-null    object \n",
            "dtypes: float64(1), int64(16), object(3)\n",
            "memory usage: 50.4+ KB\n"
          ]
        }
      ]
    },
    {
      "cell_type": "code",
      "source": [
        "data.drop([\"League\",\"Division\",\"NewLeague\"], axis = 1, inplace = True)\n",
        "data.dropna(how = \"any\", inplace = True)\n",
        "data.info()"
      ],
      "metadata": {
        "colab": {
          "base_uri": "https://localhost:8080/"
        },
        "id": "rqQvhSuECjOB",
        "outputId": "2afcb9c8-81c8-4044-f1a3-c7530f7964aa"
      },
      "execution_count": null,
      "outputs": [
        {
          "output_type": "stream",
          "name": "stdout",
          "text": [
            "<class 'pandas.core.frame.DataFrame'>\n",
            "Int64Index: 263 entries, 1 to 321\n",
            "Data columns (total 17 columns):\n",
            " #   Column   Non-Null Count  Dtype  \n",
            "---  ------   --------------  -----  \n",
            " 0   AtBat    263 non-null    int64  \n",
            " 1   Hits     263 non-null    int64  \n",
            " 2   HmRun    263 non-null    int64  \n",
            " 3   Runs     263 non-null    int64  \n",
            " 4   RBI      263 non-null    int64  \n",
            " 5   Walks    263 non-null    int64  \n",
            " 6   Years    263 non-null    int64  \n",
            " 7   CAtBat   263 non-null    int64  \n",
            " 8   CHits    263 non-null    int64  \n",
            " 9   CHmRun   263 non-null    int64  \n",
            " 10  CRuns    263 non-null    int64  \n",
            " 11  CRBI     263 non-null    int64  \n",
            " 12  CWalks   263 non-null    int64  \n",
            " 13  PutOuts  263 non-null    int64  \n",
            " 14  Assists  263 non-null    int64  \n",
            " 15  Errors   263 non-null    int64  \n",
            " 16  Salary   263 non-null    float64\n",
            "dtypes: float64(1), int64(16)\n",
            "memory usage: 37.0 KB\n"
          ]
        }
      ]
    },
    {
      "cell_type": "code",
      "source": [
        "X = data.drop([\"Salary\"], axis = 1)\n",
        "y = data[\"Salary\"]\n",
        "X_train, X_test, y_train, y_test = train_test_split(X, y, test_size=0.33, random_state=42)"
      ],
      "metadata": {
        "id": "SMpwIqqrTOjZ"
      },
      "execution_count": null,
      "outputs": []
    },
    {
      "cell_type": "markdown",
      "source": [
        "#### Baseline regressor"
      ],
      "metadata": {
        "id": "DbB0fQpqYG9D"
      }
    },
    {
      "cell_type": "code",
      "source": [
        "# fit basic regression tree with depth 1\n",
        "base_tree = DecisionTreeRegressor(max_depth=1, random_state=0)\n",
        "base_tree.fit(X_train, y_train)\n",
        "y_pred = base_tree.predict(X_test)\n",
        "\n",
        "# metrics\n",
        "r2_score(y_test, y_pred)"
      ],
      "metadata": {
        "colab": {
          "base_uri": "https://localhost:8080/"
        },
        "id": "tNHFJGFMX-Gz",
        "outputId": "3a050f92-811a-4272-f8e7-c0f22b150df6"
      },
      "execution_count": null,
      "outputs": [
        {
          "output_type": "execute_result",
          "data": {
            "text/plain": [
              "0.22707377995666833"
            ]
          },
          "metadata": {},
          "execution_count": 77
        }
      ]
    },
    {
      "cell_type": "code",
      "source": [
        "# create bootstrapped samples\n",
        "# create a random number generator that will be used to set the randomness\n",
        "rng = np.random.RandomState(42)\n",
        "\n",
        "def get_bootstrap_data(X_train, y_train):\n",
        "\n",
        "    train_indices = X_train.index\n",
        "    bootstrap_indices = rng.choice(train_indices,\n",
        "                                  len(train_indices),\n",
        "                                  replace = True)\n",
        "    ratio = len(set(train_indices).intersection(set(bootstrap_indices)))/len(train_indices)\n",
        "    X_train_bootstrap = X_train.loc[bootstrap_indices]\n",
        "    y_train_bootstrap = y_train.loc[bootstrap_indices]\n",
        "\n",
        "    return X_train_bootstrap, y_train_bootstrap, ratio"
      ],
      "metadata": {
        "id": "6wfUkNGMX-Dm"
      },
      "execution_count": null,
      "outputs": []
    },
    {
      "cell_type": "code",
      "source": [
        "# Now, we take four trees and train on separate bootrapped samples.\n",
        "# Final prediction is the average of all the 4 predictions for each test observation\n",
        "n_tree = 500\n",
        "y_pred = []\n",
        "tree = DecisionTreeRegressor(max_depth=1, random_state=0)\n",
        "\n",
        "for i in range(n_tree):\n",
        "  X_train_bootstrap, y_train_bootstrap, _ = get_bootstrap_data(X_train = X_train, y_train = y_train)\n",
        "  tree.fit(X_train_bootstrap, y_train_bootstrap)\n",
        "  y_pred_bootstrap = tree.predict(X_test)\n",
        "  y_pred.append(y_pred_bootstrap)"
      ],
      "metadata": {
        "id": "SF3d3SoHX98r"
      },
      "execution_count": null,
      "outputs": []
    },
    {
      "cell_type": "code",
      "source": [
        "# final prediction is average of bootstrapped tree predicitons\n",
        "y_pred_final = np.mean(np.stack(np.array(y_pred).T, axis = 0), axis = 1)\n",
        "\n",
        "# metrics\n",
        "r2_score(y_test, y_pred_final)"
      ],
      "metadata": {
        "colab": {
          "base_uri": "https://localhost:8080/"
        },
        "id": "-itKExHhj3P1",
        "outputId": "2f697c7b-ba51-4b9f-a704-85d17d465780"
      },
      "execution_count": null,
      "outputs": [
        {
          "output_type": "execute_result",
          "data": {
            "text/plain": [
              "0.272207333086399"
            ]
          },
          "metadata": {},
          "execution_count": 90
        }
      ]
    },
    {
      "cell_type": "markdown",
      "source": [
        "We have increased accuracy from 20% to 25% by bootstrapped aggregation. <br>\n",
        "Note: The reason why we have taken depth = 1 is that we can use the concept of random forest at the first split without going into bigger trees (which, writing from scratch would mean inheriting the DecisionTreeRegressor class and overwriting the methods). Obviousely our score will be low as tree depth is 1 (high bias!) - but it will convey the idea, trust me!\n"
      ],
      "metadata": {
        "id": "iQnwChCZuaCw"
      }
    },
    {
      "cell_type": "code",
      "source": [
        "# In random forest, each tree built on the bootstrap sample will have m features\n",
        "# randomly chosen from p features. This should be repeated for each node while growing the\n",
        "# tree, but since we have only one node, the following will suffice!\n",
        "# Note, selecting m features and getting best split is same as passing a filtered data to the depth = 1 decision tree\n",
        "\n",
        "def get_bootstrap_rf_data(X_train, y_train, n_features):\n",
        "\n",
        "    train_indices = X_train.index\n",
        "    bootstrap_indices = rng.choice(train_indices,\n",
        "                                  len(train_indices),\n",
        "                                  replace = True)\n",
        "    feature_indices = list(rng.choice(range(X_train.shape[1]), n_features))\n",
        "\n",
        "    X_train_bootstrap = X_train.loc[bootstrap_indices]\n",
        "    y_train_bootstrap = y_train.loc[bootstrap_indices]\n",
        "\n",
        "    X_train_bootstrap_rf = X_train_bootstrap.iloc[:, feature_indices]\n",
        "\n",
        "    return X_train_bootstrap_rf, y_train_bootstrap, feature_indices"
      ],
      "metadata": {
        "id": "LQ-H60cOTOYU"
      },
      "execution_count": null,
      "outputs": []
    },
    {
      "cell_type": "code",
      "source": [
        "n_tree = 500\n",
        "y_pred = []\n",
        "tree = DecisionTreeRegressor(max_depth=1, random_state=0)\n",
        "\n",
        "for i in range(n_tree):\n",
        "  X_train_bootstrap, y_train_bootstrap, feature_indices = get_bootstrap_rf_data(X_train = X_train,\n",
        "                                                              y_train = y_train,\n",
        "                                                              n_features = 4)\n",
        "  tree.fit(X_train_bootstrap, y_train_bootstrap)\n",
        "  y_pred_bootstrap = tree.predict(X_test.iloc[:, feature_indices])\n",
        "  y_pred.append(y_pred_bootstrap)"
      ],
      "metadata": {
        "id": "IUeHcDGRA3Cp"
      },
      "execution_count": null,
      "outputs": []
    },
    {
      "cell_type": "code",
      "source": [
        "# final prediction is average of bootstrapped tree predicitons\n",
        "y_pred_final = np.mean(np.stack(np.array(y_pred).T, axis = 0), axis = 1)\n",
        "\n",
        "# metrics\n",
        "r2_score(y_test, y_pred_final)"
      ],
      "metadata": {
        "id": "Kdxcg7q-TOVZ",
        "colab": {
          "base_uri": "https://localhost:8080/"
        },
        "outputId": "f165ee7c-736d-4c44-ba18-78ed9e631469"
      },
      "execution_count": null,
      "outputs": [
        {
          "output_type": "execute_result",
          "data": {
            "text/plain": [
              "0.26588830460749935"
            ]
          },
          "metadata": {},
          "execution_count": 97
        }
      ]
    },
    {
      "cell_type": "markdown",
      "source": [
        "Question: Plot the test r2 score for the bagging and rf case as a function of n_tree.\n",
        "1. Can you explain what you see?\n",
        "2. Run it multiple times and plot, how does the plot change? Why?"
      ],
      "metadata": {
        "id": "Eh85VRVDG-yd"
      }
    },
    {
      "cell_type": "code",
      "source": [],
      "metadata": {
        "id": "9z_oW1QONLgr"
      },
      "execution_count": null,
      "outputs": []
    },
    {
      "cell_type": "code",
      "source": [],
      "metadata": {
        "id": "rXw1AncbNLUA"
      },
      "execution_count": null,
      "outputs": []
    },
    {
      "cell_type": "code",
      "source": [],
      "metadata": {
        "id": "7NiP6l5YJyWr"
      },
      "execution_count": null,
      "outputs": []
    },
    {
      "cell_type": "code",
      "source": [],
      "metadata": {
        "id": "_h4ofiE0G-MR"
      },
      "execution_count": null,
      "outputs": []
    },
    {
      "cell_type": "code",
      "execution_count": null,
      "metadata": {
        "id": "D8edKkLJTN7L"
      },
      "outputs": [],
      "source": []
    }
  ]
}