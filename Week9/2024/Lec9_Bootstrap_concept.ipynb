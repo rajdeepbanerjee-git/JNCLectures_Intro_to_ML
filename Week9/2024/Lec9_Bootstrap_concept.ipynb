{
  "nbformat": 4,
  "nbformat_minor": 0,
  "metadata": {
    "colab": {
      "provenance": [],
      "authorship_tag": "ABX9TyPU1Nd4DKoyiYAY8GXx2C3U",
      "include_colab_link": true
    },
    "kernelspec": {
      "name": "python3",
      "display_name": "Python 3"
    },
    "language_info": {
      "name": "python"
    }
  },
  "cells": [
    {
      "cell_type": "markdown",
      "metadata": {
        "id": "view-in-github",
        "colab_type": "text"
      },
      "source": [
        "<a href=\"https://colab.research.google.com/github/rajdeepbanerjee-git/JNCLectures_Intro_to_ML/blob/main/Week9/Lec9_Bootstrap_concept.ipynb\" target=\"_parent\"><img src=\"https://colab.research.google.com/assets/colab-badge.svg\" alt=\"Open In Colab\"/></a>"
      ]
    },
    {
      "cell_type": "code",
      "source": [
        "import numpy as np\n",
        "import pandas as pd\n",
        "\n",
        "import matplotlib.pyplot as plt"
      ],
      "metadata": {
        "id": "OzqjzbYzIAJs"
      },
      "execution_count": 1,
      "outputs": []
    },
    {
      "cell_type": "code",
      "source": [
        "rng = np.random.RandomState(0)"
      ],
      "metadata": {
        "id": "nrRwBbw2IAHA"
      },
      "execution_count": 57,
      "outputs": []
    },
    {
      "cell_type": "code",
      "source": [
        "# Generate correlated samples\n",
        "kwargs = {\"var_x\" : 1,\n",
        "           \"var_y\" : 1.25,\n",
        "           \"cov_xy\" : 0.5,\n",
        "           \"mean_x\" : 0,\n",
        "           \"mean_y\" : 0,\n",
        "           \"size\": 100}\n",
        "\n",
        "def generate_samples_xy(var_x, var_y, cov_xy, mean_x, mean_y, size):\n",
        "  covariance_matrix = [[var_x, cov_xy], [cov_xy, var_y]]\n",
        "  samples = rng.multivariate_normal([mean_x, mean_y], covariance_matrix, size=size)\n",
        "\n",
        "  return samples\n"
      ],
      "metadata": {
        "id": "FH-7ZNfZIABU"
      },
      "execution_count": 82,
      "outputs": []
    },
    {
      "cell_type": "code",
      "source": [
        "n_trials = 100\n",
        "alpha_estimates = []\n",
        "for i in range(n_trials):\n",
        "  samples = generate_samples_xy(**kwargs)\n",
        "  X = samples[:, 0]\n",
        "  Y = samples[:, 1]\n",
        "  alpha = (np.var(Y) - np.cov(X,Y)[0, 1])/(np.var(X) + np.var(Y) - 2*np.cov(X,Y)[0, 1])\n",
        "  alpha_estimates.append(alpha)\n",
        "\n",
        "standard_error = np.std(alpha_estimates)"
      ],
      "metadata": {
        "id": "JogNPBJnH_-g"
      },
      "execution_count": 83,
      "outputs": []
    },
    {
      "cell_type": "code",
      "source": [
        "standard_error"
      ],
      "metadata": {
        "colab": {
          "base_uri": "https://localhost:8080/"
        },
        "id": "rAyySzbvH_7t",
        "outputId": "c63bf95c-b129-4b9b-b126-271caf6b0d42"
      },
      "execution_count": 84,
      "outputs": [
        {
          "output_type": "execute_result",
          "data": {
            "text/plain": [
              "0.08817615204406551"
            ]
          },
          "metadata": {},
          "execution_count": 84
        }
      ]
    },
    {
      "cell_type": "code",
      "source": [
        "# now I sample with replacement to get the bootstrapped samples\n",
        "# samples = generate_samples_xy(**kwargs)\n",
        "kwargs[\"size\"] = 1000\n",
        "samples = generate_samples_xy(**kwargs)\n",
        "X = samples[:, 0]\n",
        "Y = samples[:, 1]\n",
        "# I will take only 3 observations randomly with replacement from X and Y, calculate alpha\n",
        "# repeat it 100 times\n",
        "alpha_bs_estimates = []\n",
        "\n",
        "for i in range(100):\n",
        "  ind_choices = rng.choice(np.arange(0, len(X), 1), 80, replace = True)\n",
        "  X_bs = X[ind_choices]\n",
        "  Y_bs = Y[ind_choices]\n",
        "  alpha_bs = (np.var(Y_bs) - np.cov(X_bs,Y_bs)[0, 1])/(np.var(X_bs) + np.var(Y_bs) - 2*np.cov(X_bs,Y_bs)[0, 1])\n",
        "  alpha_bs_estimates.append(alpha_bs)\n",
        "\n",
        "standard_error_bs = np.std(alpha_bs_estimates)"
      ],
      "metadata": {
        "id": "l9t-ZHDvPJeC"
      },
      "execution_count": 87,
      "outputs": []
    },
    {
      "cell_type": "code",
      "source": [
        "standard_error_bs"
      ],
      "metadata": {
        "colab": {
          "base_uri": "https://localhost:8080/"
        },
        "id": "SvciytWzPJZs",
        "outputId": "45073d22-44b2-4638-b9a4-4c109ec9f1e0"
      },
      "execution_count": 88,
      "outputs": [
        {
          "output_type": "execute_result",
          "data": {
            "text/plain": [
              "0.08788803197134293"
            ]
          },
          "metadata": {},
          "execution_count": 88
        }
      ]
    },
    {
      "cell_type": "markdown",
      "source": [
        "So, instead of getting 100 samples of size 100 each (i.e. 10000 data points), we achieve same level of error with only 1000 data-points but with bootstrap samples of size 80 and 100 trials."
      ],
      "metadata": {
        "id": "o5rHDXirVLUE"
      }
    },
    {
      "cell_type": "code",
      "source": [],
      "metadata": {
        "id": "J-n3tdaLPJVi"
      },
      "execution_count": null,
      "outputs": []
    },
    {
      "cell_type": "code",
      "source": [],
      "metadata": {
        "id": "fjJjdQgHPJRw"
      },
      "execution_count": null,
      "outputs": []
    },
    {
      "cell_type": "code",
      "source": [],
      "metadata": {
        "id": "JSS5qUY0PJNv"
      },
      "execution_count": null,
      "outputs": []
    },
    {
      "cell_type": "code",
      "source": [],
      "metadata": {
        "id": "FtvXrDEVPJJf"
      },
      "execution_count": null,
      "outputs": []
    },
    {
      "cell_type": "code",
      "source": [],
      "metadata": {
        "id": "KndplcIuPJFZ"
      },
      "execution_count": null,
      "outputs": []
    },
    {
      "cell_type": "code",
      "source": [],
      "metadata": {
        "id": "OrefMco_PJBt"
      },
      "execution_count": null,
      "outputs": []
    },
    {
      "cell_type": "code",
      "source": [],
      "metadata": {
        "id": "HXLCMv3aPI-Z"
      },
      "execution_count": null,
      "outputs": []
    },
    {
      "cell_type": "code",
      "execution_count": null,
      "metadata": {
        "id": "5EbNaL32H8yk"
      },
      "outputs": [],
      "source": []
    }
  ]
}