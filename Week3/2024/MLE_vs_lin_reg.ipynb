{
  "nbformat": 4,
  "nbformat_minor": 0,
  "metadata": {
    "colab": {
      "provenance": [],
      "authorship_tag": "ABX9TyN5YjQk7nR1ta45NBWFm7Eu",
      "include_colab_link": true
    },
    "kernelspec": {
      "name": "python3",
      "display_name": "Python 3"
    },
    "language_info": {
      "name": "python"
    }
  },
  "cells": [
    {
      "cell_type": "markdown",
      "metadata": {
        "id": "view-in-github",
        "colab_type": "text"
      },
      "source": [
        "<a href=\"https://colab.research.google.com/github/rajdeepbanerjee-git/JNCLectures_Intro_to_ML/blob/main/Week3/MLE_vs_lin_reg.ipynb\" target=\"_parent\"><img src=\"https://colab.research.google.com/assets/colab-badge.svg\" alt=\"Open In Colab\"/></a>"
      ]
    },
    {
      "cell_type": "code",
      "source": [
        "import numpy as np\n",
        "import pandas as pd\n",
        "import matplotlib.pyplot as plt\n",
        "import math\n"
      ],
      "metadata": {
        "id": "EJodTxD4tyip"
      },
      "execution_count": null,
      "outputs": []
    },
    {
      "cell_type": "code",
      "source": [
        "# creating the dataset\n",
        "\n",
        "x_train = np.array([0.09291784,0.46809093,0.93089486,0.67612654,0.73441752,0.86847339,\\\n",
        "                   0.49873225,0.51083168,0.18343972,0.99380898,0.27840809,0.38028817,\\\n",
        "                   0.12055708,0.56715537,0.92005746,0.77072270,0.85278176,0.05315950,\\\n",
        "                   0.87168699,0.58858043])\n",
        "y_train = np.array([-0.25934537,0.18195445,0.651270150,0.13921448,0.09366691,0.30567674,\\\n",
        "                    0.372291170,0.20716968,-0.08131792,0.51187806,0.16943738,0.3994327,\\\n",
        "                    0.019062570,0.55820410,0.452564960,-0.1183121,0.02957665,-1.24354444, \\\n",
        "                    0.248038840,0.26824970])"
      ],
      "metadata": {
        "id": "BYnwRKTZtyfq"
      },
      "execution_count": null,
      "outputs": []
    },
    {
      "cell_type": "code",
      "source": [
        "# define model: phi*x + const\n",
        "\n",
        "def lin_reg(x, phi, const = 0.2):\n",
        "  return phi*x + const"
      ],
      "metadata": {
        "id": "tiZqTvUbt5OG"
      },
      "execution_count": null,
      "outputs": []
    },
    {
      "cell_type": "code",
      "source": [
        "# loss\n",
        "\n",
        "def mean_squared_loss(y, y_pred):\n",
        "  return np.mean((y - y_pred)**2)"
      ],
      "metadata": {
        "id": "752rnOi_zINE"
      },
      "execution_count": null,
      "outputs": []
    },
    {
      "cell_type": "code",
      "source": [
        "# derivative of loss\n",
        "\n",
        "def delta_loss(y, y_pred):\n",
        "  diff = np.absolute(y - y_pred)\n",
        "  return 2*diff"
      ],
      "metadata": {
        "id": "WmqgNZjPvrPn"
      },
      "execution_count": null,
      "outputs": []
    },
    {
      "cell_type": "code",
      "source": [
        "# basic stochastic gradient descent\n",
        "\n",
        "n_epoch = 20\n",
        "phi = 0.5\n",
        "const = 0.5\n",
        "l_r = 0.01\n",
        "y_pred = np.zeros(len(x_train))\n",
        "epoch_loss = []\n",
        "\n",
        "for epoch in range(n_epoch):\n",
        "  for i in range(len(x_train)):\n",
        "    y_pred[i] = lin_reg(x = x_train[i], phi = phi, const = const)\n",
        "    phi = phi - l_r * delta_loss(y_train[i], y_pred[i]) * x_train[i]\n",
        "    const = const - l_r * delta_loss(y_train[i], y_pred[i])\n",
        "\n",
        "  epoch_loss_params = {'epoch': epoch,\n",
        "                       'epoch_loss': mean_squared_loss(y_train, y_pred = y_pred),\n",
        "                       'phi': phi,\n",
        "                       'const': const}\n",
        "  epoch_loss.append(epoch_loss_params)\n",
        "  print(f\"epoch: {epoch}, loss: {epoch_loss_params['epoch_loss']}\")\n"
      ],
      "metadata": {
        "colab": {
          "base_uri": "https://localhost:8080/"
        },
        "id": "hzMxHVMOt5K-",
        "outputId": "7b9b2a67-1bcb-44fa-a72a-4ee2abaf7bf1"
      },
      "execution_count": null,
      "outputs": [
        {
          "output_type": "stream",
          "name": "stdout",
          "text": [
            "epoch: 0, loss: 0.36878102216106173\n",
            "epoch: 1, loss: 0.2027612349395332\n",
            "epoch: 2, loss: 0.1407238953587742\n",
            "epoch: 3, loss: 0.11963142769576462\n",
            "epoch: 4, loss: 0.12570093329302942\n",
            "epoch: 5, loss: 0.17691388544304137\n",
            "epoch: 6, loss: 0.34106185391518773\n",
            "epoch: 7, loss: 0.8429200090093868\n",
            "epoch: 8, loss: 2.3004129715950388\n",
            "epoch: 9, loss: 6.461863030628156\n",
            "epoch: 10, loss: 18.506109017074948\n",
            "epoch: 11, loss: 53.33437604552972\n",
            "epoch: 12, loss: 153.99237705434558\n",
            "epoch: 13, loss: 444.8110459549322\n",
            "epoch: 14, loss: 1284.8727657368593\n",
            "epoch: 15, loss: 3711.2016038212896\n",
            "epoch: 16, loss: 10718.624615652661\n",
            "epoch: 17, loss: 30955.779948091884\n",
            "epoch: 18, loss: 89398.48100657457\n",
            "epoch: 19, loss: 258172.2835335262\n"
          ]
        }
      ]
    },
    {
      "cell_type": "code",
      "source": [
        "# epoch 3 has lowest loss:\n",
        "results = pd.DataFrame(epoch_loss)\n",
        "results[results['epoch'] == 3]"
      ],
      "metadata": {
        "colab": {
          "base_uri": "https://localhost:8080/",
          "height": 80
        },
        "id": "3dt4zNJ7t5IH",
        "outputId": "bfeae4f7-3618-41e5-cae8-b71ac7b322b9"
      },
      "execution_count": null,
      "outputs": [
        {
          "output_type": "execute_result",
          "data": {
            "text/plain": [
              "   epoch  epoch_loss       phi     const\n",
              "3      3    0.119631  0.258462 -0.019809"
            ],
            "text/html": [
              "\n",
              "  <div id=\"df-227a229d-1445-4bce-b770-126992113a92\" class=\"colab-df-container\">\n",
              "    <div>\n",
              "<style scoped>\n",
              "    .dataframe tbody tr th:only-of-type {\n",
              "        vertical-align: middle;\n",
              "    }\n",
              "\n",
              "    .dataframe tbody tr th {\n",
              "        vertical-align: top;\n",
              "    }\n",
              "\n",
              "    .dataframe thead th {\n",
              "        text-align: right;\n",
              "    }\n",
              "</style>\n",
              "<table border=\"1\" class=\"dataframe\">\n",
              "  <thead>\n",
              "    <tr style=\"text-align: right;\">\n",
              "      <th></th>\n",
              "      <th>epoch</th>\n",
              "      <th>epoch_loss</th>\n",
              "      <th>phi</th>\n",
              "      <th>const</th>\n",
              "    </tr>\n",
              "  </thead>\n",
              "  <tbody>\n",
              "    <tr>\n",
              "      <th>3</th>\n",
              "      <td>3</td>\n",
              "      <td>0.119631</td>\n",
              "      <td>0.258462</td>\n",
              "      <td>-0.019809</td>\n",
              "    </tr>\n",
              "  </tbody>\n",
              "</table>\n",
              "</div>\n",
              "    <div class=\"colab-df-buttons\">\n",
              "\n",
              "  <div class=\"colab-df-container\">\n",
              "    <button class=\"colab-df-convert\" onclick=\"convertToInteractive('df-227a229d-1445-4bce-b770-126992113a92')\"\n",
              "            title=\"Convert this dataframe to an interactive table.\"\n",
              "            style=\"display:none;\">\n",
              "\n",
              "  <svg xmlns=\"http://www.w3.org/2000/svg\" height=\"24px\" viewBox=\"0 -960 960 960\">\n",
              "    <path d=\"M120-120v-720h720v720H120Zm60-500h600v-160H180v160Zm220 220h160v-160H400v160Zm0 220h160v-160H400v160ZM180-400h160v-160H180v160Zm440 0h160v-160H620v160ZM180-180h160v-160H180v160Zm440 0h160v-160H620v160Z\"/>\n",
              "  </svg>\n",
              "    </button>\n",
              "\n",
              "  <style>\n",
              "    .colab-df-container {\n",
              "      display:flex;\n",
              "      gap: 12px;\n",
              "    }\n",
              "\n",
              "    .colab-df-convert {\n",
              "      background-color: #E8F0FE;\n",
              "      border: none;\n",
              "      border-radius: 50%;\n",
              "      cursor: pointer;\n",
              "      display: none;\n",
              "      fill: #1967D2;\n",
              "      height: 32px;\n",
              "      padding: 0 0 0 0;\n",
              "      width: 32px;\n",
              "    }\n",
              "\n",
              "    .colab-df-convert:hover {\n",
              "      background-color: #E2EBFA;\n",
              "      box-shadow: 0px 1px 2px rgba(60, 64, 67, 0.3), 0px 1px 3px 1px rgba(60, 64, 67, 0.15);\n",
              "      fill: #174EA6;\n",
              "    }\n",
              "\n",
              "    .colab-df-buttons div {\n",
              "      margin-bottom: 4px;\n",
              "    }\n",
              "\n",
              "    [theme=dark] .colab-df-convert {\n",
              "      background-color: #3B4455;\n",
              "      fill: #D2E3FC;\n",
              "    }\n",
              "\n",
              "    [theme=dark] .colab-df-convert:hover {\n",
              "      background-color: #434B5C;\n",
              "      box-shadow: 0px 1px 3px 1px rgba(0, 0, 0, 0.15);\n",
              "      filter: drop-shadow(0px 1px 2px rgba(0, 0, 0, 0.3));\n",
              "      fill: #FFFFFF;\n",
              "    }\n",
              "  </style>\n",
              "\n",
              "    <script>\n",
              "      const buttonEl =\n",
              "        document.querySelector('#df-227a229d-1445-4bce-b770-126992113a92 button.colab-df-convert');\n",
              "      buttonEl.style.display =\n",
              "        google.colab.kernel.accessAllowed ? 'block' : 'none';\n",
              "\n",
              "      async function convertToInteractive(key) {\n",
              "        const element = document.querySelector('#df-227a229d-1445-4bce-b770-126992113a92');\n",
              "        const dataTable =\n",
              "          await google.colab.kernel.invokeFunction('convertToInteractive',\n",
              "                                                    [key], {});\n",
              "        if (!dataTable) return;\n",
              "\n",
              "        const docLinkHtml = 'Like what you see? Visit the ' +\n",
              "          '<a target=\"_blank\" href=https://colab.research.google.com/notebooks/data_table.ipynb>data table notebook</a>'\n",
              "          + ' to learn more about interactive tables.';\n",
              "        element.innerHTML = '';\n",
              "        dataTable['output_type'] = 'display_data';\n",
              "        await google.colab.output.renderOutput(dataTable, element);\n",
              "        const docLink = document.createElement('div');\n",
              "        docLink.innerHTML = docLinkHtml;\n",
              "        element.appendChild(docLink);\n",
              "      }\n",
              "    </script>\n",
              "  </div>\n",
              "\n",
              "\n",
              "    </div>\n",
              "  </div>\n"
            ]
          },
          "metadata": {},
          "execution_count": 98
        }
      ]
    },
    {
      "cell_type": "code",
      "source": [
        "#plot final results\n",
        "final_phi = results[results['epoch'] == 3]['phi'].item()\n",
        "final_const = results[results['epoch'] == 3]['const'].item()\n",
        "final_pred = lin_reg(x = x_train, phi = final_phi, const = final_const)\n",
        "\n",
        "plt.scatter(x_train, y_train)\n",
        "plt.scatter(x_train, final_pred)"
      ],
      "metadata": {
        "colab": {
          "base_uri": "https://localhost:8080/",
          "height": 448
        },
        "id": "lGAloCEPt5FG",
        "outputId": "d1d37be2-8e71-4e76-8499-41d74a397275"
      },
      "execution_count": null,
      "outputs": [
        {
          "output_type": "execute_result",
          "data": {
            "text/plain": [
              "<matplotlib.collections.PathCollection at 0x7f34919d7e80>"
            ]
          },
          "metadata": {},
          "execution_count": 99
        },
        {
          "output_type": "display_data",
          "data": {
            "text/plain": [
              "<Figure size 640x480 with 1 Axes>"
            ],
            "image/png": "[encoded data removed]"
          },
          "metadata": {}
        }
      ]
    },
    {
      "cell_type": "markdown",
      "source": [
        "Can you convert the above code to batch gradient descent?"
      ],
      "metadata": {
        "id": "BfixYuRP_Etd"
      }
    },
    {
      "cell_type": "code",
      "source": [
        "# basic stochastic gradient descent\n",
        "\n",
        "n_epoch = 50\n",
        "phi = 0.5\n",
        "const = 0.5\n",
        "l_r = 0.01\n",
        "y_pred = np.zeros(len(x_train))\n",
        "epoch_loss = []\n",
        "\n",
        "for epoch in range(n_epoch):\n",
        "  # just remove [i] and use average of the array !\n",
        "  y_pred = lin_reg(x = x_train, phi = phi, const = const)\n",
        "  phi = phi - l_r * (delta_loss(y_train, y_pred) * x_train).mean()\n",
        "  const = const - l_r * delta_loss(y_train, y_pred).mean()\n",
        "\n",
        "  epoch_loss_params = {'epoch': epoch,\n",
        "                       'epoch_loss': mean_squared_loss(y_train, y_pred = y_pred),\n",
        "                       'phi': phi,\n",
        "                       'const': const}\n",
        "  epoch_loss.append(epoch_loss_params)\n",
        "  print(f\"epoch: {epoch}, loss: {epoch_loss_params['epoch_loss']}\")\n"
      ],
      "metadata": {
        "colab": {
          "base_uri": "https://localhost:8080/"
        },
        "id": "g-yisLU5_WRS",
        "outputId": "422ac658-46e0-444d-e10f-337597adce37"
      },
      "execution_count": null,
      "outputs": [
        {
          "output_type": "stream",
          "name": "stdout",
          "text": [
            "epoch: 0, loss: 0.5133428735341812\n",
            "epoch: 1, loss: 0.49277360062257813\n",
            "epoch: 2, loss: 0.4732923125411824\n",
            "epoch: 3, loss: 0.4548412631348319\n",
            "epoch: 4, loss: 0.43736577171825763\n",
            "epoch: 5, loss: 0.42081406034344637\n",
            "epoch: 6, loss: 0.40513709970578216\n",
            "epoch: 7, loss: 0.3902884632303748\n",
            "epoch: 8, loss: 0.376224188904321\n",
            "epoch: 9, loss: 0.3629026484437002\n",
            "epoch: 10, loss: 0.35028442340593674\n",
            "epoch: 11, loss: 0.33833218787882735\n",
            "epoch: 12, loss: 0.3270105973971064\n",
            "epoch: 13, loss: 0.3162861837559575\n",
            "epoch: 14, loss: 0.3061272554084252\n",
            "epoch: 15, loss: 0.2965038031503037\n",
            "epoch: 16, loss: 0.28738741081181124\n",
            "epoch: 17, loss: 0.2787511706902622\n",
            "epoch: 18, loss: 0.270562452599485\n",
            "epoch: 19, loss: 0.26278416372036467\n",
            "epoch: 20, loss: 0.25539612067297995\n",
            "epoch: 21, loss: 0.24837912013518326\n",
            "epoch: 22, loss: 0.24171489155691211\n",
            "epoch: 23, loss: 0.23537748958632823\n",
            "epoch: 24, loss: 0.22933909177590758\n",
            "epoch: 25, loss: 0.22358658276440346\n",
            "epoch: 26, loss: 0.2181074027803654\n",
            "epoch: 27, loss: 0.21288802007135907\n",
            "epoch: 28, loss: 0.2079071298082452\n",
            "epoch: 29, loss: 0.20315508505159574\n",
            "epoch: 30, loss: 0.19862260907525114\n",
            "epoch: 31, loss: 0.19430078149747634\n",
            "epoch: 32, loss: 0.19018102492567296\n",
            "epoch: 33, loss: 0.18625509209573896\n",
            "epoch: 34, loss: 0.18251505348786262\n",
            "epoch: 35, loss: 0.17895328540120553\n",
            "epoch: 36, loss: 0.17556245847057286\n",
            "epoch: 37, loss: 0.17232898001261\n",
            "epoch: 38, loss: 0.16924548543004553\n",
            "epoch: 39, loss: 0.16630643062012362\n",
            "epoch: 40, loss: 0.16350646000013824\n",
            "epoch: 41, loss: 0.16083546554028927\n",
            "epoch: 42, loss: 0.15828527289620564\n",
            "epoch: 43, loss: 0.15585222643397237\n",
            "epoch: 44, loss: 0.15353276865803364\n",
            "epoch: 45, loss: 0.15132343770207943\n",
            "epoch: 46, loss: 0.1492148269465022\n",
            "epoch: 47, loss: 0.14720393659607298\n",
            "epoch: 48, loss: 0.1452884957764387\n",
            "epoch: 49, loss: 0.14346627895180689\n"
          ]
        }
      ]
    },
    {
      "cell_type": "code",
      "source": [
        "# epoch 19 has lowest loss:\n",
        "results = pd.DataFrame(epoch_loss)\n",
        "results[results['epoch'] == 49]"
      ],
      "metadata": {
        "colab": {
          "base_uri": "https://localhost:8080/",
          "height": 80
        },
        "id": "hOIefLRdAURe",
        "outputId": "f49f4714-4742-4307-aa7e-d3b276af904d"
      },
      "execution_count": null,
      "outputs": [
        {
          "output_type": "execute_result",
          "data": {
            "text/plain": [
              "    epoch  epoch_loss       phi     const\n",
              "49     49    0.143466  0.317593  0.119307"
            ],
            "text/html": [
              "\n",
              "  <div id=\"df-b084d950-9634-44fc-939a-0facf592f26d\" class=\"colab-df-container\">\n",
              "    <div>\n",
              "<style scoped>\n",
              "    .dataframe tbody tr th:only-of-type {\n",
              "        vertical-align: middle;\n",
              "    }\n",
              "\n",
              "    .dataframe tbody tr th {\n",
              "        vertical-align: top;\n",
              "    }\n",
              "\n",
              "    .dataframe thead th {\n",
              "        text-align: right;\n",
              "    }\n",
              "</style>\n",
              "<table border=\"1\" class=\"dataframe\">\n",
              "  <thead>\n",
              "    <tr style=\"text-align: right;\">\n",
              "      <th></th>\n",
              "      <th>epoch</th>\n",
              "      <th>epoch_loss</th>\n",
              "      <th>phi</th>\n",
              "      <th>const</th>\n",
              "    </tr>\n",
              "  </thead>\n",
              "  <tbody>\n",
              "    <tr>\n",
              "      <th>49</th>\n",
              "      <td>49</td>\n",
              "      <td>0.143466</td>\n",
              "      <td>0.317593</td>\n",
              "      <td>0.119307</td>\n",
              "    </tr>\n",
              "  </tbody>\n",
              "</table>\n",
              "</div>\n",
              "    <div class=\"colab-df-buttons\">\n",
              "\n",
              "  <div class=\"colab-df-container\">\n",
              "    <button class=\"colab-df-convert\" onclick=\"convertToInteractive('df-b084d950-9634-44fc-939a-0facf592f26d')\"\n",
              "            title=\"Convert this dataframe to an interactive table.\"\n",
              "            style=\"display:none;\">\n",
              "\n",
              "  <svg xmlns=\"http://www.w3.org/2000/svg\" height=\"24px\" viewBox=\"0 -960 960 960\">\n",
              "    <path d=\"M120-120v-720h720v720H120Zm60-500h600v-160H180v160Zm220 220h160v-160H400v160Zm0 220h160v-160H400v160ZM180-400h160v-160H180v160Zm440 0h160v-160H620v160ZM180-180h160v-160H180v160Zm440 0h160v-160H620v160Z\"/>\n",
              "  </svg>\n",
              "    </button>\n",
              "\n",
              "  <style>\n",
              "    .colab-df-container {\n",
              "      display:flex;\n",
              "      gap: 12px;\n",
              "    }\n",
              "\n",
              "    .colab-df-convert {\n",
              "      background-color: #E8F0FE;\n",
              "      border: none;\n",
              "      border-radius: 50%;\n",
              "      cursor: pointer;\n",
              "      display: none;\n",
              "      fill: #1967D2;\n",
              "      height: 32px;\n",
              "      padding: 0 0 0 0;\n",
              "      width: 32px;\n",
              "    }\n",
              "\n",
              "    .colab-df-convert:hover {\n",
              "      background-color: #E2EBFA;\n",
              "      box-shadow: 0px 1px 2px rgba(60, 64, 67, 0.3), 0px 1px 3px 1px rgba(60, 64, 67, 0.15);\n",
              "      fill: #174EA6;\n",
              "    }\n",
              "\n",
              "    .colab-df-buttons div {\n",
              "      margin-bottom: 4px;\n",
              "    }\n",
              "\n",
              "    [theme=dark] .colab-df-convert {\n",
              "      background-color: #3B4455;\n",
              "      fill: #D2E3FC;\n",
              "    }\n",
              "\n",
              "    [theme=dark] .colab-df-convert:hover {\n",
              "      background-color: #434B5C;\n",
              "      box-shadow: 0px 1px 3px 1px rgba(0, 0, 0, 0.15);\n",
              "      filter: drop-shadow(0px 1px 2px rgba(0, 0, 0, 0.3));\n",
              "      fill: #FFFFFF;\n",
              "    }\n",
              "  </style>\n",
              "\n",
              "    <script>\n",
              "      const buttonEl =\n",
              "        document.querySelector('#df-b084d950-9634-44fc-939a-0facf592f26d button.colab-df-convert');\n",
              "      buttonEl.style.display =\n",
              "        google.colab.kernel.accessAllowed ? 'block' : 'none';\n",
              "\n",
              "      async function convertToInteractive(key) {\n",
              "        const element = document.querySelector('#df-b084d950-9634-44fc-939a-0facf592f26d');\n",
              "        const dataTable =\n",
              "          await google.colab.kernel.invokeFunction('convertToInteractive',\n",
              "                                                    [key], {});\n",
              "        if (!dataTable) return;\n",
              "\n",
              "        const docLinkHtml = 'Like what you see? Visit the ' +\n",
              "          '<a target=\"_blank\" href=https://colab.research.google.com/notebooks/data_table.ipynb>data table notebook</a>'\n",
              "          + ' to learn more about interactive tables.';\n",
              "        element.innerHTML = '';\n",
              "        dataTable['output_type'] = 'display_data';\n",
              "        await google.colab.output.renderOutput(dataTable, element);\n",
              "        const docLink = document.createElement('div');\n",
              "        docLink.innerHTML = docLinkHtml;\n",
              "        element.appendChild(docLink);\n",
              "      }\n",
              "    </script>\n",
              "  </div>\n",
              "\n",
              "\n",
              "    </div>\n",
              "  </div>\n"
            ]
          },
          "metadata": {},
          "execution_count": 106
        }
      ]
    },
    {
      "cell_type": "code",
      "source": [
        "#plot final results\n",
        "final_phi = results[results['epoch'] == 49]['phi'].item()\n",
        "final_const = results[results['epoch'] == 49]['const'].item()\n",
        "final_pred = lin_reg(x = x_train, phi = final_phi, const = final_const)\n",
        "\n",
        "plt.scatter(x_train, y_train)\n",
        "plt.scatter(x_train, final_pred)"
      ],
      "metadata": {
        "colab": {
          "base_uri": "https://localhost:8080/",
          "height": 448
        },
        "id": "KxSdBsdl_WIo",
        "outputId": "0e1ec7b6-1988-4800-e899-592d06f8f858"
      },
      "execution_count": null,
      "outputs": [
        {
          "output_type": "execute_result",
          "data": {
            "text/plain": [
              "<matplotlib.collections.PathCollection at 0x7f3491bbff10>"
            ]
          },
          "metadata": {},
          "execution_count": 107
        },
        {
          "output_type": "display_data",
          "data": {
            "text/plain": [
              "<Figure size 640x480 with 1 Axes>"
            ],
            "image/png": "[encoded data removed]"
          },
          "metadata": {}
        }
      ]
    },
    {
      "cell_type": "markdown",
      "source": [
        "Now, let's try the MLE apprach: <br>\n",
        "![image.png](data:image/png;base64,iVBORw0KGgoAAAANSUhEUgAAAnIAAABRCAYAAABWiUskAAAgAElEQVR4Xu1dBbgV1RZeCiiCShkgGIB0NyJ5LyDdIF1Kt3R3g1KS0t2tktLdISUoxiMkFCREwbf+jXM8ee/sc0/MuXet971PvWfPzN7/njPnnxX/eoaI/uH/iwkCgoAgIAgIAoKAICAIhBgCz/zDFmJzlukKAoKAICAICAKCgCAgCDACQuTkNhAEBAFBQBAQBAQBQSBEERAiF6IbJ9MWBAQBQUAQEAQEAUFAiJzcA4KAICAICAKCgCAgCIQoAkLkQnTjZNqCgCAgCAgCgoAgIAgIkZN7QBAQBAQBQUAQEAQEgRBFQIhciG6cTFsQEAQEAUFAEBAEBAEhcnIPhAwCly5d8jjXJEmSUIIECUJmLTJRQUAQEAQEgZiDwLWrV+ne/ftuF/xcnDiU4s03vQZDiJzX0MmBgUbg3XdSerxkrz59qGHjRoGeUoTXO3jgAE2bMoX+/vsxxYoVi555hih3nrzUtHkzS81TJiMICAKCgCDgXwRaNG1GmzZudHuR1KlT04Ytm72egBA5r6GTAwONAIhc0mRJKV/+/C6XrlS5MhUqXDjQUzJ1vaGDh9D0adPoux++NzVeBgkCgoAgIAhELwRmzphBp06edFnU+rXr6O233xYiF722W1bjCQEQuRIlS9KkqVNCCqTaH9akA/v3C5ELqV2TyQoCgoAg4H8EcmbNRq+++qoQOf9DLVewAgKhSOT279tHdWrWogoVK9KnY8dYAUaZgyAgCAgCgoBFEBAiZ5GNkGkEBoFQJHLjxoyhcWPG0uChQ+nDWjUDA5RcRRAQBAQBQSAkEBAiFxLbJJP0FQKhSOSMsOrmb76hd1K+4yso5DyCgCAgCAgCJhC4fes2nT59il5+OQFlzJSRYseObeKowA0RIhc4rOVKFkAg1Ijcn3/+STmyZKWEiRLRnv37LICg/6fwyy+/ENbtbHHjxqU33njD/xOQK1gCAXf3gdwDltiaGDWJSZ9/TmfOnKG8efPSyhUr6ebNm9SrT28qXqKECw43btygO3fuuPz9GZYbSJnSVTFBd7wn4IXIxahbUhYbakRu7Gef0fix42jo8GFU/cMPY8QGVq5QgW7dvEWNPvrIYb2vv/46lS5bJkZgIIskwn1QsVLloN4Dv/32G+3auZPKlS8fI7akY4cOtnUWLFiIKletEtLrRrX/jRu/2tYwmp+n9nb/3n2KFz+exzWWL12GUqZORWPGjaNnn31WjTt65AhVr1KVSn7wAU2cMtnh2L179tC5s+cc/rZu7Vo68+23dPrcWZfr6I4XIhfSt6NM3lcIhBqRq1XjQ4KW3Nbt2+gtLi+PCYYf8FixYtOylStiwnJljR4QwH2wcs2aoOKDOQwfOYrSpksb1Hn44+KPHj3iSvgDlDVbVg4ZvqwuUSBvPn5hrKH+PVv2HBQWHuaPSwfsnDOnTyeQ8QcPHtKML75wqfqvVaMGTWZZJ09C8IULvK88cPsPH6IXX3xRzfu327cpd46cSnx3284dka6lR7dutHrlKrdEzt3BuuNxDvHIRboNMiA6IRBqRC5j2nSUOEli2rV3b3TahgjXEmpEDqGU2Ew8I3qzjzGb58OFBpvIIby/lolkterVfbgqa5xq9apV9Nmo0VS7bl2aMmkSfT55EuV/7z3lBQ02efYGodYtW1KypMmoJ4c83ZlBvpx1OBcuWEBfrf+SZs6eRbHc5L399OOPqpNC+vTpbaeFjlul8hWowPvv05z58yKdri4x0x0vRC7SLZAB0Q2BUCNymG9Mkx0JJSK3e9du6vzJJ/Rx0ybU+OOPo9vXJajrCTap6Na5Cw0bOSKoGPjj4hs3bKCWzZor8rZ18xZavmwZFQsLo2kzpockkXv899+UM1t26tGrl8eqfk9EDvh2bN+BXk/6OnVhz5kZ69enL82bM4c9eVPd5sk5n0OXmOmOFyJnZtdkTLRCINSIXLQC3+RirE7kDh86RHv37FXhtjWrV9PXX35Fnbt2pWYtmptcoQwzg0CwiNw///xDVStV4tBidurbv7+ZqYbMmJ9//pmKcu5bRV7f6DGO+WJYRLAwjwqAkydOpFkzZtK+Qwc9niYiIqfIHOcGXr92neYumB/hVArky09N+KXNOX83ooN0iZnueCFyUbl75NiQRECInPW3zepEzh5BhHSEyPnnngoWqdi1cxc1ql9fqeSnSpXKP4sL0llRuNGwXn36qEkT6t6zh8ssgoV5VOBowOHhBAkT0rgJE7wmcihGKF+mbISdc368fJm+5XGlSpfWmq4uMdMdL0ROaztkcHRAQIic9XdRiJz19ygQMwwWqWjXug1dv36NFi5ZEohlBvQaO3fsYJLaQKUCdOsR+kTur7/+Uon+3Xp0pzr16nlN5HBg0UKFPRYv/PD9D9S5Y0daumK57RpTJk025YXXJWa644XIBfQrJBezAgJC5KywCxHPQYic9fcoEDMMBpF78OAB5eJ8K+Q7durSORDLDOg1ohuRQ6FCm1ataPnqVZQtW7YoETkQtRGjRhE03+zt+++/pyEDB9HgYUPptddeUx89fPiQ2rVpQ1O44jUy0yVmuuOFyEW2A/J5tENAiJz1t1SInPX3KBAzDAaRg2YjtBshvv0a6xY6Gzwz48eNpQGDBnGe5B4lUJ0xUybbMKOQoEmzptS1e/dAwGT6Gvu48n0VC9ouW7qUMmfJQqXLlKF48eJRvQb1bedwxnzU8BH09+O/VWUnBJpTpEhB7TifzNCX+7hRY9rGHWegsRYWHk616tSmIkWLmp6T7sAi7xdU8yhcpIi61vy5c1k6JCENHzWSjh87pnpSZ8iQgSZ/MY2SJ09uO31kOXIYeP7ceTp48ADV4VCtYcgnRF6hOxsybBjVqBm5tqcuMdMdL0RO9y6S8SGPgBA562+hEDnr71EgZhgMIte9S1eCgOvJM9+6XWLjBg1p7ITx9NJLL9GiBQvp3r0/VL6ZYX179ab58+YRhGcrVq4UCJi0rmF45KpWq6bIj7N5whwkp3qVKnSfpTjGjh9PZcqVVYcOZk/VHJbumDx1qqp89Zc9fvyY+nBVKojoqE8/tQmDZ8mYSeX61a5TR10aQr0Q7M2UOTMtWb6Mnn/+efV3M0QOYz4fP8GjhIm3a9MlZrrjhch5uzNyXMgiIETO+lsnRM76exSIGQaDyDXlkOqpEydpz4H9bpc4bswYatu+vfoMshVhxcOpbLlytrFlWO0fpGfn3j2ULFky29+hSXdg/34qVLhwIKDzeA1viRxOCM8bPHAgRwsWL1JVvWlSplLhyIg6QBhrh+5arFixvFp/T/ZuLl64iMZzuyz77i54nqMoJXXq1Oq8IHqdWA4IZu8xM0PkQBZbNW+hZEV8abrETHe85Yjchq+/puLFi7sV5vMlsHKumIuAEDnr770QOevvUSBmGAwiV5Vbgv3xxx+0YfMmt0v8+aeflKI/uiLkz52Hdu/bSy9weNIwEJs333pLdWKxt09ZfHciV1U6C9IGAkf7a0SFyOE8eH7CXnnlFWrOFdsoNkAYOSIz1v71po30bpo02ks2wtU40Bm/9/Lkpb0cDjXs2NGjVK3y07ZiaGmI1oYwM0QO49DpwddFLrrETHc85m2Jzg5bNm2moUMGq8RBVIL8zQJ/oz771NbbTHvn5QBBwAMCwSJy3124QBXLlbc1g0dopkv3btwRwPwb6pMn/9D9B/fpAYc3fv/9Dt26dZMgSHv92jWX1cZmlfIde3bbknND6YYQIhdKu+W/uQaDyBUrXES1q1q9bm2EC2vdgmVnvvrKhVjg+RKVsOqVK1dUSz5o2elY8uQpKHee3JEeElUiB/HdurXrqDnCzl+66NffafQtLVuqlLpWwkSJ6NDRI7Y1gics5criWrVr2/42bsxYgtcUhnDrgMGDtIgccuzmL1oYKY46A3SJme54SxC57du2MfBjadLUKbYfHSRY/vrrr25j+DoAylhBwBmBYBE5zAO5M8ihMax12zbU/t8wQFR26vat2ypJ95stW9WDzbA27dqqxORQMyFyobZj/plvMIgcSAP6cjp71OxXCAKRI0tWwsvS0ZMnHBaP54tzWNU/6Hh31qgSuf/9739Ujb2WN27coCdPnihh3J69e3k3GRNHGVWpGIoChxmcj2fYkcOHKVHixJQy5VMvIQxacNCEg2EsjoGZ9ci1bd06Qj06E1N2GaJLzHTH44JB98hd/uEyvfrqqy59CrEZGTJm9AY3OUYQ8IhAMIkcJmWEJvDvqPTCG60vbdqUqap3IhpFJ0mSRDV7DjUTIhdqO+af+QaDyEFj7dSpk3SQE+Y9GbzrpUqUpPcLvk+z+eXMsFu3bqmwnj0JRKN2OCWQJ9axc2eKHz++f8AyedaoErkPipdgAhuLho8cSQ0ZKxCkQUOGUM3atVxmAK/iCK7sjMrad2zfTigwgaFCFHlvhk3ifLkWLD1ib8bzNUvWLLSc+8niGQszQ+SQIzdowACfd/PQJWa647G+oBM5k/efDBMEfIJAsIlc4QLvE95qDUOoACEDXxoeWl06daKt7KELdk6ON+sSIucNatHvmGAQud49etKSxYvpxLenbRWPzsh+uW49wXNTl7s/9BvwXwsvdPjYzsTDyMvCcQcPHKRcuXNRxrTpuI1bF4cK12DsWFSIHAhZOEuLLF+5knuTJlXh1Vo1PuSc9ljcdH62aiJvb5+NHq0iAhGtHV49g2y5wwMvpLmz51AfQdZk+qyZtmENWQB4FsuPGIawb7p30yiyvJgrVu0b3ZshcvAyohIZkRJfmi4x0x0vRM6XuyXnCgkEgk3kAJKhVWUA1rtvX2rQqKHP8cMb5onjxylHzpw+P7c/TxhKRO6D8OJ08eJFKlWmtJJFiBs3rj+hiVHnDgaRM7xtyK0yJC2cQUcqQ9FChShvvnyq0Txswfz51KdnL4ew6tUrVylpsqSEiss1q1arpPwXX3wxqHs4c8YMGjxgIOXMlYvmzJ/ncr86Yw7Nubt379L6tesIhQRr1q9z0M3D+JNc5Qt7J+U71KZdO9XCChhBfw5eM09rv3D+PJUu+YHSptu2a6dHXEAg0Ybr0MFDtGzlCsqeIwchrFqjajU6fe4soUhy9IiRSl9uM1fWYh7OZobI4blcr349n79Y6xIz3fGWJXL4ASr0XgHqP2gglShZMqg3vlzc/wjAQxUnThwVYve3WYHI4S20bq3aSo4A9txzz3EYYKVfUgnQDBrJ1+4M5fzTODcVD10QkcFDh/obflPntzqRg5cFKvCckc75VA+UEjzCSJBWQN7Ulxs3BP0H2xTQFh8UDCKHfSxUoADLhBRx8Kw5Q7V18xbCD+4n7Pk+wFIlEJ+FBpmzBxyFSfm5shLiu8NGjggq4igkBLHC8wbPIKwVL5GVqlS2zcsZ8wxp0tILL7ygns/4XW7QqBGTtba28ZnTZ1Dnw33/hM939+4druTdp6paYdkyZfa4dlwfEYp47EFbtWa1Q/WvM1AYu37dOvqkXXt17hfivUA/Xv5RzSt2nNhUtFgxqla9ui0nzhsi16TxRzZi7suN0iVmuuMtS+Sg0IwycE/s2pcgy7mCiwCaOH/UsBERd0X5csMGmx6Qv2ZlBSKHtV27epXKli6jcjdgSNjF2669lIEvMABJS5TYfegWHoNuXboQ9sA5/8QX1/b2HFYnct6uS47TQyAYRA4zRGeH+XPn0W7u7gCi4MlA4pHLDfFZeK5QyORM5FB8BJHhRfy5mapSPYR8P9rXmON5a6wdeIEUOhs8mb379Y0Qa+MYeOcuXbpEHdq2o8Rc6DB0+HD26CWPVLIsMo/cvXv3qEDefHT89Cmfg6pLzHTHW5bITeZk7TkzZ3kUZfQ50nLCoCEwdfIUlRAL+3zyJPrg31Jzf03IKkQO64PsTjM7VXhPauv+wgLnNfJ9hMj5E2U5tzcI+JpUmJ0DQnRh7JEbPeYzKle+vMNhN2/epM0bN1GJD0oqImEYPOzIGTt38TuH8TXZS3Tr5i3auHUL3blzR0mbWNl8jXnJsHDb2hHSdddNolePHqpgwqwhFy571mzUrUd3h3ZaER0fGZGbO3sOjRwxnE6cPm12GqbH6RIz3fGWJHJGaXc3brth3/PMNGoyUBCIAAErETlMszx75c6cOWObMSre3nr77YDt4eZNm6h5k6bikQsY4nIhswj4mlSYvS7G/f7771SiWBgdOHLY4bC0qVKrsDmkLZCrBY/3h9zuCsn/M+fMViFGexsyaDAhFyxb9mwqdaQOJ+hb2XyNOaqAI1r7cE7nqMYivEZnBjPYTP9Xb9Z5b7wlchAcHsKtxtAhwmjpZWYeZsfoEjPd8ZYkckhoxFuMtyrQZsGVcTETAasROSTKVypfQYn8wrJmy8o9Ape7/CD4a7eEyPkLWTlvVBHwNanQnQ++G7lz53ZIfsdLT/OWLRSJg0GOIwf/e6++fTzmRcIbBILg67QJ3fWYGe9rzCNbO7o+fNKJ8001DHsQ57k4ql2XWfPkkUN6SZWKFbl/7gTKkzeP2dNpjdMlZrrjLUnk0IR3OecTQP8qovwELSRlcJQRgKfU+W0zyicNwgmsRuQAgZFHY8DxcdMmHDboERB0AkXkEA6J5eSt8LRAyZELyNZb/iK+JhXeLLgpC95Onf60MhUGTx2KGtBVBRXKFStVYgKQ15tTW/KYQGOOAgrd/quQfkHIuyT3tTVrnogcnEYVK1d26A5h9pxmx+kSM93xliByEFFEafOmjRs5xPQt3eHWQ9CVQZXK2++8QyNGj6Js2bKZxSzGjIMHByXvZ8+eVZVzSdm136xFC5fKTyTu3mL3/+3btyj/e+/Ru+++S2tXr1Gtnqpw+TZELQ0D5v379lOJ+ImTJKYyZcuxfMUxJa9w/dp1Sp8hA1cHFaV9e/dxSOEW3f7tNk2YOJF+/vlnWsDCmNe4VVTmLFmoZq1atqTW0SNH0dWrV+j+vftKT6kxN6W2t1FcNo65IURRl0u/DS2ipazl9P3339Oli5dUZVjadGlV+fkcDmnEiR2Hwrknb5lyZbX324pEDoto36YtrVv7tC0QqiARuglEg+3IiBzyVXft2KkKJpDrA92sNGnTusUd9yESvpE4/OZbb1J1DpnMnTNXeRu/5dyT1lztZiYHUoic9m2tdQC+rxCO/h/ngr3C4b7MmTNRLW5nhOcuvvvbvtmmSAr0we79cY9SpU5lIyt46UCVIu7Rh9wBAbmVCE2dOH6CRahvU8GChVT+GJ7nEHN9/PdjKhYWRh+ULqWO0bFAkwp3cwNpw3oj6yeqsy4rj02X+l2baPGHtWpSV5ZOCWWrwL9h6I+LKl300HUuRpnPOnT+DnfrEjPd8UElchDfg4sU/0SP1XTp06n7BT+0iFUbMXOIAUIUEGD3HzjA7/cUXL0oofbGoIfzkV3yujfnMHMMHi5TJ0/ma31Mbdu3V4fgzaYS9/IcM2G8S77Bfi4HRw+5CuxC/nTsGELCbsH873HZdhw6ycKX9kTC/kaH5tCzzzyrNM4ePnyovghGWfnCBQsI4pnoczeQ++QaBmI2mcldpy6dFcGzT2LFZ29yw2k8IOyta6fOtHzZMpVcjDdce8P9APKXJm0aRQwMq16lKh1l9XVdwVurEjms6zhrvlWt+N/6CxYq6CB4aebe0B3jicj99OOPVOaDUnSSX67sDWQajaWRaGzc6yBq5Vhe4bfbv9FhJv6G4fsNcU2Qe7ywoWLNXdWa85yFyOnuovnxuP+di2pAshHeR7ul7pybbBjI3m7W97IXXUVOZ7I3krGy/yiXamhIW0yeOMlFjBWaX7W4gXnS15PS9t27TE/WCkTO9GRloCDgAQFdYqY7HpcNSmcHeGfwxT596hRt27mDUvCPu2H5c+ehfYcO2v4bpdtG/8hAyJGg7+tdri7yxrAOfwi7Os8FApPQAIPwITAxDD1q478Y36VtCUrk0YMOb9mnzj5NrEduAF6QkaRrqGdDEdu+/BoNi1u1aO5wDeNa8B7Bi4SEU/vqrZXLVyiNLYRh97C+kvNnx1haxpmQoy3KrBkzPRI5eGSXsc6a/Rt9t85dVMl/dCJywNa+hRf+W3d9uvetJyLXsF59JUvi7vrIKblw/gJ9xXppuOfhkWnZrDmFFQ+nqdySyLA5s2bTORbs1NWnEyKnu4vmxiM9Ij0r3+/au1cJ1dobMMeeGs8H4zPcjz379KZGjRurP4GcT5wy2a0aP77Dly//4LbFEfS/1qxerXU/C5Ezt68yytoI6BIz3fFYfVCI3MD+/Wk2y4u4+6ECORgzfpxtZxDaAUGBQdi0YmVHj421t9A/s0PIcdb0GSpcYd8WBeHIc+fOUa8+fRwujKpIvEmjagrq4s4GzxY8XK+99pqD5AvCLIVYsPHM+XMu+U0QZ2zXuo3Lgxltalq3bKnCb/ihtzd8hpALPG/2hrJ0eP88eeScW+Hg2H59+tK8OXO0fhhwnJU9cpgf2s7s2vmf12L56lV+TS1wR+QOHzrElXjVlWcX3nFng0cY7XcgwAmRU3hg4W0tz2Tgs3FjbcNXc69DtLxZuGSx1hdBiJwWXKYHb+OXvgH9+rttCG88k52JO3qK/sDPmwWLFzH5S0aJEib0mLQPIoc0Cnf5nUYR26FjRykhn8OMCZEzg5KMsToCusRMdzzWH3Aid53zqEAOEAq09xBhMnhjhPcN4TrDhg4eQig3hnXiXnXNOQ9M7D8E0BUBbZgQLt2zazclSJjAobEwRhpEDp4tEANnQ04TbgQUl9i/kaNdTeuWrVQFsbN5JHJfMZFr0VLlQkEXzt6+5s9A5uyJOj6PjMj16deP6jds4HCu/qxIDu0fXY+VGSIHbyO8Scir0DHkH0ZVvR0NtsuVKq32EwaP15fcgiZe/Hg6UzE91h2Rww8yvKTOTcGNk8ITCo8ovLm79+2l7du2KVFn51Aw8k/Os5dHNyVCiJzp7dMaiNAn7u2evXu7HIc2Su483Be/+44qVaio9M9SpUpFcxfM93jNiIgcNNTwjJm3cIHK1TVjkRE5rAXX1DFffEd1ridjBQFdYqY7HggHnMj17d2HVbOfNrrt3LUrJ+g3t+00HjQtWrVy2HmEAkDwkHCKkKvVBRUDcdsi5wQhDuS47WH1ccNWsGzFoYMHPRK5sPAwhwos+7kiVxG6SV/MnEEZM2akb7Z+Q7179nTIebIfHxmRQ1WRM2HzlsghB8+e3GMe/iRygdjDyK4xjAUyv5g6TXm44Onyl7kjckbOYkHuJzlr7hyXSxvhcxD/MxfOq89B0Lt07kQr16yhRIkS0cL5C9QL2JETx7WnLkROGzJTB+AH4vIPl2n+ooWmxhuDkCsHkgdSF9GLU0REDlXLGdOnp178/K/XoL6p60dG5EydRAYJAkFGQJeY6Y4PCpEbyS010PMN5hxKQ1jJPrEWY4ycISRW2yfi+mtvkKOHakxvLEOGjLRq7RpvDjV9DMqow4oUVY2M8XZs/3aLggGExYZwpwR42R79+UglJBseuYiIHBoGFypciFauWMlFDXdVWK1YeDhl4EpVdyZEzvSWeTUQMjwzWfZA1+OoezF3RA4EDJ5wFCm4u59ncB4chE4zZsqk2orB4IWFN3JQ/wH0DFc/osoYZN6b/rlC5HR30dx4pCLM49ZT7jzsns6wd88eWrJosVLkr1W9BnVgzS8QfHcWEZH74fsfqDj3w0SY3axchxA5c/sqo6yNgC4x0x0fFCJnJEbj4l34DbFp82ZqF1RHB3a9G1WU+NuVK1eo0HsFVL7VspUrbGXR/tw25IXd+1ecVfc6yP2wT+7XPd7MeIQT4Y1Kz2+3677+yuEQ5C798svPisjt3LGD36AvUsPGjUwRufp16qqQi1E9HNlchMhFhpD3n0NWBv0HkQ/qqeG992d3PNIdkUO4Hq11/vrrL5eWQzga2lpbt2xVuZi4v+BtKVqosKpIhIRFVE2IXFQRdH88vO7oJ3mANToTstfU2VC9CnJubw3q1qXJTOxRbYzWVZWYnK9Zv56Scb6cs4HI4Znt7oV7PssTQZoGLazM6oYJkfPPfSBnDSwCusRMdzxWE/DQKqQKqlSq/LRtiV3OFsKFNVjXzPBAoKIV4cN48eLRbH4IOFdZBXYrrHM1hDnQ1gRFDnPmz3OYGPp2Jk6chBsJD6Otm7fQtevXVEjSqFqFntO0Gf+JW9ofjAKF2LFiu4RDPa3cqFp19hgZxQ5ly5VjtezxDofjM4RXnUOutqpVN8Us8MgOGDyIarPOlb1F12IHVIp+1KiRUoufw4QOKQX+NBSftGjajKpzFTnuG8NQjIQEeOf9xYtOcSZ5afnlasnyZbYf5Tw5c1ILvoecdQK9mXugiRwacYNcRAfB68jwxvcJkjDtP/nEZWir5i0c8lrh/b/G+pH2L3c4Plv27LR42VIXvEDkUFDhHI7HS3o4RxGu8r3j3Is0ovkKkYtsN+XzUEBAl5jpjg8KkTOAB6GbPWsWQbcN4qEQnnz06NFTrTKurixRsiTVrVfXo/hoKGygv+aIKlMQmV+vX1d5hseOHqU3kidX+YbIKUz9bmomegXZw9aLCuTLz8KdD9RD9wkL/j7HeU1NmzdXnhR7Q/i1PVehIqn+yZN/2EP6l9oTaMFBGHQAh/qg/waB32VckIK9enrOJ5Q8eQoVgsNnEAbG3x9zoQDkTQ7yXO2PQdgNf0+aNBmt/XI95cuVWxW+wJODcyI8V6p0aUIT6vNcgQvJEfwQIB+rdNkySiIBf0chAn588TkKK/oPGmgKbjPFDqZO5IdBKHCAJ2wpe5+RWO5vQzh9FlcLq/36dw+c+xeiajE531toX/PH3T/owcMHrBHYxUUPDp69T1jTECH5x4+fqPsHIs8o3oCXGi8QIABmLJBEDl6oKqzdh3ssOpiZUDxe8pCDmZKFfjNlyqyavSNvDUr5yH8cwMVF6MKB72kOJuj2kjJZMmZS7aae/fd7+fXmTfyJF4MAABDtSURBVKraHWaEVlOmTEW72TubM2cuVVyB7za+n57SNDzhLkQutO5I/HYPGTSIcubKxcLS15Rg/SzuP+tJQDy0Vuf9bHWJme74oBI5AxZUM53j7gQQrIW6eMtWLem111/XVgH3HubQPRIhMKhWo+OCUQSC3Lj7TJJ1cpOQWzeUc54QQsmdJ7cDIFs2baYRHKq9fPky68ltddD8C0XkrErk4BXCd6AjFwy8V6CApaAFIYMeHMg3tAudDVqPp06epKlM1pxDbvhxHz92LFdTJ3Qre+FuoYEkcsjtQxP0qFYbW2rDTE4GHrfLLPycicOpvvBG2ufIocvHeY66wHNrRgTa032A4hkx3yEAB8pVVo6AMLsv9tx+Zp3Yyzvq009tf4IIeEXurLBq3VpKkiSJ7xYRYmfSJWa64y1B5DAJeJSqVa5CG/jtLjVLOIgFDgF8sfNygUcLbgTdknvYuTN45Ypy652hI4Y7dFcI3Cx9dyUrEjm0RmvXpg19uW6934sbfIfk0zMZXUMQasvFDcbdGV4UUAn7zY7t7H1/K9IpBJLIpePnzdfsTUyZMmWk85IBESMQUbGDN9iJR84b1Dwfs4FljOZzsQv6xUJaCve8c561t1fEOQuzrJi9oDzOhedtb87pDoRQvrdz9/dxusRMd7xliBySp5/nrgPjWX5ELPAI1KtdR/VrhcYTtP2cberkKTSG37RW85tVqLvJrUbkIBnTpWMnFR6eMGliyHmiEU7BA7xKtaouQtS4jxCybcmhfITEUS1pJucvUEQOLyiYPwqHQsGsHrpC/u61a1fd3gfe4CtEzhvUXI9B4Rs6AeH5Ym+4n7JnzkJtuAdyuw4donyx49y1xzl9As/bDtzpp1Ub906CKF80BE6gS8x0x1uCyMEbgX6qn3BZu7+b14bAngdlipAyaduqNd3htypnwWBUyKJIAW15kC8T6mY1IpchTVoOjadn5fzFXoegItoThD3hSfWn4e2+6cdNKDvnwKGXr71BUugu59ZNnjbVdLg/UEQOlcEopPFkSFuwbx/oTwzNnNuqoauTJ07Sjz9eJhA5SBeh//MbbyR3SdMws0b7MULkdBFzP75WjQ+pSLGi1JCLqJxf1PE8RK7xsZMnPHbs8HYW+G3PyjmYWzglB+lSMdV0iZnueEsQOeTI4WE/ntv8IKlaLHgInDh+giDKjOIGJCg//vsxlSlXloqXKKESnKODWYnIQVurHlcVr1iz2jTJ0d2DhQsWuIgp657DzHhIkGzftp0QRn02FgpanqG/Hv2limry5sun5WkMBJG7zoVCSBf4ltvP2Rv6Dg8eOJB+4tyxuHFfIBRDFGX9M3SVMZL6zeDh6zFWDl2hDdulS5eUtxX7jnxPYPVx0yZRgkGIXJTgUwejKCw760Giv7k7pQNDp3URCz4750dH9eoTJ0ygLFmzsj5p4aieKqSP1yVmuuMtQeRCeodk8iGHgFWIHAhDtcqVOdwxyW+hPVSSgkSFWjeUQBA5CBqfO3tGSRvZWwVOzu7Rq6dNaBv9i3txh5O4z8dVoalg/SiBWEII/ML3lxzmi/vZ6Hkbcl/GSCYsRC7qOwoih4gXHCbIT0Weqr0ZRG7E6FFUpWrVqF/w3zNAZ7IzFz8cPn7MZ+cM1RPpEjPd8ULkQvXOkHl7jYAViBxy4pAb15d12sy2KzK7YIi2Dh08WIXDYWbkKMyeO1Dj/E3kPhs9mvbu2at08Oxt3969SocRXSnsDT+C7+XJqzxNVsIzuoeuhMj5/xuH5yGE7Hfs3u3SzxlyUHlZQga5dJ4MslPoAGMYXh7nzZmrNEQTJEigOgytWrmS6rCwdEw1XWKmO16IXEy9s2LwuoNN5BBugHYiCByInK8MXRh2bt9BbbhXMQgHDCLau5ichJr5k8gZxRnI5UPI1N4Mse2FrJMI3Tx7K8Maa+fPnbcUkYvuoSshcv795iI3OkeWrG4F1yE51IBTntKkTUPFi5dQIfPt27fTBhZ0RxpUnDix1eTg8bc35OSiN7YhbYIWbyiCaM5i4THVdImZ7nghcjH1zorB6w42kUvDYqmZs2SmsePHK9FVHYMHBiLNIGr3798j5HkdOnCQ9brO0elTp1Xlsb21YFIHXbpQM38Sucn8I7SeZV4gRu1s6G2LHrfQwqpUpbLDx6jsxo+SVTxyMSF0JUTOv9/czlxNevfOXVXIZt9aD5XmSPtApfkpTj+wNzw/4W1D5x5nQ9ceVMeC9Bl2jsXbB3DOaXiJ4v5djIXPrkvMdMcLkbPw5ofK1Jo0/oiTaAtQI5aQCQULJpEz9BIDhdNmbpfkTsA3UNf39jr+JHIIFQ1g9flSZUq7TO/hw4eE4pD6DRq49AMtVriIKoBwJnI/slD2kcNHCDmPngw/bLly53IIQRljkYR+mHuf/sQVso/+fORyinr167kQfnRmGDF8OMs1TQh5OaCI7hEhct5+gyI/DpqVbVk3FMU+zpJARnu+4aNGUtVq1VyInLtoAr4HJcLDVYGcs23Zto3efuftyCcVTUfoEjPd8ULkoumNE8hlQVD12Anfl677aw3BInJoVbVrx076h/8XCEM7pAwZMwbiUj6/hg6Rg5cSldYzvpiuyFREHjOEn9evXefibYtsAQiFI4yZIkUK2rZrp204WhChbVmmzJlVqAm5id25MAI2asRIasFdauLHj6/ay6VLl94hB0lCV5GhTiRELnKMdEcg37Nm9erqfhz56WiX7g5G6ocnbz6enxCOh1yYmDkEdImZ7nghcub2QUZFgAA6cizj3qChYsEicqGCjxXmqUPkBnKeYW7uTPLor0fUsX0H2s/eLU/tgBD2qVa9mlZIGxp5FcuVV+GimXPm2HLnzp09RwhNrVm/TkGGfKNG9RvYvgvly5R1G77FWAldmbvLhMiZw0lnFDTlsmbLRt16dLeFQPEyBMM9js/Re3c9d4FIlz6dy6nx/JzCrRxjcqhUB2+M1SVmuuOFyOnuiIx3QODKlSucuD9Khaq87acYaEiFyAUacf3r6RA5/AjhBwg6dkULFaZqNaq7VakHeSoRFm6636sxaxAykLkpX0yjwkWK2BYzc8YMKsH6ioZgMPTzQO4gXYLvRYe2bQnaXO5MQlfm7gkhcuZwMjsKUiQTxo1nweZ2DocsWbSYXnrpJSpdtozSVrzGvVhPnfnW5YUHhULhLIGzY8/uaKMraha7qIzTJWa644XIRWV3YuixCCdt2bRZNVGPHy8+xeaQ0rVr1ylxokRUt359qt+wgaWRESJn6e1Rk9Mhcvarmc6egkkTJ3Gl7h4XBfs1q1fTsCFDac/+fVoAZE6fgcZx6DYsPCzC4+CNq8f3f1jxcEJPy1UrVtKkqVNcjrl58yYVL1qMw6zxWfJhl0suXnTWhdMC/t/7YOWaNbqHyXgPCKBLj7tK+V49enBeaEMlu4MIC/LdDhw57HIW9NJ9I/kbVJIruMXMI6BLzHTHC5EzvxcxfuTFixepSoWKtHDJYsqYKZPCY+xnnzl4PyCmiubIzgmyVgJPiJyVdsP9XLwlcjgb9hcFHhu3bLFV4m3auFGFN3bs2mW6DREKCgb06+eQE+cJuflz59LSJUsJmlqwjty3Mnas2IRkcWeT0JX5+088cuaximik0c/Z05iUKVPSJm6jBcOLRoliYdSxS2eb9tvVK1epWZMmlJW7NEBaREwPAV1ipjteiJzefsTo0e50tGrVqMHEbokNl9asFfTKK69SvwG+00fzNehC5HyNqO/PFxUih+IbVM7BG1aiZEk1uSoVK6o2c0jSNmOoLu7etRtNmzFdFThEZqVLfkBFihbhvKMeamjDevXp+bjPq1wiZ5PQVWRo/ve5EDnzWHkaCVHf7JmzEP7pyfDdQC9kw86ePctdGTqqll5QEoF4NpreiyfOu/3QJWa644XIebcvMe4o9AQt/q94qlEVCKkGiEmeuXDehkd40aIcXmqg+mta1axE5JBT5S6hOCrYHdi/30WkMyrnC8axUSFyKHhYvWoVy33kpsXLltKunTupTctWKq8HeUCRGXqGovPG+ImfU7JkyRyGQ7fPud8qukHUrVWbZsyeZcuhg2f6wf37Ni+H/UkkdBXZDgiRM4+Qf0dCbgfP+TRpHTud+Peq0e/susRMd7wQueh3z/hlRQgzNf34YyWfcIKbiMP2cEsXeB7OX7qo/vvI4cNUo2o19eMFV71VzSpEDq1r8uXK7SK46Q1ukDZB+GP/vn30zdatNH/RQm9OY5ljokLk0OQeRAqGaurhQ4dxpWle03IJ5UqVpjacDJ40aVIbHiiogNjyV+u/VCr49taU9RN37dxFh48dtYVtMf9TJ0/Rbs7HcyZ+gwYMIBQ7nORk8rhx49pOdePGDVUdu3tf6HXi8NeNIx45fyEr5w0kArrETHe8ELlA7maIX8vQ0jp68oTybECLKGu27By+KkED+w9QCbLtuUmylb1x2AKrEDl/3Q51ataK0UQOuO7gVkKNOXkbavUNGjWinr17mYJ73JgxNG7M2AjHOuvU4X5CWArhKcNQENSnZy/q2r07NWnW1OV8EroytR2iI2cOJhllcQR0iZnueCFyFr8BrDa9jRs2ULfOXejdNGnoxPHjlDxFcnrxxZcod57cLH7aivPjXrHalF3mI0TO8lvkddWq/cqQt3bh/HlVpfra66/7bdFHjxyhHDlzOpwfUiinT3+rWrHZtz5ynoSEriLeFvHI+e22lRMHEAFdYqY7XohcADczulwK6vgrli2n3qxgv2T5MsqeI0dILS3YRO7MmTMqRHft6tWnuk1OjdujCmZ08chdu3qNKlSq6AAHCg8gcWPGlrGGG146rNIb1cycZYwjAiBy+fLn9/oeEDwFgUAjgH6zKJayt507dhDyzE+zZJez6Y73tJ6cWbPRq6++Shu2bPZ6yc9wDklg+g55PUU50JcIIAS1hfPmVq9b68vTBuRcwSZyXTt1piHDhiq9s2lTptDx06fUuiHW+VHDRqpDgBlDBVnT5s1chkYXInfyxEmXtcHz60lk13kwXjigmzVoyBAzcMoYCyIAIud8H+jcAxZckkwpmiOAlAqkVjjb888/75bI6Y4XIhfNb6BALg/sf8z4cQ5K94G8flSuFWwih7lD+b/I+wVVL84O3ObJlxYdiJwv8ZBzCQKCgCAQ3REQj1x032E/rO/+vfsODcD9cAm/ndIKRG782HGcVD+Gvtm5w5ROmQ4YQuR00JKxgoAgIAiEPgJC5EJ/D2UFGggEm8ghhFqMe4K+/c47NGf+PEIIME6cOGoF0DxDP0MzBm2n1KlTuwwVImcGPRkjCAgCgkD0QUCIXPTZS1mJCQSCTeSgv1e/Tl0Vmi5XvjydP3de9TgEwevZrTvd/cNcjlxBbm5ds3YtIXIm9lyGCAKCgCAQnREQIhedd1fW5oJAsIkcetaiqKFO3br03YULbvtx6m7bJG7qfuTwEYIwMCQtIA/z8ssvU5myZaly1Sq6p5PxgoAgIAgIAiGEgBC5ENosmWrUEQCRQ1us6jU+dDlZvvz5KEPGjFG/SCRnQJH3VZYfcW4B5fcLywUEAUFAEBAEQhaBrVu2KvF9Zxs1YgQlT55c5EdCdmdl4loIgMh5sl59+li+M4XWYmWwICAICAKCQLRBoEXTZrRp40a360HOtOjIRZutloVEhAAaqnuyzFmyuC0gEEQFAUFAEBAEBIFgI3Bg/34lX+XOXuIuS2HFw72eoggCew2dHCgICAKCgCAgCAgCgkBwERAiF1z85eqCgCAgCAgCgoAgIAh4jcD/AR5la5cUH3xTAAAAAElFTkSuQmCC)"
      ],
      "metadata": {
        "id": "nI4BOGw7OMsE"
      }
    },
    {
      "cell_type": "code",
      "source": [
        "# let's get a range of phi and a const\n",
        "phi_range = np.arange(0.0, 1.0, 0.01)\n",
        "const = 0.1\n",
        "sigma = 1.0"
      ],
      "metadata": {
        "id": "7rPqkkDqP5Mi"
      },
      "execution_count": null,
      "outputs": []
    },
    {
      "cell_type": "code",
      "source": [
        "# using above equation\n",
        "def NLL_loss(y_train, x_train, phi, const):\n",
        "  prefactor = 1/np.sqrt(2*math.pi*(sigma**2))\n",
        "  exponential = np.exp(-(y_train - lin_reg(x = x_train, phi = phi, const = const))**2 / 2*(sigma)**2)\n",
        "  loss = -np.sum(np.log(prefactor*exponential))\n",
        "\n",
        "  return loss\n"
      ],
      "metadata": {
        "id": "DfAe6tXvP5El"
      },
      "execution_count": null,
      "outputs": []
    },
    {
      "cell_type": "code",
      "source": [
        "nll_loss = []\n",
        "for phi in phi_range:\n",
        "  loss = np.round(NLL_loss(y_train=y_train, x_train=x_train, phi=phi, const = const), 4)\n",
        "  nll_loss.append(loss)\n",
        "  print(f\"phi: {np.round(phi, 2)}, loss: {loss}\")\n",
        "\n",
        "min_index = np.argmin(np.array(nll_loss))\n",
        "print(f\"best phi for which NLL is min: {phi_range[min_index]}\")"
      ],
      "metadata": {
        "colab": {
          "base_uri": "https://localhost:8080/"
        },
        "id": "7bSVuRrV_WA1",
        "outputId": "a9eece9c-0634-4859-ec8d-1e2e1359be8d"
      },
      "execution_count": null,
      "outputs": [
        {
          "output_type": "stream",
          "name": "stdout",
          "text": [
            "phi: 0.0, loss: 19.9363\n",
            "phi: 0.01, loss: 19.9175\n",
            "phi: 0.02, loss: 19.8995\n",
            "phi: 0.03, loss: 19.8823\n",
            "phi: 0.04, loss: 19.866\n",
            "phi: 0.05, loss: 19.8505\n",
            "phi: 0.06, loss: 19.8358\n",
            "phi: 0.07, loss: 19.8219\n",
            "phi: 0.08, loss: 19.8089\n",
            "phi: 0.09, loss: 19.7966\n",
            "phi: 0.1, loss: 19.7852\n",
            "phi: 0.11, loss: 19.7746\n",
            "phi: 0.12, loss: 19.7648\n",
            "phi: 0.13, loss: 19.7559\n",
            "phi: 0.14, loss: 19.7478\n",
            "phi: 0.15, loss: 19.7405\n",
            "phi: 0.16, loss: 19.734\n",
            "phi: 0.17, loss: 19.7283\n",
            "phi: 0.18, loss: 19.7235\n",
            "phi: 0.19, loss: 19.7194\n",
            "phi: 0.2, loss: 19.7162\n",
            "phi: 0.21, loss: 19.7139\n",
            "phi: 0.22, loss: 19.7123\n",
            "phi: 0.23, loss: 19.7116\n",
            "phi: 0.24, loss: 19.7117\n",
            "phi: 0.25, loss: 19.7126\n",
            "phi: 0.26, loss: 19.7143\n",
            "phi: 0.27, loss: 19.7168\n",
            "phi: 0.28, loss: 19.7202\n",
            "phi: 0.29, loss: 19.7244\n",
            "phi: 0.3, loss: 19.7294\n",
            "phi: 0.31, loss: 19.7352\n",
            "phi: 0.32, loss: 19.7419\n",
            "phi: 0.33, loss: 19.7494\n",
            "phi: 0.34, loss: 19.7577\n",
            "phi: 0.35, loss: 19.7668\n",
            "phi: 0.36, loss: 19.7767\n",
            "phi: 0.37, loss: 19.7875\n",
            "phi: 0.38, loss: 19.799\n",
            "phi: 0.39, loss: 19.8114\n",
            "phi: 0.4, loss: 19.8247\n",
            "phi: 0.41, loss: 19.8387\n",
            "phi: 0.42, loss: 19.8536\n",
            "phi: 0.43, loss: 19.8693\n",
            "phi: 0.44, loss: 19.8858\n",
            "phi: 0.45, loss: 19.9031\n",
            "phi: 0.46, loss: 19.9212\n",
            "phi: 0.47, loss: 19.9402\n",
            "phi: 0.48, loss: 19.96\n",
            "phi: 0.49, loss: 19.9806\n",
            "phi: 0.5, loss: 20.002\n",
            "phi: 0.51, loss: 20.0243\n",
            "phi: 0.52, loss: 20.0474\n",
            "phi: 0.53, loss: 20.0713\n",
            "phi: 0.54, loss: 20.096\n",
            "phi: 0.55, loss: 20.1215\n",
            "phi: 0.56, loss: 20.1479\n",
            "phi: 0.57, loss: 20.1751\n",
            "phi: 0.58, loss: 20.2031\n",
            "phi: 0.59, loss: 20.2319\n",
            "phi: 0.6, loss: 20.2615\n",
            "phi: 0.61, loss: 20.292\n",
            "phi: 0.62, loss: 20.3233\n",
            "phi: 0.63, loss: 20.3554\n",
            "phi: 0.64, loss: 20.3883\n",
            "phi: 0.65, loss: 20.4221\n",
            "phi: 0.66, loss: 20.4566\n",
            "phi: 0.67, loss: 20.492\n",
            "phi: 0.68, loss: 20.5282\n",
            "phi: 0.69, loss: 20.5653\n",
            "phi: 0.7, loss: 20.6031\n",
            "phi: 0.71, loss: 20.6418\n",
            "phi: 0.72, loss: 20.6813\n",
            "phi: 0.73, loss: 20.7216\n",
            "phi: 0.74, loss: 20.7628\n",
            "phi: 0.75, loss: 20.8047\n",
            "phi: 0.76, loss: 20.8475\n",
            "phi: 0.77, loss: 20.8911\n",
            "phi: 0.78, loss: 20.9355\n",
            "phi: 0.79, loss: 20.9808\n",
            "phi: 0.8, loss: 21.0268\n",
            "phi: 0.81, loss: 21.0737\n",
            "phi: 0.82, loss: 21.1214\n",
            "phi: 0.83, loss: 21.17\n",
            "phi: 0.84, loss: 21.2193\n",
            "phi: 0.85, loss: 21.2695\n",
            "phi: 0.86, loss: 21.3205\n",
            "phi: 0.87, loss: 21.3723\n",
            "phi: 0.88, loss: 21.4249\n",
            "phi: 0.89, loss: 21.4784\n",
            "phi: 0.9, loss: 21.5327\n",
            "phi: 0.91, loss: 21.5878\n",
            "phi: 0.92, loss: 21.6437\n",
            "phi: 0.93, loss: 21.7004\n",
            "phi: 0.94, loss: 21.758\n",
            "phi: 0.95, loss: 21.8164\n",
            "phi: 0.96, loss: 21.8756\n",
            "phi: 0.97, loss: 21.9356\n",
            "phi: 0.98, loss: 21.9965\n",
            "phi: 0.99, loss: 22.0581\n",
            "best phi for which NLL is min: 0.23\n"
          ]
        }
      ]
    },
    {
      "cell_type": "code",
      "source": [
        "# plot results\n",
        "final_pred = lin_reg(x = x_train, phi = 0.23, const = const)\n",
        "\n",
        "plt.scatter(x_train, y_train)\n",
        "plt.scatter(x_train, final_pred)\n"
      ],
      "metadata": {
        "colab": {
          "base_uri": "https://localhost:8080/",
          "height": 448
        },
        "id": "cBL7ebOYUavI",
        "outputId": "40833d38-a789-4085-a3cd-de243fdb7ebf"
      },
      "execution_count": null,
      "outputs": [
        {
          "output_type": "execute_result",
          "data": {
            "text/plain": [
              "<matplotlib.collections.PathCollection at 0x7f3491879fc0>"
            ]
          },
          "metadata": {},
          "execution_count": 111
        },
        {
          "output_type": "display_data",
          "data": {
            "text/plain": [
              "<Figure size 640x480 with 1 Axes>"
            ],
            "image/png": "[encoded data removed]"
          },
          "metadata": {}
        }
      ]
    },
    {
      "cell_type": "code",
      "source": [],
      "metadata": {
        "id": "FXgAvo6fUakc"
      },
      "execution_count": null,
      "outputs": []
    },
    {
      "cell_type": "code",
      "source": [],
      "metadata": {
        "id": "k1JeCS-EUaZV"
      },
      "execution_count": null,
      "outputs": []
    },
    {
      "cell_type": "code",
      "source": [],
      "metadata": {
        "id": "6olKFMCR_V4F"
      },
      "execution_count": null,
      "outputs": []
    },
    {
      "cell_type": "code",
      "source": [],
      "metadata": {
        "id": "hDPiZChqt4-j"
      },
      "execution_count": null,
      "outputs": []
    },
    {
      "cell_type": "code",
      "source": [],
      "metadata": {
        "id": "Qf26lVoctyc4"
      },
      "execution_count": null,
      "outputs": []
    },
    {
      "cell_type": "code",
      "execution_count": null,
      "metadata": {
        "id": "k_pad6Bjtt97"
      },
      "outputs": [],
      "source": []
    }
  ]
}