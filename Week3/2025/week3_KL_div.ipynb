{
  "nbformat": 4,
  "nbformat_minor": 0,
  "metadata": {
    "colab": {
      "provenance": [],
      "authorship_tag": "ABX9TyMc6h4dJtaG3ZiIFJpAwkaW",
      "include_colab_link": true
    },
    "kernelspec": {
      "name": "python3",
      "display_name": "Python 3"
    },
    "language_info": {
      "name": "python"
    }
  },
  "cells": [
    {
      "cell_type": "markdown",
      "metadata": {
        "id": "view-in-github",
        "colab_type": "text"
      },
      "source": [
        "<a href=\"https://colab.research.google.com/github/rajdeepbanerjee-git/JNCLectures_Intro_to_ML/blob/main/Week3/week3_KL_div.ipynb\" target=\"_parent\"><img src=\"https://colab.research.google.com/assets/colab-badge.svg\" alt=\"Open In Colab\"/></a>"
      ]
    },
    {
      "cell_type": "code",
      "source": [
        "import numpy as np\n",
        "import pandas as pd\n",
        "import matplotlib.pyplot as plt\n",
        "\n",
        "import warnings\n",
        "warnings.filterwarnings('ignore')"
      ],
      "metadata": {
        "id": "Xd2xNDgsF690"
      },
      "execution_count": 22,
      "outputs": []
    },
    {
      "cell_type": "code",
      "source": [
        "# import data\n",
        "data = pd.read_csv(\"/content/Base_and_Simulated_Data.csv\")\n",
        "print(data.info(), data.head())"
      ],
      "metadata": {
        "colab": {
          "base_uri": "https://localhost:8080/"
        },
        "id": "QRiEHYacAPXS",
        "outputId": "3b518cf5-8ed4-4354-ba53-d30b33b81435"
      },
      "execution_count": 2,
      "outputs": [
        {
          "output_type": "stream",
          "name": "stdout",
          "text": [
            "<class 'pandas.core.frame.DataFrame'>\n",
            "RangeIndex: 100000 entries, 0 to 99999\n",
            "Data columns (total 8 columns):\n",
            " #   Column            Non-Null Count   Dtype  \n",
            "---  ------            --------------   -----  \n",
            " 0   SalesVolume_Base  100000 non-null  float64\n",
            " 1   Deposits_Base     100000 non-null  float64\n",
            " 2   AdResponse_Base   100000 non-null  float64\n",
            " 3   CBM_Base          100000 non-null  float64\n",
            " 4   SalesVolume_Sim   100000 non-null  float64\n",
            " 5   Deposits_Sim      100000 non-null  float64\n",
            " 6   AdResponse_Sim    100000 non-null  float64\n",
            " 7   CBM_Sim           100000 non-null  float64\n",
            "dtypes: float64(8)\n",
            "memory usage: 6.1 MB\n",
            "None    SalesVolume_Base  Deposits_Base  AdResponse_Base  CBM_Base  \\\n",
            "0     350932.833478   64472.659781      7717.054762     623.5   \n",
            "1     325974.084392   77062.732059      9053.397524     673.3   \n",
            "2     369695.269078   85278.918888      8430.936758     611.5   \n",
            "3     349863.021707   88720.123963      7909.650378     645.6   \n",
            "4     345170.976081   50746.021604      7039.461682     597.2   \n",
            "\n",
            "   SalesVolume_Sim  Deposits_Sim  AdResponse_Sim  CBM_Sim  \n",
            "0    350932.833478     64.472660     7717.054762    623.5  \n",
            "1    358571.492832  77062.732059     9053.397524    473.3  \n",
            "2    369695.269078  85278.918888     8430.936758    611.5  \n",
            "3    349863.021707  88720.123963     7909.650378    645.6  \n",
            "4    345170.976081  50746.021604     7039.461682    597.2  \n"
          ]
        }
      ]
    },
    {
      "cell_type": "code",
      "source": [
        "# plot distributions\n",
        "\n",
        "plt.hist(data['CBM_Base'], bins=10, alpha=0.5, label='CBM_Base', color='blue')\n",
        "plt.hist(data['CBM_Sim'], bins=10, alpha=0.5, label='CBM_sim', color='orange')\n",
        "\n",
        "# Add labels, title, and legend\n",
        "plt.xlabel('Value')\n",
        "plt.ylabel('Frequency')\n",
        "plt.title('Comparison of CBM_Base and CBM_sim')\n",
        "plt.legend(loc='upper right')\n",
        "\n",
        "plt.show()"
      ],
      "metadata": {
        "colab": {
          "base_uri": "https://localhost:8080/",
          "height": 472
        },
        "id": "VeAeXgLGAPUW",
        "outputId": "d210fff9-a85d-4f05-a2cb-b62ad58cfba6"
      },
      "execution_count": 6,
      "outputs": [
        {
          "output_type": "display_data",
          "data": {
            "text/plain": [
              "<Figure size 640x480 with 1 Axes>"
            ],
            "image/png": "[encoded data removed]"
          },
          "metadata": {}
        }
      ]
    },
    {
      "cell_type": "code",
      "source": [
        "# Create bins\n",
        "data['p_bins'] = pd.cut(data['CBM_Base'], bins=10, labels= [i for i in range(10)], include_lowest=True)\n",
        "data['q_bins'] = pd.cut(data['CBM_Sim'], bins=10, labels= [i for i in range(10)], include_lowest=True)\n",
        "\n",
        "# Calculate counts and proportions\n",
        "base_counts = data['p_bins'].value_counts(sort=False)  # Get counts per bin\n",
        "base_proportions = (base_counts / base_counts.sum())  # Calculate proportions\n",
        "\n",
        "target_counts = data['q_bins'].value_counts(sort=False)  # Get counts per bin\n",
        "target_proportions = (target_counts / target_counts.sum())  # Calculate proportions\n",
        "\n",
        "# Add a small constant to avoid division by zero or log(0)\n",
        "base_proportions += 1e-10\n",
        "target_proportions += 1e-10\n",
        "\n",
        "# PSI\n",
        "\n",
        "parts_psi = (base_proportions - target_proportions) * np.log(base_proportions / target_proportions)\n",
        "PSI = parts_psi.sum()\n",
        "print(PSI)"
      ],
      "metadata": {
        "colab": {
          "base_uri": "https://localhost:8080/"
        },
        "id": "JRzm1E_IAPRp",
        "outputId": "86e42810-d2d5-4623-e104-d416b6ad84a7"
      },
      "execution_count": 20,
      "outputs": [
        {
          "output_type": "stream",
          "name": "stdout",
          "text": [
            "0.3481216331000023\n"
          ]
        }
      ]
    },
    {
      "cell_type": "code",
      "source": [
        "# putting this together in a function\n",
        "\n",
        "def calc_psi(data, base_col, target_col, bins=10):\n",
        "  data['p_bins'] = pd.cut(data[base_col], bins=bins, labels= [i for i in range(10)], include_lowest=True)\n",
        "  data['q_bins'] = pd.cut(data[target_col], bins=bins, labels= [i for i in range(10)], include_lowest=True)\n",
        "\n",
        "  base_counts = data['p_bins'].value_counts(sort=False)\n",
        "  base_proportions = (base_counts / base_counts.sum())\n",
        "\n",
        "  target_counts = data['q_bins'].value_counts(sort=False)\n",
        "  target_proportions = (target_counts / target_counts.sum())\n",
        "\n",
        "  base_proportions += 1e-10\n",
        "  target_proportions += 1e-10\n",
        "\n",
        "  parts_psi = (base_proportions - target_proportions) * np.log(base_proportions / target_proportions)\n",
        "  PSI = parts_psi.sum()\n",
        "\n",
        "  return PSI\n",
        "\n",
        "print(calc_psi(data, 'CBM_Base', 'CBM_Sim'))"
      ],
      "metadata": {
        "colab": {
          "base_uri": "https://localhost:8080/"
        },
        "id": "WVzPJmGyAPMc",
        "outputId": "3e9fc38a-916b-458f-f88f-7d799c78933b"
      },
      "execution_count": 21,
      "outputs": [
        {
          "output_type": "stream",
          "name": "stdout",
          "text": [
            "0.3481216331000023\n"
          ]
        }
      ]
    },
    {
      "cell_type": "markdown",
      "source": [
        "# Now do the same for other base and simulated columns in the data\n"
      ],
      "metadata": {
        "id": "AWynKR_WFrMC"
      }
    },
    {
      "cell_type": "code",
      "source": [],
      "metadata": {
        "id": "3QvPr95PAPJR"
      },
      "execution_count": null,
      "outputs": []
    },
    {
      "cell_type": "code",
      "source": [],
      "metadata": {
        "id": "zhyvu5xIAPGA"
      },
      "execution_count": null,
      "outputs": []
    }
  ]
}