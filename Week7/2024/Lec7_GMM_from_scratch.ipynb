{
  "nbformat": 4,
  "nbformat_minor": 0,
  "metadata": {
    "colab": {
      "provenance": [],
      "authorship_tag": "ABX9TyNhqk/g4VRgWtmsmqIyN6uz",
      "include_colab_link": true
    },
    "kernelspec": {
      "name": "python3",
      "display_name": "Python 3"
    },
    "language_info": {
      "name": "python"
    }
  },
  "cells": [
    {
      "cell_type": "markdown",
      "metadata": {
        "id": "view-in-github",
        "colab_type": "text"
      },
      "source": [
        "<a href=\"https://colab.research.google.com/github/rajdeepbanerjee-git/JNCLectures_Intro_to_ML/blob/main/Week7/Lec7_GMM_from_scratch.ipynb\" target=\"_parent\"><img src=\"https://colab.research.google.com/assets/colab-badge.svg\" alt=\"Open In Colab\"/></a>"
      ]
    },
    {
      "cell_type": "markdown",
      "source": [
        "Refs:\n",
        "- Geron for basic understanding\n",
        "- Elements of statistical learning (Hastie-Tibshirani), chapter 8, for understanding the underlying maths\n",
        "- [medium article](https://towardsdatascience.com/gaussian-mixture-model-clearly-explained-115010f7d4cf), for generalized formulae"
      ],
      "metadata": {
        "id": "BKHFS8Zs-7TA"
      }
    },
    {
      "cell_type": "code",
      "source": [
        "import numpy as np\n",
        "import pandas as pd\n",
        "from sklearn import datasets\n",
        "import matplotlib.pyplot as plt\n",
        "\n",
        "from scipy.stats import norm\n",
        "from numpy import mean\n",
        "from numpy import std"
      ],
      "metadata": {
        "id": "ZLJ-EnWd8whs"
      },
      "execution_count": 7,
      "outputs": []
    },
    {
      "cell_type": "code",
      "source": [
        "#iris = datasets.load_iris()\n",
        "#X = iris[\"data\"][:,3]\n",
        "\n",
        "X = np.array([-0.39, 0.12, 0.94, 1.67, 1.76, 2.44, 3.72, 4.28, 4.92, 5.53, \\\n",
        "               0.06, 0.48, 1.01, 1.68, 1.80, 3.25, 4.12, 4.60, 5.28, 6.22])\n",
        "X_0_GT = X[np.where(X<=3.0)]\n",
        "X_1_GT = X[np.where(X>3.0)]"
      ],
      "metadata": {
        "id": "AdlPR3by8wch"
      },
      "execution_count": 141,
      "outputs": []
    },
    {
      "cell_type": "code",
      "source": [
        "plt.hist(X)"
      ],
      "metadata": {
        "colab": {
          "base_uri": "https://localhost:8080/",
          "height": 499
        },
        "id": "4FlZM-UhEiGa",
        "outputId": "bcc1ee8b-81b1-428b-9da1-c890e5963053"
      },
      "execution_count": 46,
      "outputs": [
        {
          "output_type": "execute_result",
          "data": {
            "text/plain": [
              "(array([3., 1., 2., 4., 1., 1., 2., 2., 3., 1.]),\n",
              " array([-0.39 ,  0.271,  0.932,  1.593,  2.254,  2.915,  3.576,  4.237,\n",
              "         4.898,  5.559,  6.22 ]),\n",
              " <BarContainer object of 10 artists>)"
            ]
          },
          "metadata": {},
          "execution_count": 46
        },
        {
          "output_type": "display_data",
          "data": {
            "text/plain": [
              "<Figure size 640x480 with 1 Axes>"
            ],
            "image/png": "[encoded data removed]"
          },
          "metadata": {}
        }
      ]
    },
    {
      "cell_type": "code",
      "source": [
        "# let's use the fit_distribution function we created in Naive Bayes lecture and split it for ease of use\n",
        "# given data calculate mu and signa and given mu and sigma it calculates the distribution\n",
        "# if you then want to use to to get the pdf: norm_dist_test = fit_distribution(mu, sigma); norm_dist_test.pdf(X)\n",
        "\n",
        "def get_mean_std(data):\n",
        "    return mean(data), std(data)\n",
        "\n",
        "def fit_distribution(mu, sigma):\n",
        " # fit distribution\n",
        "  dist = norm(mu, sigma)\n",
        "  return dist"
      ],
      "metadata": {
        "id": "4_V6p7gv8wZ1"
      },
      "execution_count": 9,
      "outputs": []
    },
    {
      "cell_type": "code",
      "source": [
        "# initialize\n",
        "Z = (X - mean(X))/std(X)\n",
        "K = 2\n",
        "# relevance_matrrix -> for each data point you have vector of size K telling you\n",
        "# the probability of that data point belonging to each of the K clusters\n",
        "#relevance_mat = np.array([[1/K for k in range(K)] for i in range(len(X))])\n",
        "\n"
      ],
      "metadata": {
        "id": "EUsTfVCL8wXc"
      },
      "execution_count": 10,
      "outputs": []
    },
    {
      "cell_type": "code",
      "source": [
        "Z"
      ],
      "metadata": {
        "colab": {
          "base_uri": "https://localhost:8080/"
        },
        "id": "5wrrz0fJ_SFH",
        "outputId": "6fb19fad-be31-42ab-9485-0ee3c287a98a"
      },
      "execution_count": 11,
      "outputs": [
        {
          "output_type": "execute_result",
          "data": {
            "text/plain": [
              "array([-1.53845969, -1.28242626, -0.87076467, -0.50428545, -0.45910308,\n",
              "       -0.11772517,  0.52486853,  0.80600327,  1.12730012,  1.43353619,\n",
              "       -1.31254784, -1.10169678, -0.83562283, -0.49926519, -0.43902203,\n",
              "        0.28891615,  0.72567906,  0.9666517 ,  1.3080296 ,  1.77993435])"
            ]
          },
          "metadata": {},
          "execution_count": 11
        }
      ]
    },
    {
      "cell_type": "code",
      "source": [
        "# function to calculate weight, mean and std for each cluster\n",
        "\n",
        "def get_cluster_weight_mean_std(data, relevance_mat):\n",
        "  ### it will return mean and std of each cluster as  [[mean1, std1], [mean2, std2], ...]\n",
        "  weight_mean_std_list = []\n",
        "  for cluster in range(0, K):\n",
        "    cluster_mean = data.dot(relevance_mat[:, cluster])/len(data)\n",
        "    cluster_var = ((data - cluster_mean)**2).dot(relevance_mat[:, cluster]) \\\n",
        "                  /np.sum(relevance_mat[:, cluster])\n",
        "    cluster_std = np.sqrt(cluster_var)\n",
        "    cluster_weight = np.sum(relevance_mat[:, cluster])/len(data)\n",
        "\n",
        "    weight_mean_std_list.append([cluster_weight, cluster_mean, cluster_std])\n",
        "\n",
        "  return weight_mean_std_list"
      ],
      "metadata": {
        "id": "0h9MN-zD8wUi"
      },
      "execution_count": 85,
      "outputs": []
    },
    {
      "cell_type": "code",
      "source": [
        "# given data, calculate the relevance matrix with shape (len(X), K)\n",
        "def get_relevance_mat(data, wms_list):\n",
        "  temp_list = []\n",
        "  for cluster in range(0, K):\n",
        "    cluster_dist = fit_distribution(mu = wms_list[cluster][1], sigma = wms_list[cluster][2])\n",
        "    cluster_pdf_X = cluster_dist.pdf(data)\n",
        "    temp = wms_list[cluster][0]*cluster_pdf_X\n",
        "    temp_list.append(temp)\n",
        "\n",
        "  rel_mat = []\n",
        "  for cluster in range(0, K):\n",
        "    numerator = np.array(temp_list)[cluster, :]\n",
        "    denominator = np.sum(np.array(temp_list), axis = 0)\n",
        "    rel_cluster = np.divide(numerator, denominator)\n",
        "    rel_mat.append(rel_cluster)\n",
        "\n",
        "  return np.array(rel_mat).T\n"
      ],
      "metadata": {
        "id": "afImpQF08wMr"
      },
      "execution_count": 86,
      "outputs": []
    },
    {
      "cell_type": "code",
      "source": [
        "def run_epochs(num_epochs, X, K, cluster_wms):\n",
        "\n",
        "  epoch_details = []\n",
        "\n",
        "  for epoch in range(num_epochs):\n",
        "    # calculate relevance matrix\n",
        "    relevance_mat = get_relevance_mat(data = X, wms_list = cluster_wms )\n",
        "\n",
        "\n",
        "    # update\n",
        "    cluster_wms = get_cluster_weight_mean_std(data = X, relevance_mat = relevance_mat)\n",
        "\n",
        "    # save\n",
        "    epoch_details.append({\"epoch\": epoch,\n",
        "                          \"cluster_weights\": [cluster_wms[cluster][0] for cluster in range(K)],\n",
        "                          \"mean\": [cluster_wms[cluster][1] for cluster in range(K)],\n",
        "                          \"std\": [cluster_wms[cluster][2] for cluster in range(K)]\n",
        "                          })\n",
        "    print(cluster_wms)\n",
        "\n",
        "  return epoch_details, relevance_mat"
      ],
      "metadata": {
        "id": "xWpq0N99VY8f"
      },
      "execution_count": 87,
      "outputs": []
    },
    {
      "cell_type": "code",
      "source": [
        "# initialize\n",
        "K = 2\n",
        "cluster_wms = np.array([[0.5, X[np.random.randint(20)], std(X)], \\\n",
        "                       [0.5, X[np.random.randint(20)], std(X)]])\n",
        "\n",
        "\n",
        "\n",
        "print(cluster_wms)\n",
        "\n",
        "epoch_details, rel_mat = run_epochs(num_epochs = 2,\n",
        "                           X = X,\n",
        "                           K = 2,\n",
        "                           cluster_wms = cluster_wms)"
      ],
      "metadata": {
        "colab": {
          "base_uri": "https://localhost:8080/"
        },
        "id": "c7ySZfvbVY20",
        "outputId": "34d85deb-2ca0-4008-dfa2-717adb0e1d15"
      },
      "execution_count": 124,
      "outputs": [
        {
          "output_type": "stream",
          "name": "stdout",
          "text": [
            "[[0.5       1.01      1.9919274]\n",
            " [0.5       4.92      1.9919274]]\n",
            "[[0.5474983981620711, 0.7925895599125725, 1.562864682612867], [0.4525016018379289, 1.8819104400874278, 2.737246266447541]]\n",
            "[[0.44268797764210965, 0.681589059974588, 1.6606217832521293], [0.5573120223578903, 1.992910940025412, 2.4868142782644487]]\n"
          ]
        }
      ]
    },
    {
      "cell_type": "code",
      "source": [
        "which_class = np.argmax(rel_mat, axis = 1)\n",
        "X_0 = X[which_class == 0]\n",
        "X_1 = X[which_class == 1]"
      ],
      "metadata": {
        "id": "YRUdQxgXEQ6k"
      },
      "execution_count": 139,
      "outputs": []
    },
    {
      "cell_type": "code",
      "source": [
        "X_0, X_1"
      ],
      "metadata": {
        "colab": {
          "base_uri": "https://localhost:8080/"
        },
        "id": "Xfx4G3CBIhad",
        "outputId": "c957583c-f9c5-4545-a912-ed62380b59ed"
      },
      "execution_count": 140,
      "outputs": [
        {
          "output_type": "execute_result",
          "data": {
            "text/plain": [
              "(array([-0.39,  0.12,  0.94,  1.67,  1.76,  2.44,  0.06,  0.48,  1.01,\n",
              "         1.68,  1.8 ]),\n",
              " array([3.72, 4.28, 4.92, 5.53, 3.25, 4.12, 4.6 , 5.28, 6.22]))"
            ]
          },
          "metadata": {},
          "execution_count": 140
        }
      ]
    },
    {
      "cell_type": "code",
      "source": [
        "X_0_GT, X_1_GT"
      ],
      "metadata": {
        "colab": {
          "base_uri": "https://localhost:8080/"
        },
        "id": "ypls5IXsJcdF",
        "outputId": "8c159bcc-ef4f-4b84-dca8-b1e9e858c5d3"
      },
      "execution_count": 157,
      "outputs": [
        {
          "output_type": "execute_result",
          "data": {
            "text/plain": [
              "(array([-0.39,  0.12,  0.94,  1.67,  1.76,  2.44,  0.06,  0.48,  1.01,\n",
              "         1.68,  1.8 ]),\n",
              " array([3.72, 4.28, 4.92, 5.53, 3.25, 4.12, 4.6 , 5.28, 6.22]))"
            ]
          },
          "metadata": {},
          "execution_count": 157
        }
      ]
    },
    {
      "cell_type": "code",
      "source": [
        "mean1 = epoch_details[1][\"mean\"][0]\n",
        "std1 = epoch_details[1][\"std\"][0]\n",
        "mean2 = epoch_details[1][\"mean\"][1]\n",
        "std2 = epoch_details[1][\"std\"][1]"
      ],
      "metadata": {
        "id": "Zvp1WXq9CGqI"
      },
      "execution_count": 128,
      "outputs": []
    },
    {
      "cell_type": "code",
      "source": [
        "final_dist_0 = fit_distribution(mu = mean1, sigma = std1).pdf(X_0)\n",
        "final_dist_1 = fit_distribution(mu = mean2, sigma = std2).pdf(X_1)\n",
        "#+ fit_distribution(mu = mean2, sigma = std2).pdf(X)"
      ],
      "metadata": {
        "id": "zINZzKcyVY0K"
      },
      "execution_count": 154,
      "outputs": []
    },
    {
      "cell_type": "code",
      "source": [
        "plt.bar(X_0, final_dist_0, width = 0.7)\n",
        "plt.bar(X_1, final_dist_1, width = 0.7)\n",
        "plt.show()"
      ],
      "metadata": {
        "colab": {
          "base_uri": "https://localhost:8080/",
          "height": 435
        },
        "id": "WFQOqhTR8wHR",
        "outputId": "41654d0a-6007-4a6c-bc20-370ff992d5ec"
      },
      "execution_count": 156,
      "outputs": [
        {
          "output_type": "display_data",
          "data": {
            "text/plain": [
              "<Figure size 640x480 with 1 Axes>"
            ],
            "image/png": "[encoded data removed]"
          },
          "metadata": {}
        }
      ]
    },
    {
      "cell_type": "code",
      "source": [],
      "metadata": {
        "id": "YKJdd2xTLgvp"
      },
      "execution_count": null,
      "outputs": []
    },
    {
      "cell_type": "code",
      "source": [],
      "metadata": {
        "id": "g6CUlMX6LgsR"
      },
      "execution_count": null,
      "outputs": []
    },
    {
      "cell_type": "code",
      "source": [],
      "metadata": {
        "id": "gDW79knyLgpf"
      },
      "execution_count": null,
      "outputs": []
    },
    {
      "cell_type": "code",
      "source": [],
      "metadata": {
        "id": "vLEFR3nCLgmp"
      },
      "execution_count": null,
      "outputs": []
    },
    {
      "cell_type": "code",
      "source": [],
      "metadata": {
        "id": "ICQ3MPrNLgkC"
      },
      "execution_count": null,
      "outputs": []
    },
    {
      "cell_type": "code",
      "execution_count": null,
      "metadata": {
        "id": "LqwgwyxB8gVc"
      },
      "outputs": [],
      "source": []
    }
  ]
}