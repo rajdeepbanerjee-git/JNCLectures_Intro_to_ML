{
  "nbformat": 4,
  "nbformat_minor": 0,
  "metadata": {
    "colab": {
      "provenance": [],
      "authorship_tag": "ABX9TyOpiH4C4sEFMZNE7S3cZWjH",
      "include_colab_link": true
    },
    "kernelspec": {
      "name": "python3",
      "display_name": "Python 3"
    },
    "language_info": {
      "name": "python"
    }
  },
  "cells": [
    {
      "cell_type": "markdown",
      "metadata": {
        "id": "view-in-github",
        "colab_type": "text"
      },
      "source": [
        "<a href=\"https://colab.research.google.com/github/rajdeepbanerjee-git/JNCLectures_Intro_to_ML/blob/main/Week7/Lec7_curse_of_dim.ipynb\" target=\"_parent\"><img src=\"https://colab.research.google.com/assets/colab-badge.svg\" alt=\"Open In Colab\"/></a>"
      ]
    },
    {
      "cell_type": "markdown",
      "source": [
        "Ref:\n",
        "- ISL\n",
        "- https://towardsdatascience.com/curse-of-dimensionality-a-curse-to-machine-learning-c122ee33bfeb#:~:text=Effect%20of%20Curse%20of%20Dimensionality%20on%20Distance%20Functions%3A&text=Therefore%2C%20any%20machine%20learning%20algorithms,%E2%80%9Ccurse%E2%80%9D%20in%20such%20algorithms."
      ],
      "metadata": {
        "id": "CvSsilb0AfDZ"
      }
    },
    {
      "cell_type": "code",
      "source": [
        "import numpy as np\n",
        "import matplotlib.pyplot as plt"
      ],
      "metadata": {
        "id": "aeliSS7urgEC"
      },
      "execution_count": 2,
      "outputs": []
    },
    {
      "cell_type": "code",
      "source": [
        "def get_features(N, p):\n",
        "  features = np.ones(N)\n",
        "  for dim in range(p):\n",
        "    features = np.c_[features, np.random.rand(N)]\n",
        "\n",
        "  return features"
      ],
      "metadata": {
        "id": "24phHZtKvIuy"
      },
      "execution_count": 3,
      "outputs": []
    },
    {
      "cell_type": "code",
      "source": [
        "def get_dist_ratio(A, N):\n",
        "\n",
        "  dist_mat = []\n",
        "  for i in range(N):\n",
        "    dist_mat.extend(np.linalg.norm(np.delete(A, i, 0), axis = 1))\n",
        "\n",
        "  dist_ratio = (max(dist_mat) - min(dist_mat))/min(dist_mat)\n",
        "\n",
        "  return dist_ratio"
      ],
      "metadata": {
        "id": "F6RINqdhrf-N"
      },
      "execution_count": 6,
      "outputs": []
    },
    {
      "cell_type": "code",
      "source": [
        "dist_ratio_ = []\n",
        "for dim in [10, 100, 1000, 10000]:\n",
        "  A = get_features(N = 100, p = dim)\n",
        "  dist_ratio_.append(get_dist_ratio(A, N = 100))\n",
        ""
      ],
      "metadata": {
        "id": "TjB4aSmn24tb"
      },
      "execution_count": 7,
      "outputs": []
    },
    {
      "cell_type": "code",
      "source": [
        "plt.plot([10, 100, 1000, 10000], dist_ratio_)"
      ],
      "metadata": {
        "colab": {
          "base_uri": "https://localhost:8080/",
          "height": 447
        },
        "id": "vr_RpeuHrf42",
        "outputId": "18d814e7-d69b-4c8d-c0bb-886631962d73"
      },
      "execution_count": 8,
      "outputs": [
        {
          "output_type": "execute_result",
          "data": {
            "text/plain": [
              "[<matplotlib.lines.Line2D at 0x7c4852167610>]"
            ]
          },
          "metadata": {},
          "execution_count": 8
        },
        {
          "output_type": "display_data",
          "data": {
            "text/plain": [
              "<Figure size 640x480 with 1 Axes>"
            ],
            "image/png": "[encoded data removed]"
          },
          "metadata": {}
        }
      ]
    },
    {
      "cell_type": "code",
      "source": [],
      "metadata": {
        "id": "iZdU6EABrf2Z"
      },
      "execution_count": null,
      "outputs": []
    },
    {
      "cell_type": "code",
      "source": [],
      "metadata": {
        "id": "z5JpPacArf0C"
      },
      "execution_count": null,
      "outputs": []
    },
    {
      "cell_type": "code",
      "source": [],
      "metadata": {
        "id": "RTR4ddZUrfxI"
      },
      "execution_count": null,
      "outputs": []
    },
    {
      "cell_type": "code",
      "source": [],
      "metadata": {
        "id": "1j1bbUtLrfue"
      },
      "execution_count": null,
      "outputs": []
    },
    {
      "cell_type": "code",
      "execution_count": null,
      "metadata": {
        "id": "VyboUO3qrfFD"
      },
      "outputs": [],
      "source": []
    }
  ]
}